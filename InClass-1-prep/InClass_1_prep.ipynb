{
  "nbformat": 4,
  "nbformat_minor": 0,
  "metadata": {
    "colab": {
      "name": "InClass-1-prep.ipynb",
      "provenance": [],
      "authorship_tag": "ABX9TyP2n4aRnAgJafwQYTeJZG+9",
      "include_colab_link": true
    },
    "kernelspec": {
      "name": "python3",
      "display_name": "Python 3"
    },
    "language_info": {
      "name": "python"
    }
  },
  "cells": [
    {
      "cell_type": "markdown",
      "metadata": {
        "id": "view-in-github",
        "colab_type": "text"
      },
      "source": [
        "<a href=\"https://colab.research.google.com/github/MathiasSchindlerCPH/BSE-T2-CML2-repo/blob/main/InClass_1_prep.ipynb\" target=\"_parent\"><img src=\"https://colab.research.google.com/assets/colab-badge.svg\" alt=\"Open In Colab\"/></a>"
      ]
    },
    {
      "cell_type": "markdown",
      "source": [
        "# **In-Class Assignment 1: $k$-Nearest Neighbors**"
      ],
      "metadata": {
        "id": "zSwq2_XwRXx0"
      }
    },
    {
      "cell_type": "markdown",
      "source": [
        "*Preparation for In-Class Assignment*"
      ],
      "metadata": {
        "id": "sw4uqOKgRbSs"
      }
    },
    {
      "cell_type": "markdown",
      "source": [
        "Course: Computation Machine Learning 2\n",
        "\n",
        "Student: Mathias Schindler"
      ],
      "metadata": {
        "id": "jpiKAdlbRfZB"
      }
    },
    {
      "cell_type": "markdown",
      "source": [
        ""
      ],
      "metadata": {
        "id": "wN2LiLnORh1S"
      }
    }
  ]
}