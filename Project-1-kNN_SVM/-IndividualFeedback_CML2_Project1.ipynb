{
  "nbformat": 4,
  "nbformat_minor": 0,
  "metadata": {
    "colab": {
      "name": "Untitled4.ipynb",
      "provenance": []
    },
    "kernelspec": {
      "name": "python3",
      "display_name": "Python 3"
    },
    "language_info": {
      "name": "python"
    }
  },
  "cells": [
    {
      "cell_type": "markdown",
      "source": [
        "## Extended grading\n",
        "\n",
        "| Criteria | Weighting (%) | Score | Justification | Improvements |\n",
        "|----------|---------------|-------|---------------|---------------|\n",
        "|Code runs | 5 | 5 | | |\n",
        "|Data preparation | 15 | 15 | Some excellent exploratory data analysis and data preprocessing was done. An Age variable was engineered, comorbidity data was included (after some preprocessing in R - nice). The data was standardised and missing data was imputed. Binary encoding was used for a majority of features and weight of evidence encoding was used for the high cardinality diagnoses.\n",
        "|kNN(s) have been used | 10 | 10 | with explicit specification of neighbours, weights and distances | \n",
        "|Probability of death for each test patient is computed | 5 | 5 | \n",
        "|Accuracy | 5 | 3 | > 0.8\n",
        "|Hyperparameter optimization | 10 | 8 | Good gird searches considered, however I do not recommended searching over the algorithm, these are done for computational convenience rather than to improve the model \n",
        "|SVM(s) have been used | 10 | 10 | with explicit arguments for the kernel, the cost and kernel hyperparameters | | \n",
        "|Probability of death for each test patient is computed | 5 | 5 | \n",
        "|Accuracy | 5 | 2 | > 0.8\n",
        "|Hyperparameter optimization | 10 | 10 | over a good grid\n",
        "|Class Imbalance Managed | 5 | 5 | Over sampling for kNN and class_weight = balance for SVM with probabilities reweighted \n",
        "|Neat code with titles and comments | 5 | 5 | Excellent presentation \n",
        "|Improved methods from those discussed in class | 10 | 6 | Use of PCA, BayesSearchCV and skopt. R package to process IC codes\n",
        "\n",
        "Score: 89\n",
        "\n",
        "Feedback: Excellent work. Some excellent exploratory data analysis and data preprocessing was done. An age variable was engineered, cormorbidites were included (after some preprocessing in R). The data was standardised, missing data was imputed and categorical variables were encoded using OneHot and WeightOfEvidence encoding. Excellent understanding of kNN, SVM and how to train them using cross-validation was show. Class imbalance was dealt with and probabilities were reweighed afterwards. Attempts to use PCA were nice as was experimentation with cross-validation optimisation \n",
        "\n",
        "\n",
        "Note:\n",
        "In general we do not expect polynomial transform to be as effective here as the kNN and SVM models are already non-linear"
      ],
      "metadata": {
        "id": "eRGVNeLbZPkQ"
      }
    }
  ]
}