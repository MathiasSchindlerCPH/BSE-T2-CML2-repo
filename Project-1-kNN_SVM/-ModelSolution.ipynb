{
  "cells": [
    {
      "cell_type": "markdown",
      "metadata": {
        "id": "FfhhOZ6joPte"
      },
      "source": [
        "# Project: (K-) Nearest Neighbors & SVD\n"
      ]
    },
    {
      "cell_type": "markdown",
      "metadata": {
        "id": "ZUHBq01FoPte"
      },
      "source": [
        "## Programming project: probability of death\n",
        "\n",
        "In this project, you have to predict the probability of death of a patient that is entering an ICU (Intensive Care Unit).\n",
        "\n",
        "The dataset comes from MIMIC project (https://mimic.physionet.org/). MIMIC-III (Medical Information Mart for Intensive Care III) is a large, freely-available database comprising deidentified health-related data associated with over forty thousand patients who stayed in critical care units of the Beth Israel Deaconess Medical Center between 2001 and 2012.\n",
        "\n",
        "Each row of *mimic_train.csv* correponds to one ICU stay (*hadm_id*+*icustay_id*) of one patient (*subject_id*). Column HOSPITAL_EXPIRE_FLAG is the indicator of death (=1) as a result of the current hospital stay; this is the outcome to predict in our modelling exercise.\n",
        "The remaining columns correspond to vitals of each patient (when entering the ICU), plus some general characteristics (age, gender, etc.), and their explanation can be found at *mimic_patient_metadata.csv*. \n",
        "\n",
        "Please don't use any feature that you infer you don't know the first day of a patient in an ICU.\n",
        "\n",
        "Note that the main cause/disease of patient condition is embedded as a code at *ICD9_diagnosis* column. The meaning of this code can be found at *MIMIC_metadata_diagnose.csv*. **But** this is only the main one; a patient can have co-occurrent diseases (comorbidities). These secondary codes can be found at *extra_data/MIMIC_diagnoses.csv*.\n",
        "\n",
        "As performance metric, you can use *AUC* for the binary classification case, but feel free to report as well any other metric if you can justify that is particularly suitable for this case.\n",
        "\n",
        "Main tasks are:\n",
        "+ Using *mimic_train.csv* file build a predictive model for *HOSPITAL_EXPIRE_FLAG* .\n",
        "+ For this analysis there is an extra test dataset, *mimic_test_death.csv*. Apply your final model to this extra dataset and generate predictions following the same format as *mimic_kaggle_death_sample_submission.csv*. Once ready, you can submit to our Kaggle competition and iterate to improve the accuracy.\n",
        "\n",
        "As a *bonus*, try different algorithms for neighbor search and for distance, and justify final selection. Try also different weights to cope with class imbalance and also to balance neighbor proximity. Try to assess somehow confidence interval of predictions.\n",
        "\n",
        "You can follow those **steps** in your first implementation:\n",
        "1. *Explore* and understand the dataset. \n",
        "2. Manage missing data.\n",
        "2. Manage categorial features. E.g. create *dummy variables* for relevant categorical features, or build an ad hoc distance function.\n",
        "3. Build a prediction model. Try to improve it using methods to tackle class imbalance.\n",
        "5. Assess expected accuracy  of previous models using *cross-validation*. \n",
        "6. Test the performance on the test file and report accuracy, following same preparation steps (missing data, dummies, etc). Remember that you should be able to yield a prediction for all the rows of the test dataset.\n",
        "\n",
        "Feel free to reduce the training dataset if you experience computational constraints."
      ]
    },
    {
      "cell_type": "code",
      "source": [
        "# Mount google drive if running from Google Collab\n",
        "from google.colab import drive\n",
        "drive.mount('/content/drive')"
      ],
      "metadata": {
        "colab": {
          "base_uri": "https://localhost:8080/"
        },
        "id": "RZatgBHbnsRu",
        "outputId": "15d74e72-982e-4696-9309-de85bdc5c753"
      },
      "execution_count": null,
      "outputs": [
        {
          "output_type": "stream",
          "name": "stdout",
          "text": [
            "Mounted at /content/drive\n"
          ]
        }
      ]
    },
    {
      "cell_type": "code",
      "source": [
        "## Set current directory if running from Google Collab\n",
        "\n",
        "import os\n",
        "#os.chdir('/content/drive/My Drive/ComputationalML/nearest_neighbors/Python')\n",
        "os.chdir('/content/drive/My Drive/CM1_CM2_learning/2021_2022_classes/CM1:DSM/Assignments/')"
      ],
      "metadata": {
        "id": "2TLUi7gPnzXp"
      },
      "execution_count": null,
      "outputs": []
    },
    {
      "cell_type": "code",
      "source": [
        "!pip install category_encoders"
      ],
      "metadata": {
        "id": "MoUaN31hofAg"
      },
      "execution_count": null,
      "outputs": []
    },
    {
      "cell_type": "markdown",
      "source": [
        "Generally useful packages"
      ],
      "metadata": {
        "id": "ylEIYdlqysec"
      }
    },
    {
      "cell_type": "code",
      "execution_count": null,
      "metadata": {
        "id": "ufRAm7IOWnYJ"
      },
      "outputs": [],
      "source": [
        "# Imports\n",
        "import pandas as pd\n",
        "import numpy as np\n",
        "%matplotlib inline\n",
        "import matplotlib.pylab as plt\n",
        "import seaborn as sns\n",
        "import sklearn\n"
      ]
    },
    {
      "cell_type": "markdown",
      "source": [
        "# Loading the data"
      ],
      "metadata": {
        "id": "WF5NftbSWwhc"
      }
    },
    {
      "cell_type": "code",
      "execution_count": null,
      "metadata": {
        "id": "Z-hjuBKAoPtg",
        "colab": {
          "base_uri": "https://localhost:8080/",
          "height": 226
        },
        "outputId": "fd6c4ef5-a3b0-454b-aa33-8d86a07d9f67"
      },
      "outputs": [
        {
          "output_type": "execute_result",
          "data": {
            "text/html": [
              "\n",
              "  <div id=\"df-c5d55858-973b-4919-a9f7-4be73d276386\">\n",
              "    <div class=\"colab-df-container\">\n",
              "      <div>\n",
              "<style scoped>\n",
              "    .dataframe tbody tr th:only-of-type {\n",
              "        vertical-align: middle;\n",
              "    }\n",
              "\n",
              "    .dataframe tbody tr th {\n",
              "        vertical-align: top;\n",
              "    }\n",
              "\n",
              "    .dataframe thead th {\n",
              "        text-align: right;\n",
              "    }\n",
              "</style>\n",
              "<table border=\"1\" class=\"dataframe\">\n",
              "  <thead>\n",
              "    <tr style=\"text-align: right;\">\n",
              "      <th></th>\n",
              "      <th>HOSPITAL_EXPIRE_FLAG</th>\n",
              "      <th>subject_id</th>\n",
              "      <th>hadm_id</th>\n",
              "      <th>icustay_id</th>\n",
              "      <th>HeartRate_Min</th>\n",
              "      <th>HeartRate_Max</th>\n",
              "      <th>HeartRate_Mean</th>\n",
              "      <th>SysBP_Min</th>\n",
              "      <th>SysBP_Max</th>\n",
              "      <th>SysBP_Mean</th>\n",
              "      <th>...</th>\n",
              "      <th>Diff</th>\n",
              "      <th>ADMISSION_TYPE</th>\n",
              "      <th>INSURANCE</th>\n",
              "      <th>RELIGION</th>\n",
              "      <th>MARITAL_STATUS</th>\n",
              "      <th>ETHNICITY</th>\n",
              "      <th>DIAGNOSIS</th>\n",
              "      <th>ICD9_diagnosis</th>\n",
              "      <th>FIRST_CAREUNIT</th>\n",
              "      <th>LOS</th>\n",
              "    </tr>\n",
              "  </thead>\n",
              "  <tbody>\n",
              "    <tr>\n",
              "      <th>0</th>\n",
              "      <td>0</td>\n",
              "      <td>55440</td>\n",
              "      <td>195768</td>\n",
              "      <td>228357</td>\n",
              "      <td>89.0</td>\n",
              "      <td>145.0</td>\n",
              "      <td>121.043478</td>\n",
              "      <td>74.0</td>\n",
              "      <td>127.0</td>\n",
              "      <td>106.586957</td>\n",
              "      <td>...</td>\n",
              "      <td>-61961.78470</td>\n",
              "      <td>EMERGENCY</td>\n",
              "      <td>Medicare</td>\n",
              "      <td>PROTESTANT QUAKER</td>\n",
              "      <td>SINGLE</td>\n",
              "      <td>WHITE</td>\n",
              "      <td>GASTROINTESTINAL BLEED</td>\n",
              "      <td>5789</td>\n",
              "      <td>MICU</td>\n",
              "      <td>4.5761</td>\n",
              "    </tr>\n",
              "    <tr>\n",
              "      <th>1</th>\n",
              "      <td>0</td>\n",
              "      <td>76908</td>\n",
              "      <td>126136</td>\n",
              "      <td>221004</td>\n",
              "      <td>63.0</td>\n",
              "      <td>110.0</td>\n",
              "      <td>79.117647</td>\n",
              "      <td>89.0</td>\n",
              "      <td>121.0</td>\n",
              "      <td>106.733333</td>\n",
              "      <td>...</td>\n",
              "      <td>-43146.18378</td>\n",
              "      <td>EMERGENCY</td>\n",
              "      <td>Private</td>\n",
              "      <td>UNOBTAINABLE</td>\n",
              "      <td>MARRIED</td>\n",
              "      <td>WHITE</td>\n",
              "      <td>ESOPHAGEAL FOOD IMPACTION</td>\n",
              "      <td>53013</td>\n",
              "      <td>MICU</td>\n",
              "      <td>0.7582</td>\n",
              "    </tr>\n",
              "    <tr>\n",
              "      <th>2</th>\n",
              "      <td>0</td>\n",
              "      <td>95798</td>\n",
              "      <td>136645</td>\n",
              "      <td>296315</td>\n",
              "      <td>81.0</td>\n",
              "      <td>98.0</td>\n",
              "      <td>91.689655</td>\n",
              "      <td>88.0</td>\n",
              "      <td>138.0</td>\n",
              "      <td>112.785714</td>\n",
              "      <td>...</td>\n",
              "      <td>-42009.96157</td>\n",
              "      <td>EMERGENCY</td>\n",
              "      <td>Medicare</td>\n",
              "      <td>PROTESTANT QUAKER</td>\n",
              "      <td>SEPARATED</td>\n",
              "      <td>BLACK/AFRICAN AMERICAN</td>\n",
              "      <td>UPPER GI BLEED</td>\n",
              "      <td>56983</td>\n",
              "      <td>MICU</td>\n",
              "      <td>3.7626</td>\n",
              "    </tr>\n",
              "    <tr>\n",
              "      <th>3</th>\n",
              "      <td>0</td>\n",
              "      <td>40708</td>\n",
              "      <td>102505</td>\n",
              "      <td>245557</td>\n",
              "      <td>76.0</td>\n",
              "      <td>128.0</td>\n",
              "      <td>98.857143</td>\n",
              "      <td>84.0</td>\n",
              "      <td>135.0</td>\n",
              "      <td>106.972973</td>\n",
              "      <td>...</td>\n",
              "      <td>-43585.37922</td>\n",
              "      <td>ELECTIVE</td>\n",
              "      <td>Medicare</td>\n",
              "      <td>NOT SPECIFIED</td>\n",
              "      <td>WIDOWED</td>\n",
              "      <td>WHITE</td>\n",
              "      <td>HIATAL HERNIA/SDA</td>\n",
              "      <td>5533</td>\n",
              "      <td>SICU</td>\n",
              "      <td>3.8734</td>\n",
              "    </tr>\n",
              "    <tr>\n",
              "      <th>4</th>\n",
              "      <td>0</td>\n",
              "      <td>28424</td>\n",
              "      <td>127337</td>\n",
              "      <td>225281</td>\n",
              "      <td>NaN</td>\n",
              "      <td>NaN</td>\n",
              "      <td>NaN</td>\n",
              "      <td>NaN</td>\n",
              "      <td>NaN</td>\n",
              "      <td>NaN</td>\n",
              "      <td>...</td>\n",
              "      <td>-50271.76602</td>\n",
              "      <td>EMERGENCY</td>\n",
              "      <td>Medicare</td>\n",
              "      <td>JEWISH</td>\n",
              "      <td>WIDOWED</td>\n",
              "      <td>WHITE</td>\n",
              "      <td>ABDOMINAL PAIN</td>\n",
              "      <td>56211</td>\n",
              "      <td>TSICU</td>\n",
              "      <td>5.8654</td>\n",
              "    </tr>\n",
              "  </tbody>\n",
              "</table>\n",
              "<p>5 rows × 41 columns</p>\n",
              "</div>\n",
              "      <button class=\"colab-df-convert\" onclick=\"convertToInteractive('df-c5d55858-973b-4919-a9f7-4be73d276386')\"\n",
              "              title=\"Convert this dataframe to an interactive table.\"\n",
              "              style=\"display:none;\">\n",
              "        \n",
              "  <svg xmlns=\"http://www.w3.org/2000/svg\" height=\"24px\"viewBox=\"0 0 24 24\"\n",
              "       width=\"24px\">\n",
              "    <path d=\"M0 0h24v24H0V0z\" fill=\"none\"/>\n",
              "    <path d=\"M18.56 5.44l.94 2.06.94-2.06 2.06-.94-2.06-.94-.94-2.06-.94 2.06-2.06.94zm-11 1L8.5 8.5l.94-2.06 2.06-.94-2.06-.94L8.5 2.5l-.94 2.06-2.06.94zm10 10l.94 2.06.94-2.06 2.06-.94-2.06-.94-.94-2.06-.94 2.06-2.06.94z\"/><path d=\"M17.41 7.96l-1.37-1.37c-.4-.4-.92-.59-1.43-.59-.52 0-1.04.2-1.43.59L10.3 9.45l-7.72 7.72c-.78.78-.78 2.05 0 2.83L4 21.41c.39.39.9.59 1.41.59.51 0 1.02-.2 1.41-.59l7.78-7.78 2.81-2.81c.8-.78.8-2.07 0-2.86zM5.41 20L4 18.59l7.72-7.72 1.47 1.35L5.41 20z\"/>\n",
              "  </svg>\n",
              "      </button>\n",
              "      \n",
              "  <style>\n",
              "    .colab-df-container {\n",
              "      display:flex;\n",
              "      flex-wrap:wrap;\n",
              "      gap: 12px;\n",
              "    }\n",
              "\n",
              "    .colab-df-convert {\n",
              "      background-color: #E8F0FE;\n",
              "      border: none;\n",
              "      border-radius: 50%;\n",
              "      cursor: pointer;\n",
              "      display: none;\n",
              "      fill: #1967D2;\n",
              "      height: 32px;\n",
              "      padding: 0 0 0 0;\n",
              "      width: 32px;\n",
              "    }\n",
              "\n",
              "    .colab-df-convert:hover {\n",
              "      background-color: #E2EBFA;\n",
              "      box-shadow: 0px 1px 2px rgba(60, 64, 67, 0.3), 0px 1px 3px 1px rgba(60, 64, 67, 0.15);\n",
              "      fill: #174EA6;\n",
              "    }\n",
              "\n",
              "    [theme=dark] .colab-df-convert {\n",
              "      background-color: #3B4455;\n",
              "      fill: #D2E3FC;\n",
              "    }\n",
              "\n",
              "    [theme=dark] .colab-df-convert:hover {\n",
              "      background-color: #434B5C;\n",
              "      box-shadow: 0px 1px 3px 1px rgba(0, 0, 0, 0.15);\n",
              "      filter: drop-shadow(0px 1px 2px rgba(0, 0, 0, 0.3));\n",
              "      fill: #FFFFFF;\n",
              "    }\n",
              "  </style>\n",
              "\n",
              "      <script>\n",
              "        const buttonEl =\n",
              "          document.querySelector('#df-c5d55858-973b-4919-a9f7-4be73d276386 button.colab-df-convert');\n",
              "        buttonEl.style.display =\n",
              "          google.colab.kernel.accessAllowed ? 'block' : 'none';\n",
              "\n",
              "        async function convertToInteractive(key) {\n",
              "          const element = document.querySelector('#df-c5d55858-973b-4919-a9f7-4be73d276386');\n",
              "          const dataTable =\n",
              "            await google.colab.kernel.invokeFunction('convertToInteractive',\n",
              "                                                     [key], {});\n",
              "          if (!dataTable) return;\n",
              "\n",
              "          const docLinkHtml = 'Like what you see? Visit the ' +\n",
              "            '<a target=\"_blank\" href=https://colab.research.google.com/notebooks/data_table.ipynb>data table notebook</a>'\n",
              "            + ' to learn more about interactive tables.';\n",
              "          element.innerHTML = '';\n",
              "          dataTable['output_type'] = 'display_data';\n",
              "          await google.colab.output.renderOutput(dataTable, element);\n",
              "          const docLink = document.createElement('div');\n",
              "          docLink.innerHTML = docLinkHtml;\n",
              "          element.appendChild(docLink);\n",
              "        }\n",
              "      </script>\n",
              "    </div>\n",
              "  </div>\n",
              "  "
            ],
            "text/plain": [
              "   HOSPITAL_EXPIRE_FLAG  subject_id  hadm_id  icustay_id  HeartRate_Min  \\\n",
              "0                     0       55440   195768      228357           89.0   \n",
              "1                     0       76908   126136      221004           63.0   \n",
              "2                     0       95798   136645      296315           81.0   \n",
              "3                     0       40708   102505      245557           76.0   \n",
              "4                     0       28424   127337      225281            NaN   \n",
              "\n",
              "   HeartRate_Max  HeartRate_Mean  SysBP_Min  SysBP_Max  SysBP_Mean  ...  \\\n",
              "0          145.0      121.043478       74.0      127.0  106.586957  ...   \n",
              "1          110.0       79.117647       89.0      121.0  106.733333  ...   \n",
              "2           98.0       91.689655       88.0      138.0  112.785714  ...   \n",
              "3          128.0       98.857143       84.0      135.0  106.972973  ...   \n",
              "4            NaN             NaN        NaN        NaN         NaN  ...   \n",
              "\n",
              "          Diff  ADMISSION_TYPE  INSURANCE           RELIGION  MARITAL_STATUS  \\\n",
              "0 -61961.78470       EMERGENCY   Medicare  PROTESTANT QUAKER          SINGLE   \n",
              "1 -43146.18378       EMERGENCY    Private       UNOBTAINABLE         MARRIED   \n",
              "2 -42009.96157       EMERGENCY   Medicare  PROTESTANT QUAKER       SEPARATED   \n",
              "3 -43585.37922        ELECTIVE   Medicare      NOT SPECIFIED         WIDOWED   \n",
              "4 -50271.76602       EMERGENCY   Medicare             JEWISH         WIDOWED   \n",
              "\n",
              "                ETHNICITY                  DIAGNOSIS  ICD9_diagnosis  \\\n",
              "0                   WHITE     GASTROINTESTINAL BLEED            5789   \n",
              "1                   WHITE  ESOPHAGEAL FOOD IMPACTION           53013   \n",
              "2  BLACK/AFRICAN AMERICAN             UPPER GI BLEED           56983   \n",
              "3                   WHITE          HIATAL HERNIA/SDA            5533   \n",
              "4                   WHITE             ABDOMINAL PAIN           56211   \n",
              "\n",
              "   FIRST_CAREUNIT     LOS  \n",
              "0            MICU  4.5761  \n",
              "1            MICU  0.7582  \n",
              "2            MICU  3.7626  \n",
              "3            SICU  3.8734  \n",
              "4           TSICU  5.8654  \n",
              "\n",
              "[5 rows x 41 columns]"
            ]
          },
          "metadata": {},
          "execution_count": 6
        }
      ],
      "source": [
        "# Training dataset\n",
        "train = pd.read_csv('bgse-svm-death/mimic_train.csv')\n",
        "train.head()"
      ]
    },
    {
      "cell_type": "code",
      "execution_count": null,
      "metadata": {
        "id": "PYOeJhoPoPti",
        "colab": {
          "base_uri": "https://localhost:8080/",
          "height": 226
        },
        "outputId": "8d59fecb-77ef-4c0f-8228-383e43482afa"
      },
      "outputs": [
        {
          "output_type": "execute_result",
          "data": {
            "text/html": [
              "\n",
              "  <div id=\"df-f058b0b6-9e3d-4030-98a8-a2e0a153ed4b\">\n",
              "    <div class=\"colab-df-container\">\n",
              "      <div>\n",
              "<style scoped>\n",
              "    .dataframe tbody tr th:only-of-type {\n",
              "        vertical-align: middle;\n",
              "    }\n",
              "\n",
              "    .dataframe tbody tr th {\n",
              "        vertical-align: top;\n",
              "    }\n",
              "\n",
              "    .dataframe thead th {\n",
              "        text-align: right;\n",
              "    }\n",
              "</style>\n",
              "<table border=\"1\" class=\"dataframe\">\n",
              "  <thead>\n",
              "    <tr style=\"text-align: right;\">\n",
              "      <th></th>\n",
              "      <th>subject_id</th>\n",
              "      <th>hadm_id</th>\n",
              "      <th>icustay_id</th>\n",
              "      <th>HeartRate_Min</th>\n",
              "      <th>HeartRate_Max</th>\n",
              "      <th>HeartRate_Mean</th>\n",
              "      <th>SysBP_Min</th>\n",
              "      <th>SysBP_Max</th>\n",
              "      <th>SysBP_Mean</th>\n",
              "      <th>DiasBP_Min</th>\n",
              "      <th>...</th>\n",
              "      <th>ADMITTIME</th>\n",
              "      <th>Diff</th>\n",
              "      <th>ADMISSION_TYPE</th>\n",
              "      <th>INSURANCE</th>\n",
              "      <th>RELIGION</th>\n",
              "      <th>MARITAL_STATUS</th>\n",
              "      <th>ETHNICITY</th>\n",
              "      <th>DIAGNOSIS</th>\n",
              "      <th>ICD9_diagnosis</th>\n",
              "      <th>FIRST_CAREUNIT</th>\n",
              "    </tr>\n",
              "  </thead>\n",
              "  <tbody>\n",
              "    <tr>\n",
              "      <th>4930</th>\n",
              "      <td>93535</td>\n",
              "      <td>121562</td>\n",
              "      <td>200011</td>\n",
              "      <td>56.0</td>\n",
              "      <td>82.0</td>\n",
              "      <td>71.205128</td>\n",
              "      <td>123.0</td>\n",
              "      <td>185.0</td>\n",
              "      <td>156.411765</td>\n",
              "      <td>37.0</td>\n",
              "      <td>...</td>\n",
              "      <td>2188-08-05 20:27:00</td>\n",
              "      <td>-64881.43517</td>\n",
              "      <td>EMERGENCY</td>\n",
              "      <td>Medicare</td>\n",
              "      <td>JEWISH</td>\n",
              "      <td>SINGLE</td>\n",
              "      <td>WHITE</td>\n",
              "      <td>ASTHMA;COPD EXACERBATION</td>\n",
              "      <td>49322</td>\n",
              "      <td>MICU</td>\n",
              "    </tr>\n",
              "    <tr>\n",
              "      <th>1052</th>\n",
              "      <td>30375</td>\n",
              "      <td>177945</td>\n",
              "      <td>200044</td>\n",
              "      <td>NaN</td>\n",
              "      <td>NaN</td>\n",
              "      <td>NaN</td>\n",
              "      <td>NaN</td>\n",
              "      <td>NaN</td>\n",
              "      <td>NaN</td>\n",
              "      <td>NaN</td>\n",
              "      <td>...</td>\n",
              "      <td>2135-07-07 16:13:00</td>\n",
              "      <td>-46540.62661</td>\n",
              "      <td>EMERGENCY</td>\n",
              "      <td>Medicare</td>\n",
              "      <td>CATHOLIC</td>\n",
              "      <td>WIDOWED</td>\n",
              "      <td>WHITE</td>\n",
              "      <td>HEAD BLEED</td>\n",
              "      <td>85220</td>\n",
              "      <td>SICU</td>\n",
              "    </tr>\n",
              "    <tr>\n",
              "      <th>3412</th>\n",
              "      <td>73241</td>\n",
              "      <td>149216</td>\n",
              "      <td>200049</td>\n",
              "      <td>54.0</td>\n",
              "      <td>76.0</td>\n",
              "      <td>64.833333</td>\n",
              "      <td>95.0</td>\n",
              "      <td>167.0</td>\n",
              "      <td>114.545455</td>\n",
              "      <td>33.0</td>\n",
              "      <td>...</td>\n",
              "      <td>2118-08-14 22:27:00</td>\n",
              "      <td>-38956.85890</td>\n",
              "      <td>EMERGENCY</td>\n",
              "      <td>Private</td>\n",
              "      <td>JEWISH</td>\n",
              "      <td>MARRIED</td>\n",
              "      <td>WHITE</td>\n",
              "      <td>HEPATIC ENCEPHALOPATHY</td>\n",
              "      <td>5722</td>\n",
              "      <td>MICU</td>\n",
              "    </tr>\n",
              "    <tr>\n",
              "      <th>1725</th>\n",
              "      <td>99052</td>\n",
              "      <td>129142</td>\n",
              "      <td>200063</td>\n",
              "      <td>85.0</td>\n",
              "      <td>102.0</td>\n",
              "      <td>92.560976</td>\n",
              "      <td>91.0</td>\n",
              "      <td>131.0</td>\n",
              "      <td>108.365854</td>\n",
              "      <td>42.0</td>\n",
              "      <td>...</td>\n",
              "      <td>2141-03-09 23:19:00</td>\n",
              "      <td>-47014.25437</td>\n",
              "      <td>EMERGENCY</td>\n",
              "      <td>Medicaid</td>\n",
              "      <td>NOT SPECIFIED</td>\n",
              "      <td>SINGLE</td>\n",
              "      <td>UNKNOWN/NOT SPECIFIED</td>\n",
              "      <td>TYPE A DISSECTION</td>\n",
              "      <td>44101</td>\n",
              "      <td>CSRU</td>\n",
              "    </tr>\n",
              "    <tr>\n",
              "      <th>981</th>\n",
              "      <td>51698</td>\n",
              "      <td>190004</td>\n",
              "      <td>200081</td>\n",
              "      <td>82.0</td>\n",
              "      <td>133.0</td>\n",
              "      <td>94.323529</td>\n",
              "      <td>86.0</td>\n",
              "      <td>143.0</td>\n",
              "      <td>111.093750</td>\n",
              "      <td>47.0</td>\n",
              "      <td>...</td>\n",
              "      <td>2142-02-23 06:56:00</td>\n",
              "      <td>-47377.26087</td>\n",
              "      <td>EMERGENCY</td>\n",
              "      <td>Medicare</td>\n",
              "      <td>OTHER</td>\n",
              "      <td>MARRIED</td>\n",
              "      <td>PORTUGUESE</td>\n",
              "      <td>PULMONARY EMBOLISM</td>\n",
              "      <td>41519</td>\n",
              "      <td>CCU</td>\n",
              "    </tr>\n",
              "  </tbody>\n",
              "</table>\n",
              "<p>5 rows × 39 columns</p>\n",
              "</div>\n",
              "      <button class=\"colab-df-convert\" onclick=\"convertToInteractive('df-f058b0b6-9e3d-4030-98a8-a2e0a153ed4b')\"\n",
              "              title=\"Convert this dataframe to an interactive table.\"\n",
              "              style=\"display:none;\">\n",
              "        \n",
              "  <svg xmlns=\"http://www.w3.org/2000/svg\" height=\"24px\"viewBox=\"0 0 24 24\"\n",
              "       width=\"24px\">\n",
              "    <path d=\"M0 0h24v24H0V0z\" fill=\"none\"/>\n",
              "    <path d=\"M18.56 5.44l.94 2.06.94-2.06 2.06-.94-2.06-.94-.94-2.06-.94 2.06-2.06.94zm-11 1L8.5 8.5l.94-2.06 2.06-.94-2.06-.94L8.5 2.5l-.94 2.06-2.06.94zm10 10l.94 2.06.94-2.06 2.06-.94-2.06-.94-.94-2.06-.94 2.06-2.06.94z\"/><path d=\"M17.41 7.96l-1.37-1.37c-.4-.4-.92-.59-1.43-.59-.52 0-1.04.2-1.43.59L10.3 9.45l-7.72 7.72c-.78.78-.78 2.05 0 2.83L4 21.41c.39.39.9.59 1.41.59.51 0 1.02-.2 1.41-.59l7.78-7.78 2.81-2.81c.8-.78.8-2.07 0-2.86zM5.41 20L4 18.59l7.72-7.72 1.47 1.35L5.41 20z\"/>\n",
              "  </svg>\n",
              "      </button>\n",
              "      \n",
              "  <style>\n",
              "    .colab-df-container {\n",
              "      display:flex;\n",
              "      flex-wrap:wrap;\n",
              "      gap: 12px;\n",
              "    }\n",
              "\n",
              "    .colab-df-convert {\n",
              "      background-color: #E8F0FE;\n",
              "      border: none;\n",
              "      border-radius: 50%;\n",
              "      cursor: pointer;\n",
              "      display: none;\n",
              "      fill: #1967D2;\n",
              "      height: 32px;\n",
              "      padding: 0 0 0 0;\n",
              "      width: 32px;\n",
              "    }\n",
              "\n",
              "    .colab-df-convert:hover {\n",
              "      background-color: #E2EBFA;\n",
              "      box-shadow: 0px 1px 2px rgba(60, 64, 67, 0.3), 0px 1px 3px 1px rgba(60, 64, 67, 0.15);\n",
              "      fill: #174EA6;\n",
              "    }\n",
              "\n",
              "    [theme=dark] .colab-df-convert {\n",
              "      background-color: #3B4455;\n",
              "      fill: #D2E3FC;\n",
              "    }\n",
              "\n",
              "    [theme=dark] .colab-df-convert:hover {\n",
              "      background-color: #434B5C;\n",
              "      box-shadow: 0px 1px 3px 1px rgba(0, 0, 0, 0.15);\n",
              "      filter: drop-shadow(0px 1px 2px rgba(0, 0, 0, 0.3));\n",
              "      fill: #FFFFFF;\n",
              "    }\n",
              "  </style>\n",
              "\n",
              "      <script>\n",
              "        const buttonEl =\n",
              "          document.querySelector('#df-f058b0b6-9e3d-4030-98a8-a2e0a153ed4b button.colab-df-convert');\n",
              "        buttonEl.style.display =\n",
              "          google.colab.kernel.accessAllowed ? 'block' : 'none';\n",
              "\n",
              "        async function convertToInteractive(key) {\n",
              "          const element = document.querySelector('#df-f058b0b6-9e3d-4030-98a8-a2e0a153ed4b');\n",
              "          const dataTable =\n",
              "            await google.colab.kernel.invokeFunction('convertToInteractive',\n",
              "                                                     [key], {});\n",
              "          if (!dataTable) return;\n",
              "\n",
              "          const docLinkHtml = 'Like what you see? Visit the ' +\n",
              "            '<a target=\"_blank\" href=https://colab.research.google.com/notebooks/data_table.ipynb>data table notebook</a>'\n",
              "            + ' to learn more about interactive tables.';\n",
              "          element.innerHTML = '';\n",
              "          dataTable['output_type'] = 'display_data';\n",
              "          await google.colab.output.renderOutput(dataTable, element);\n",
              "          const docLink = document.createElement('div');\n",
              "          docLink.innerHTML = docLinkHtml;\n",
              "          element.appendChild(docLink);\n",
              "        }\n",
              "      </script>\n",
              "    </div>\n",
              "  </div>\n",
              "  "
            ],
            "text/plain": [
              "      subject_id  hadm_id  icustay_id  HeartRate_Min  HeartRate_Max  \\\n",
              "4930       93535   121562      200011           56.0           82.0   \n",
              "1052       30375   177945      200044            NaN            NaN   \n",
              "3412       73241   149216      200049           54.0           76.0   \n",
              "1725       99052   129142      200063           85.0          102.0   \n",
              "981        51698   190004      200081           82.0          133.0   \n",
              "\n",
              "      HeartRate_Mean  SysBP_Min  SysBP_Max  SysBP_Mean  DiasBP_Min  ...  \\\n",
              "4930       71.205128      123.0      185.0  156.411765        37.0  ...   \n",
              "1052             NaN        NaN        NaN         NaN         NaN  ...   \n",
              "3412       64.833333       95.0      167.0  114.545455        33.0  ...   \n",
              "1725       92.560976       91.0      131.0  108.365854        42.0  ...   \n",
              "981        94.323529       86.0      143.0  111.093750        47.0  ...   \n",
              "\n",
              "                ADMITTIME         Diff  ADMISSION_TYPE  INSURANCE  \\\n",
              "4930  2188-08-05 20:27:00 -64881.43517       EMERGENCY   Medicare   \n",
              "1052  2135-07-07 16:13:00 -46540.62661       EMERGENCY   Medicare   \n",
              "3412  2118-08-14 22:27:00 -38956.85890       EMERGENCY    Private   \n",
              "1725  2141-03-09 23:19:00 -47014.25437       EMERGENCY   Medicaid   \n",
              "981   2142-02-23 06:56:00 -47377.26087       EMERGENCY   Medicare   \n",
              "\n",
              "           RELIGION  MARITAL_STATUS              ETHNICITY  \\\n",
              "4930         JEWISH          SINGLE                  WHITE   \n",
              "1052       CATHOLIC         WIDOWED                  WHITE   \n",
              "3412         JEWISH         MARRIED                  WHITE   \n",
              "1725  NOT SPECIFIED          SINGLE  UNKNOWN/NOT SPECIFIED   \n",
              "981           OTHER         MARRIED             PORTUGUESE   \n",
              "\n",
              "                     DIAGNOSIS  ICD9_diagnosis  FIRST_CAREUNIT  \n",
              "4930  ASTHMA;COPD EXACERBATION           49322            MICU  \n",
              "1052                HEAD BLEED           85220            SICU  \n",
              "3412    HEPATIC ENCEPHALOPATHY            5722            MICU  \n",
              "1725         TYPE A DISSECTION           44101            CSRU  \n",
              "981         PULMONARY EMBOLISM           41519             CCU  \n",
              "\n",
              "[5 rows x 39 columns]"
            ]
          },
          "metadata": {},
          "execution_count": 7
        }
      ],
      "source": [
        "# Test dataset (to produce predictions)\n",
        "test = pd.read_csv('bgse-svm-death/mimic_test_death.csv')\n",
        "test.sort_values('icustay_id').head()"
      ]
    },
    {
      "cell_type": "code",
      "execution_count": null,
      "metadata": {
        "id": "q1BffaUPWnYN",
        "outputId": "20f2ae22-b5fd-4d42-aa10-6a60425307fa",
        "colab": {
          "base_uri": "https://localhost:8080/"
        }
      },
      "outputs": [
        {
          "output_type": "execute_result",
          "data": {
            "text/plain": [
              "Index(['HOSPITAL_EXPIRE_FLAG', 'subject_id', 'hadm_id', 'icustay_id',\n",
              "       'HeartRate_Min', 'HeartRate_Max', 'HeartRate_Mean', 'SysBP_Min',\n",
              "       'SysBP_Max', 'SysBP_Mean', 'DiasBP_Min', 'DiasBP_Max', 'DiasBP_Mean',\n",
              "       'MeanBP_Min', 'MeanBP_Max', 'MeanBP_Mean', 'RespRate_Min',\n",
              "       'RespRate_Max', 'RespRate_Mean', 'TempC_Min', 'TempC_Max', 'TempC_Mean',\n",
              "       'SpO2_Min', 'SpO2_Max', 'SpO2_Mean', 'Glucose_Min', 'Glucose_Max',\n",
              "       'Glucose_Mean', 'GENDER', 'DOB', 'ADMITTIME', 'Diff', 'ADMISSION_TYPE',\n",
              "       'INSURANCE', 'RELIGION', 'MARITAL_STATUS', 'ETHNICITY', 'DIAGNOSIS',\n",
              "       'ICD9_diagnosis', 'FIRST_CAREUNIT', 'LOS'],\n",
              "      dtype='object')"
            ]
          },
          "metadata": {},
          "execution_count": 8
        }
      ],
      "source": [
        "# Obtaining list of features - train\n",
        "train.columns"
      ]
    },
    {
      "cell_type": "code",
      "execution_count": null,
      "metadata": {
        "id": "k34xICpyWnYO",
        "outputId": "c01316ee-62e4-4e7b-9116-3e09833164ca",
        "colab": {
          "base_uri": "https://localhost:8080/"
        }
      },
      "outputs": [
        {
          "output_type": "execute_result",
          "data": {
            "text/plain": [
              "Index(['subject_id', 'hadm_id', 'icustay_id', 'HeartRate_Min', 'HeartRate_Max',\n",
              "       'HeartRate_Mean', 'SysBP_Min', 'SysBP_Max', 'SysBP_Mean', 'DiasBP_Min',\n",
              "       'DiasBP_Max', 'DiasBP_Mean', 'MeanBP_Min', 'MeanBP_Max', 'MeanBP_Mean',\n",
              "       'RespRate_Min', 'RespRate_Max', 'RespRate_Mean', 'TempC_Min',\n",
              "       'TempC_Max', 'TempC_Mean', 'SpO2_Min', 'SpO2_Max', 'SpO2_Mean',\n",
              "       'Glucose_Min', 'Glucose_Max', 'Glucose_Mean', 'GENDER', 'DOB',\n",
              "       'ADMITTIME', 'Diff', 'ADMISSION_TYPE', 'INSURANCE', 'RELIGION',\n",
              "       'MARITAL_STATUS', 'ETHNICITY', 'DIAGNOSIS', 'ICD9_diagnosis',\n",
              "       'FIRST_CAREUNIT'],\n",
              "      dtype='object')"
            ]
          },
          "metadata": {},
          "execution_count": 9
        }
      ],
      "source": [
        "# Obtaining list of features - test\n",
        "test.columns"
      ]
    },
    {
      "cell_type": "markdown",
      "metadata": {
        "id": "_migwekOWnYO"
      },
      "source": [
        "Dropping columns = 'DOD', 'DISCHTIME', 'DEATHTIME', 'LOS'"
      ]
    },
    {
      "cell_type": "code",
      "execution_count": null,
      "metadata": {
        "id": "ED6xVbD4WnYO",
        "outputId": "29a9955a-60cc-41bc-819f-23023001639b",
        "colab": {
          "base_uri": "https://localhost:8080/"
        }
      },
      "outputs": [
        {
          "output_type": "execute_result",
          "data": {
            "text/plain": [
              "(20885, 40)"
            ]
          },
          "metadata": {},
          "execution_count": 10
        }
      ],
      "source": [
        "# Dropping the different columns from the training data\n",
        "#extra = ['DOD', 'DISCHTIME', 'DEATHTIME', 'LOS']\n",
        "extra = ['LOS']\n",
        "train = train.drop(extra, axis=1)\n",
        "train.shape"
      ]
    },
    {
      "cell_type": "markdown",
      "source": [
        "Do we have missing data?"
      ],
      "metadata": {
        "id": "DkJoo70TW5hy"
      }
    },
    {
      "cell_type": "code",
      "execution_count": null,
      "metadata": {
        "id": "OH28cx3IWnYP",
        "outputId": "5e495e29-c8c7-4100-bb3a-66661d6a97ba",
        "colab": {
          "base_uri": "https://localhost:8080/"
        }
      },
      "outputs": [
        {
          "output_type": "execute_result",
          "data": {
            "text/plain": [
              "HOSPITAL_EXPIRE_FLAG       0\n",
              "subject_id                 0\n",
              "hadm_id                    0\n",
              "icustay_id                 0\n",
              "HeartRate_Min           2187\n",
              "HeartRate_Max           2187\n",
              "HeartRate_Mean          2187\n",
              "SysBP_Min               2208\n",
              "SysBP_Max               2208\n",
              "SysBP_Mean              2208\n",
              "DiasBP_Min              2209\n",
              "DiasBP_Max              2209\n",
              "DiasBP_Mean             2209\n",
              "MeanBP_Min              2186\n",
              "MeanBP_Max              2186\n",
              "MeanBP_Mean             2186\n",
              "RespRate_Min            2189\n",
              "RespRate_Max            2189\n",
              "RespRate_Mean           2189\n",
              "TempC_Min               2497\n",
              "TempC_Max               2497\n",
              "TempC_Mean              2497\n",
              "SpO2_Min                2203\n",
              "SpO2_Max                2203\n",
              "SpO2_Mean               2203\n",
              "Glucose_Min              253\n",
              "Glucose_Max              253\n",
              "Glucose_Mean             253\n",
              "GENDER                     0\n",
              "DOB                        0\n",
              "ADMITTIME                  0\n",
              "Diff                       0\n",
              "ADMISSION_TYPE             0\n",
              "INSURANCE                  0\n",
              "RELIGION                   0\n",
              "MARITAL_STATUS           722\n",
              "ETHNICITY                  0\n",
              "DIAGNOSIS                  0\n",
              "ICD9_diagnosis             0\n",
              "FIRST_CAREUNIT             0\n",
              "dtype: int64"
            ]
          },
          "metadata": {},
          "execution_count": 11
        }
      ],
      "source": [
        "# Checking for Nulls - train\n",
        "train.isnull().sum()"
      ]
    },
    {
      "cell_type": "code",
      "execution_count": null,
      "metadata": {
        "id": "jBm79wijWnYQ",
        "outputId": "1a2d4ca7-15d6-45b5-a319-bfd17d30fa63",
        "colab": {
          "base_uri": "https://localhost:8080/"
        }
      },
      "outputs": [
        {
          "output_type": "execute_result",
          "data": {
            "text/plain": [
              "subject_id          0\n",
              "hadm_id             0\n",
              "icustay_id          0\n",
              "HeartRate_Min     545\n",
              "HeartRate_Max     545\n",
              "HeartRate_Mean    545\n",
              "SysBP_Min         551\n",
              "SysBP_Max         551\n",
              "SysBP_Mean        551\n",
              "DiasBP_Min        552\n",
              "DiasBP_Max        552\n",
              "DiasBP_Mean       552\n",
              "MeanBP_Min        547\n",
              "MeanBP_Max        547\n",
              "MeanBP_Mean       547\n",
              "RespRate_Min      546\n",
              "RespRate_Max      546\n",
              "RespRate_Mean     546\n",
              "TempC_Min         638\n",
              "TempC_Max         638\n",
              "TempC_Mean        638\n",
              "SpO2_Min          551\n",
              "SpO2_Max          551\n",
              "SpO2_Mean         551\n",
              "Glucose_Min        58\n",
              "Glucose_Max        58\n",
              "Glucose_Mean       58\n",
              "GENDER              0\n",
              "DOB                 0\n",
              "ADMITTIME           0\n",
              "Diff                0\n",
              "ADMISSION_TYPE      0\n",
              "INSURANCE           0\n",
              "RELIGION            0\n",
              "MARITAL_STATUS    180\n",
              "ETHNICITY           0\n",
              "DIAGNOSIS           0\n",
              "ICD9_diagnosis      0\n",
              "FIRST_CAREUNIT      0\n",
              "dtype: int64"
            ]
          },
          "metadata": {},
          "execution_count": 12
        }
      ],
      "source": [
        "# Checking for Nulls - test\n",
        "test.isnull().sum()"
      ]
    },
    {
      "cell_type": "markdown",
      "metadata": {
        "id": "5yNSneTNWnYQ"
      },
      "source": [
        "Do we have class imbalance?"
      ]
    },
    {
      "cell_type": "code",
      "execution_count": null,
      "metadata": {
        "id": "UyTDkmveWnYQ",
        "outputId": "9969ec3e-e428-4a28-9370-3e511a778cfe",
        "colab": {
          "base_uri": "https://localhost:8080/"
        }
      },
      "outputs": [
        {
          "output_type": "execute_result",
          "data": {
            "text/plain": [
              "0    18540\n",
              "1     2345\n",
              "Name: HOSPITAL_EXPIRE_FLAG, dtype: int64"
            ]
          },
          "metadata": {},
          "execution_count": 13
        }
      ],
      "source": [
        "# Checking for class imbalance\n",
        "train['HOSPITAL_EXPIRE_FLAG'].value_counts()"
      ]
    },
    {
      "cell_type": "markdown",
      "metadata": {
        "id": "l0Cl8ppzWnYR"
      },
      "source": [
        "# Pre-Processing"
      ]
    },
    {
      "cell_type": "markdown",
      "metadata": {
        "id": "IxVRqaw3WnYR"
      },
      "source": [
        "## Age Variable\n",
        "\n",
        "Using `ADMITTIME`, `DOB` and `Diff` to create an `age` variable"
      ]
    },
    {
      "cell_type": "code",
      "source": [
        "import datetime as dt\n",
        "\n",
        "for my_df in [train, test]:\n",
        "# Convert admittime to date, adding \"Diff\" to make the dates realistic\n",
        "    my_df['ADMITTIME'] = (pd.to_datetime(my_df['ADMITTIME']) + my_df[\"Diff\"].apply(lambda x: dt.timedelta(x))).apply(lambda x: x.date())\n",
        "# Convert dob to date, adding \"Diff\" to make the dates realistic\n",
        "    my_df['DOB'] = (pd.to_datetime(my_df['DOB']) + my_df[\"Diff\"].apply(lambda x: dt.timedelta(x))).apply(lambda x: x.date())\n",
        "# Convert to age in years\n",
        "    my_df['age'] = my_df.apply(lambda e: (e['ADMITTIME'] - e['DOB']).days/365, axis=1)"
      ],
      "metadata": {
        "id": "oDcYudZepuYW"
      },
      "execution_count": null,
      "outputs": []
    },
    {
      "cell_type": "markdown",
      "source": [
        "For patients who are older than 89 years old, we impute the values to be 90 years old. https://github.com/MIT-LCP/mimic-code/issues/637"
      ],
      "metadata": {
        "id": "hSOr8XnRp_s_"
      }
    },
    {
      "cell_type": "code",
      "source": [
        "train['age'] = train.age.where(test['age']<89, 90)\n",
        "test['age'] = test.age.where(test['age']<89, 90)\n"
      ],
      "metadata": {
        "id": "PcAzTOVVqAW-"
      },
      "execution_count": null,
      "outputs": []
    },
    {
      "cell_type": "code",
      "source": [
        "train = train.drop(['DOB', 'Diff'], axis = 1)\n",
        "test = test.drop(['DOB', 'Diff'], axis = 1)"
      ],
      "metadata": {
        "id": "6aSSN5oIwkSY"
      },
      "execution_count": null,
      "outputs": []
    },
    {
      "cell_type": "markdown",
      "source": [
        "## Combining ethnicities and religion \n",
        "\n",
        "These are high cardinality categories with very few observations in some. We can logically combine them to reduce the number of dummy variables we have to produce"
      ],
      "metadata": {
        "id": "z5PW_7AIqvui"
      }
    },
    {
      "cell_type": "code",
      "source": [
        "train['ETHNICITY'].value_counts()"
      ],
      "metadata": {
        "colab": {
          "base_uri": "https://localhost:8080/"
        },
        "id": "3B1updDAq0_U",
        "outputId": "e5e5dbd0-fba5-45fc-bc9e-b27ca4cb79ed"
      },
      "execution_count": null,
      "outputs": [
        {
          "output_type": "execute_result",
          "data": {
            "text/plain": [
              "WHITE                                                       15112\n",
              "BLACK/AFRICAN AMERICAN                                       1977\n",
              "UNABLE TO OBTAIN                                              577\n",
              "UNKNOWN/NOT SPECIFIED                                         568\n",
              "HISPANIC OR LATINO                                            562\n",
              "OTHER                                                         489\n",
              "ASIAN                                                         265\n",
              "PATIENT DECLINED TO ANSWER                                    175\n",
              "HISPANIC/LATINO - PUERTO RICAN                                155\n",
              "ASIAN - CHINESE                                               146\n",
              "BLACK/CAPE VERDEAN                                            126\n",
              "WHITE - RUSSIAN                                               117\n",
              "BLACK/HAITIAN                                                  72\n",
              "HISPANIC/LATINO - DOMINICAN                                    59\n",
              "ASIAN - ASIAN INDIAN                                           58\n",
              "WHITE - OTHER EUROPEAN                                         50\n",
              "MULTI RACE ETHNICITY                                           50\n",
              "PORTUGUESE                                                     40\n",
              "WHITE - BRAZILIAN                                              33\n",
              "ASIAN - VIETNAMESE                                             28\n",
              "BLACK/AFRICAN                                                  26\n",
              "MIDDLE EASTERN                                                 24\n",
              "HISPANIC/LATINO - GUATEMALAN                                   24\n",
              "WHITE - EASTERN EUROPEAN                                       18\n",
              "HISPANIC/LATINO - CUBAN                                        17\n",
              "ASIAN - FILIPINO                                               16\n",
              "ASIAN - CAMBODIAN                                              14\n",
              "AMERICAN INDIAN/ALASKA NATIVE                                  13\n",
              "HISPANIC/LATINO - SALVADORAN                                   13\n",
              "HISPANIC/LATINO - MEXICAN                                       8\n",
              "HISPANIC/LATINO - CENTRAL AMERICAN (OTHER)                      7\n",
              "SOUTH AMERICAN                                                  7\n",
              "CARIBBEAN ISLAND                                                6\n",
              "ASIAN - KOREAN                                                  6\n",
              "NATIVE HAWAIIAN OR OTHER PACIFIC ISLANDER                       6\n",
              "ASIAN - JAPANESE                                                6\n",
              "HISPANIC/LATINO - COLOMBIAN                                     5\n",
              "ASIAN - OTHER                                                   3\n",
              "ASIAN - THAI                                                    3\n",
              "HISPANIC/LATINO - HONDURAN                                      2\n",
              "AMERICAN INDIAN/ALASKA NATIVE FEDERALLY RECOGNIZED TRIBE        2\n",
              "Name: ETHNICITY, dtype: int64"
            ]
          },
          "metadata": {},
          "execution_count": 17
        }
      ]
    },
    {
      "cell_type": "code",
      "source": [
        "train['RELIGION'].value_counts()"
      ],
      "metadata": {
        "colab": {
          "base_uri": "https://localhost:8080/"
        },
        "id": "KsaEuyd2tpJv",
        "outputId": "60105466-5c46-4715-c10d-71c8dfd204e7"
      },
      "execution_count": null,
      "outputs": [
        {
          "output_type": "execute_result",
          "data": {
            "text/plain": [
              "CATHOLIC                  7655\n",
              "NOT SPECIFIED             5398\n",
              "PROTESTANT QUAKER         2753\n",
              "JEWISH                    1840\n",
              "UNOBTAINABLE              1515\n",
              "OTHER                      702\n",
              "EPISCOPALIAN               288\n",
              "GREEK ORTHODOX             178\n",
              "CHRISTIAN SCIENTIST        164\n",
              "BUDDHIST                   109\n",
              "MUSLIM                      74\n",
              "UNITARIAN-UNIVERSALIST      54\n",
              "JEHOVAH'S WITNESS           45\n",
              "ROMANIAN EAST. ORTH         41\n",
              "HINDU                       38\n",
              "7TH DAY ADVENTIST           30\n",
              "HEBREW                       1\n",
              "Name: RELIGION, dtype: int64"
            ]
          },
          "metadata": {},
          "execution_count": 18
        }
      ]
    },
    {
      "cell_type": "markdown",
      "source": [
        "### By hand"
      ],
      "metadata": {
        "id": "YdF3SmxUrjfV"
      }
    },
    {
      "cell_type": "code",
      "source": [
        "train['ETHNICITY'] = train['ETHNICITY'].replace(['ASIAN', 'ASIAN - CHINESE', 'ASIAN - ASIAN INDIAN', 'ASIAN - VIETNAMESE', 'ASIAN - FILIPINO', 'ASIAN - CAMBODIAN',\n",
        "                                                     'ASIAN - JAPANESE', 'ASIAN - THAI', 'ASIAN - OTHER', 'ASIAN - KOREAN'\n",
        "                                                     ], 'ASIAN')\n",
        "\n",
        "train['ETHNICITY'] = train['ETHNICITY'].replace(['HISPANIC 0R LATINO', 'HISPANIC/LATINO - PUERTO RICAN', 'HISPANIC/LATINO - DOMINICAN', \n",
        "                                                     'HISPANIC/LATINO - GUATEMALAN', 'HISPANIC/LATINO - CUBAN', 'HISPANIC/LATINO - SALVADORAN',\n",
        "                                                     'HISPANIC/LATINO - MEXICAN', 'HISPANIC/LATINO - CENTRAL AMERICAN (OTHER)', 'HISPANIC/LATINO - COLOMBIAN',\n",
        "                                                     'HISPANIC/LATINO - HONDURAN', 'SOUTH AMERICAN'\n",
        "                                                     ], 'HISPANIC OR LATINO')\n",
        "\n",
        "train['ETHNICITY'] = train['ETHNICITY'].replace(['WHITE', 'WHITE - RUSSIAN', 'WHITE - OTHER EUROPEAN', 'WHITE - EASTERN EUROPEAN',\n",
        "                                                     'WHITE - BRAZILIAN'\n",
        "                                                     ], 'WHITE')\n",
        "\n",
        "train['ETHNICITY'] = train['ETHNICITY'].replace(['BLACK/AFRICAN', 'BLACK/AFRICAN AMERICAN', 'BLACK/CAPE VERDEAN', 'BLACK/HAITIAN'\n",
        "                                                     ], 'BLACK')\n",
        "\n",
        "train['ETHNICITY'] = train['ETHNICITY'].replace(['UNABLE TO OBTAIN', 'UNKNOWN/NOT SPECIFIED', 'PATIENT DECLINED TO ANSWER'\n",
        "                                                     ], 'UNKNOWN')\n",
        "\n",
        "train['ETHNICITY'] = train['ETHNICITY'].replace(['AMERICAN INDIAN/ALASKA NATIVE', 'AMERICAN INDIAN/ALASKA NATIVE FEDERALLY RECOGNIZED TRIBE', \n",
        "                                                     'CARIBBEAN ISLAND', 'MIDDLE EASTERN', 'OTHER', 'PORTUGUESE', 'NATIVE HAWAIIAN OR OTHER PACIFIC ISLANDER', \n",
        "                                                     'MULTI RACE ethnicity'\n",
        "                                                     ], 'OTHER')"
      ],
      "metadata": {
        "id": "xJcXvyIsrk2L"
      },
      "execution_count": null,
      "outputs": []
    },
    {
      "cell_type": "code",
      "source": [
        "test['ETHNICITY'] = test['ETHNICITY'].replace(['ASIAN', 'ASIAN - CHINESE', 'ASIAN - ASIAN INDIAN', 'ASIAN - VIETNAMESE', 'ASIAN - FILIPINO', 'ASIAN - CAMBODIAN',\n",
        "                                                     'ASIAN - JAPANESE', 'ASIAN - THAI', 'ASIAN - OTHER', 'ASIAN - KOREAN'\n",
        "                                                     ], 'ASIAN')\n",
        "\n",
        "test['ETHNICITY'] = test['ETHNICITY'].replace(['HISPANIC 0R LATINO', 'HISPANIC/LATINO - PUERTO RICAN', 'HISPANIC/LATINO - DOMINICAN', \n",
        "                                                     'HISPANIC/LATINO - GUATEMALAN', 'HISPANIC/LATINO - CUBAN', 'HISPANIC/LATINO - SALVADORAN',\n",
        "                                                     'HISPANIC/LATINO - MEXICAN', 'HISPANIC/LATINO - CENTRAL AMERICAN (OTHER)', 'HISPANIC/LATINO - COLOMBIAN',\n",
        "                                                     'HISPANIC/LATINO - HONDURAN', 'SOUTH AMERICAN'\n",
        "                                                     ], 'HISPANIC OR LATINO')\n",
        "\n",
        "test['ETHNICITY'] = test['ETHNICITY'].replace(['WHITE', 'WHITE - RUSSIAN', 'WHITE - OTHER EUROPEAN', 'WHITE - EASTERN EUROPEAN',\n",
        "                                                     'WHITE - BRAZILIAN'\n",
        "                                                     ], 'WHITE')\n",
        "\n",
        "test['ETHNICITY'] = test['ETHNICITY'].replace(['BLACK/AFRICAN', 'BLACK/AFRICAN AMERICAN', 'BLACK/CAPE VERDEAN', 'BLACK/HAITIAN'\n",
        "                                                     ], 'BLACK')\n",
        "\n",
        "test['ETHNICITY'] = test['ETHNICITY'].replace(['UNABLE TO OBTAIN', 'UNKNOWN/NOT SPECIFIED', 'PATIENT DECLINED TO ANSWER'\n",
        "                                                     ], 'UNKNOWN')\n",
        "\n",
        "test['ETHNICITY'] = test['ETHNICITY'].replace(['AMERICAN INDIAN/ALASKA NATIVE', 'AMERICAN INDIAN/ALASKA NATIVE FEDERALLY RECOGNIZED TRIBE', \n",
        "                                                     'CARIBBEAN ISLAND', 'MIDDLE EASTERN', 'OTHER', 'PORTUGUESE', 'NATIVE HAWAIIAN OR OTHER PACIFIC ISLANDER', \n",
        "                                                     'MULTI RACE ethnicity'\n",
        "                                                     ], 'OTHER')"
      ],
      "metadata": {
        "id": "6rNqTmQ5rqhu"
      },
      "execution_count": null,
      "outputs": []
    },
    {
      "cell_type": "code",
      "source": [
        "religion_other = ['HEBREW', 'UNITARIAN-UNIVERSALIST', 'HINDU', 'GREEK ORTHODOX',\"JEHOVAH'S WITNESS\", \"BUDDHIST\", 'MUSLIM', 'OTHER', 'CHRISTIAN SCIENTIST', 'EPISCOPALIAN', 'ROMANIAN EAST. ORTH', '7TH DAY ADVENTIST'] \n",
        "train['RELIGION'] = train['RELIGION'].replace(religion_other, 'OTHER')\n",
        "test['RELIGION'] = test['RELIGION'].replace(religion_other, 'OTHER')"
      ],
      "metadata": {
        "id": "TuMRh4c8tyuo"
      },
      "execution_count": null,
      "outputs": []
    },
    {
      "cell_type": "markdown",
      "source": [
        "### Or using some string operations\n",
        "\n",
        "e.g.\n",
        "\n",
        "```\n",
        "# Ethnicities list\n",
        "ethnicities = [\"WHITE\", \"ASIAN\", \"BLACK\", \"HISPANIC\"]\n",
        "\n",
        "# Check if the category value contains the word \"WHITE\", \"ASIAN\", \"BLACK\" or \"HISPANIC\"\n",
        "for ethnicity in ethnicities:\n",
        "    df_train[ethnicity] = df_train.ETHNICITY.str.contains(ethnicity, regex=False)*1\n",
        "    df_test[ethnicity] = df_test.ETHNICITY.str.contains(ethnicity, regex=False)*1\n",
        "```"
      ],
      "metadata": {
        "id": "9VDVMIwgroJs"
      }
    },
    {
      "cell_type": "markdown",
      "source": [
        "## Repeat Visits to the ICU\n",
        "\n",
        "Some patients visited the ICU more than once, we can add the numbe rof previous visits they have had as a variable"
      ],
      "metadata": {
        "id": "z6Ber0N9swnj"
      }
    },
    {
      "cell_type": "code",
      "source": [
        "train[\"visits_ICU\"] = train.sort_values(['subject_id', 'ADMITTIME']).groupby([\"subject_id\"]).cumcount() + 1\n",
        "test[\"visits_ICU\"] = test.sort_values(['subject_id', 'ADMITTIME']).groupby([\"subject_id\"]).cumcount() + 1"
      ],
      "metadata": {
        "id": "908ktIGfsvtV"
      },
      "execution_count": null,
      "outputs": []
    },
    {
      "cell_type": "code",
      "source": [
        "# Print some part of the output\n",
        "train[[\"subject_id\", \"ADMITTIME\", \"visits_ICU\"]].sort_values([\"subject_id\", \"ADMITTIME\"]).iloc[:13]"
      ],
      "metadata": {
        "colab": {
          "base_uri": "https://localhost:8080/",
          "height": 437
        },
        "id": "9_30cxhz1Pd0",
        "outputId": "820f6428-71d9-4ab4-df40-9066f45c7acd"
      },
      "execution_count": null,
      "outputs": [
        {
          "output_type": "execute_result",
          "data": {
            "text/html": [
              "\n",
              "  <div id=\"df-fb21fccd-5cee-4d34-b3d3-6af9bd4d5fdb\">\n",
              "    <div class=\"colab-df-container\">\n",
              "      <div>\n",
              "<style scoped>\n",
              "    .dataframe tbody tr th:only-of-type {\n",
              "        vertical-align: middle;\n",
              "    }\n",
              "\n",
              "    .dataframe tbody tr th {\n",
              "        vertical-align: top;\n",
              "    }\n",
              "\n",
              "    .dataframe thead th {\n",
              "        text-align: right;\n",
              "    }\n",
              "</style>\n",
              "<table border=\"1\" class=\"dataframe\">\n",
              "  <thead>\n",
              "    <tr style=\"text-align: right;\">\n",
              "      <th></th>\n",
              "      <th>subject_id</th>\n",
              "      <th>ADMITTIME</th>\n",
              "      <th>visits_ICU</th>\n",
              "    </tr>\n",
              "  </thead>\n",
              "  <tbody>\n",
              "    <tr>\n",
              "      <th>18310</th>\n",
              "      <td>23</td>\n",
              "      <td>2011-05-02</td>\n",
              "      <td>1</td>\n",
              "    </tr>\n",
              "    <tr>\n",
              "      <th>17908</th>\n",
              "      <td>34</td>\n",
              "      <td>2012-07-03</td>\n",
              "      <td>1</td>\n",
              "    </tr>\n",
              "    <tr>\n",
              "      <th>9591</th>\n",
              "      <td>36</td>\n",
              "      <td>2011-03-01</td>\n",
              "      <td>1</td>\n",
              "    </tr>\n",
              "    <tr>\n",
              "      <th>727</th>\n",
              "      <td>85</td>\n",
              "      <td>2008-09-27</td>\n",
              "      <td>1</td>\n",
              "    </tr>\n",
              "    <tr>\n",
              "      <th>16007</th>\n",
              "      <td>109</td>\n",
              "      <td>2008-03-03</td>\n",
              "      <td>1</td>\n",
              "    </tr>\n",
              "    <tr>\n",
              "      <th>13738</th>\n",
              "      <td>109</td>\n",
              "      <td>2008-04-30</td>\n",
              "      <td>2</td>\n",
              "    </tr>\n",
              "    <tr>\n",
              "      <th>4002</th>\n",
              "      <td>109</td>\n",
              "      <td>2008-08-12</td>\n",
              "      <td>3</td>\n",
              "    </tr>\n",
              "    <tr>\n",
              "      <th>12883</th>\n",
              "      <td>109</td>\n",
              "      <td>2008-08-18</td>\n",
              "      <td>4</td>\n",
              "    </tr>\n",
              "    <tr>\n",
              "      <th>17983</th>\n",
              "      <td>109</td>\n",
              "      <td>2008-08-25</td>\n",
              "      <td>5</td>\n",
              "    </tr>\n",
              "    <tr>\n",
              "      <th>8222</th>\n",
              "      <td>109</td>\n",
              "      <td>2008-09-20</td>\n",
              "      <td>6</td>\n",
              "    </tr>\n",
              "    <tr>\n",
              "      <th>1283</th>\n",
              "      <td>109</td>\n",
              "      <td>2008-10-25</td>\n",
              "      <td>7</td>\n",
              "    </tr>\n",
              "    <tr>\n",
              "      <th>6733</th>\n",
              "      <td>109</td>\n",
              "      <td>2008-10-31</td>\n",
              "      <td>8</td>\n",
              "    </tr>\n",
              "    <tr>\n",
              "      <th>13431</th>\n",
              "      <td>109</td>\n",
              "      <td>2008-11-14</td>\n",
              "      <td>9</td>\n",
              "    </tr>\n",
              "  </tbody>\n",
              "</table>\n",
              "</div>\n",
              "      <button class=\"colab-df-convert\" onclick=\"convertToInteractive('df-fb21fccd-5cee-4d34-b3d3-6af9bd4d5fdb')\"\n",
              "              title=\"Convert this dataframe to an interactive table.\"\n",
              "              style=\"display:none;\">\n",
              "        \n",
              "  <svg xmlns=\"http://www.w3.org/2000/svg\" height=\"24px\"viewBox=\"0 0 24 24\"\n",
              "       width=\"24px\">\n",
              "    <path d=\"M0 0h24v24H0V0z\" fill=\"none\"/>\n",
              "    <path d=\"M18.56 5.44l.94 2.06.94-2.06 2.06-.94-2.06-.94-.94-2.06-.94 2.06-2.06.94zm-11 1L8.5 8.5l.94-2.06 2.06-.94-2.06-.94L8.5 2.5l-.94 2.06-2.06.94zm10 10l.94 2.06.94-2.06 2.06-.94-2.06-.94-.94-2.06-.94 2.06-2.06.94z\"/><path d=\"M17.41 7.96l-1.37-1.37c-.4-.4-.92-.59-1.43-.59-.52 0-1.04.2-1.43.59L10.3 9.45l-7.72 7.72c-.78.78-.78 2.05 0 2.83L4 21.41c.39.39.9.59 1.41.59.51 0 1.02-.2 1.41-.59l7.78-7.78 2.81-2.81c.8-.78.8-2.07 0-2.86zM5.41 20L4 18.59l7.72-7.72 1.47 1.35L5.41 20z\"/>\n",
              "  </svg>\n",
              "      </button>\n",
              "      \n",
              "  <style>\n",
              "    .colab-df-container {\n",
              "      display:flex;\n",
              "      flex-wrap:wrap;\n",
              "      gap: 12px;\n",
              "    }\n",
              "\n",
              "    .colab-df-convert {\n",
              "      background-color: #E8F0FE;\n",
              "      border: none;\n",
              "      border-radius: 50%;\n",
              "      cursor: pointer;\n",
              "      display: none;\n",
              "      fill: #1967D2;\n",
              "      height: 32px;\n",
              "      padding: 0 0 0 0;\n",
              "      width: 32px;\n",
              "    }\n",
              "\n",
              "    .colab-df-convert:hover {\n",
              "      background-color: #E2EBFA;\n",
              "      box-shadow: 0px 1px 2px rgba(60, 64, 67, 0.3), 0px 1px 3px 1px rgba(60, 64, 67, 0.15);\n",
              "      fill: #174EA6;\n",
              "    }\n",
              "\n",
              "    [theme=dark] .colab-df-convert {\n",
              "      background-color: #3B4455;\n",
              "      fill: #D2E3FC;\n",
              "    }\n",
              "\n",
              "    [theme=dark] .colab-df-convert:hover {\n",
              "      background-color: #434B5C;\n",
              "      box-shadow: 0px 1px 3px 1px rgba(0, 0, 0, 0.15);\n",
              "      filter: drop-shadow(0px 1px 2px rgba(0, 0, 0, 0.3));\n",
              "      fill: #FFFFFF;\n",
              "    }\n",
              "  </style>\n",
              "\n",
              "      <script>\n",
              "        const buttonEl =\n",
              "          document.querySelector('#df-fb21fccd-5cee-4d34-b3d3-6af9bd4d5fdb button.colab-df-convert');\n",
              "        buttonEl.style.display =\n",
              "          google.colab.kernel.accessAllowed ? 'block' : 'none';\n",
              "\n",
              "        async function convertToInteractive(key) {\n",
              "          const element = document.querySelector('#df-fb21fccd-5cee-4d34-b3d3-6af9bd4d5fdb');\n",
              "          const dataTable =\n",
              "            await google.colab.kernel.invokeFunction('convertToInteractive',\n",
              "                                                     [key], {});\n",
              "          if (!dataTable) return;\n",
              "\n",
              "          const docLinkHtml = 'Like what you see? Visit the ' +\n",
              "            '<a target=\"_blank\" href=https://colab.research.google.com/notebooks/data_table.ipynb>data table notebook</a>'\n",
              "            + ' to learn more about interactive tables.';\n",
              "          element.innerHTML = '';\n",
              "          dataTable['output_type'] = 'display_data';\n",
              "          await google.colab.output.renderOutput(dataTable, element);\n",
              "          const docLink = document.createElement('div');\n",
              "          docLink.innerHTML = docLinkHtml;\n",
              "          element.appendChild(docLink);\n",
              "        }\n",
              "      </script>\n",
              "    </div>\n",
              "  </div>\n",
              "  "
            ],
            "text/plain": [
              "       subject_id   ADMITTIME  visits_ICU\n",
              "18310          23  2011-05-02           1\n",
              "17908          34  2012-07-03           1\n",
              "9591           36  2011-03-01           1\n",
              "727            85  2008-09-27           1\n",
              "16007         109  2008-03-03           1\n",
              "13738         109  2008-04-30           2\n",
              "4002          109  2008-08-12           3\n",
              "12883         109  2008-08-18           4\n",
              "17983         109  2008-08-25           5\n",
              "8222          109  2008-09-20           6\n",
              "1283          109  2008-10-25           7\n",
              "6733          109  2008-10-31           8\n",
              "13431         109  2008-11-14           9"
            ]
          },
          "metadata": {},
          "execution_count": 23
        }
      ]
    },
    {
      "cell_type": "code",
      "source": [
        "train = train.drop(['ADMITTIME'], axis = 1)\n",
        "test = test.drop(['ADMITTIME'], axis = 1)"
      ],
      "metadata": {
        "id": "5yy-yRLr0_Pt"
      },
      "execution_count": null,
      "outputs": []
    },
    {
      "cell_type": "markdown",
      "source": [
        "## Diagnoses\n",
        "\n",
        "+ We remove the text fields\n",
        "+ We will target encode (with smoothing) in the pipeline\n",
        "+ Could do something more complicated aggregating the severity of each diagnosis with comorbidites e.g. max, mean, median ect. but for simplicity I stick to this"
      ],
      "metadata": {
        "id": "cBHhwieYv53v"
      }
    },
    {
      "cell_type": "code",
      "source": [
        "train = train.drop(['DIAGNOSIS'], axis = 1)\n",
        "test = test.drop(['DIAGNOSIS'], axis = 1)"
      ],
      "metadata": {
        "id": "0xMEqyUWw8zD"
      },
      "execution_count": null,
      "outputs": []
    },
    {
      "cell_type": "markdown",
      "source": [
        "## Number of Comorbidities\n",
        "\n",
        "A simple way to include the comorbidities is to simply count how many coomorbidities each patient had. One could do more complicated htings also (see above)"
      ],
      "metadata": {
        "id": "WcAJF1Dps2CR"
      }
    },
    {
      "cell_type": "code",
      "source": [
        "# Reading comorbidities dataset \n",
        "comorbidities = pd.read_csv(\"bgse-svm-death/extra_data/MIMIC_diagnoses.csv\")\n",
        "comorbidities.head()"
      ],
      "metadata": {
        "colab": {
          "base_uri": "https://localhost:8080/",
          "height": 197
        },
        "id": "DNcmxGEHztdq",
        "outputId": "37dacf1c-39c6-4da9-f6ae-edb217e7f693"
      },
      "execution_count": null,
      "outputs": [
        {
          "output_type": "execute_result",
          "data": {
            "text/html": [
              "\n",
              "  <div id=\"df-e9b3ee0c-4e3b-45ab-8e37-b8fa1d0b8c0f\">\n",
              "    <div class=\"colab-df-container\">\n",
              "      <div>\n",
              "<style scoped>\n",
              "    .dataframe tbody tr th:only-of-type {\n",
              "        vertical-align: middle;\n",
              "    }\n",
              "\n",
              "    .dataframe tbody tr th {\n",
              "        vertical-align: top;\n",
              "    }\n",
              "\n",
              "    .dataframe thead th {\n",
              "        text-align: right;\n",
              "    }\n",
              "</style>\n",
              "<table border=\"1\" class=\"dataframe\">\n",
              "  <thead>\n",
              "    <tr style=\"text-align: right;\">\n",
              "      <th></th>\n",
              "      <th>SUBJECT_ID</th>\n",
              "      <th>HADM_ID</th>\n",
              "      <th>SEQ_NUM</th>\n",
              "      <th>ICD9_CODE</th>\n",
              "    </tr>\n",
              "  </thead>\n",
              "  <tbody>\n",
              "    <tr>\n",
              "      <th>0</th>\n",
              "      <td>256</td>\n",
              "      <td>108811</td>\n",
              "      <td>1.0</td>\n",
              "      <td>53240</td>\n",
              "    </tr>\n",
              "    <tr>\n",
              "      <th>1</th>\n",
              "      <td>256</td>\n",
              "      <td>108811</td>\n",
              "      <td>2.0</td>\n",
              "      <td>41071</td>\n",
              "    </tr>\n",
              "    <tr>\n",
              "      <th>2</th>\n",
              "      <td>256</td>\n",
              "      <td>108811</td>\n",
              "      <td>3.0</td>\n",
              "      <td>53560</td>\n",
              "    </tr>\n",
              "    <tr>\n",
              "      <th>3</th>\n",
              "      <td>256</td>\n",
              "      <td>108811</td>\n",
              "      <td>4.0</td>\n",
              "      <td>40390</td>\n",
              "    </tr>\n",
              "    <tr>\n",
              "      <th>4</th>\n",
              "      <td>256</td>\n",
              "      <td>108811</td>\n",
              "      <td>5.0</td>\n",
              "      <td>5859</td>\n",
              "    </tr>\n",
              "  </tbody>\n",
              "</table>\n",
              "</div>\n",
              "      <button class=\"colab-df-convert\" onclick=\"convertToInteractive('df-e9b3ee0c-4e3b-45ab-8e37-b8fa1d0b8c0f')\"\n",
              "              title=\"Convert this dataframe to an interactive table.\"\n",
              "              style=\"display:none;\">\n",
              "        \n",
              "  <svg xmlns=\"http://www.w3.org/2000/svg\" height=\"24px\"viewBox=\"0 0 24 24\"\n",
              "       width=\"24px\">\n",
              "    <path d=\"M0 0h24v24H0V0z\" fill=\"none\"/>\n",
              "    <path d=\"M18.56 5.44l.94 2.06.94-2.06 2.06-.94-2.06-.94-.94-2.06-.94 2.06-2.06.94zm-11 1L8.5 8.5l.94-2.06 2.06-.94-2.06-.94L8.5 2.5l-.94 2.06-2.06.94zm10 10l.94 2.06.94-2.06 2.06-.94-2.06-.94-.94-2.06-.94 2.06-2.06.94z\"/><path d=\"M17.41 7.96l-1.37-1.37c-.4-.4-.92-.59-1.43-.59-.52 0-1.04.2-1.43.59L10.3 9.45l-7.72 7.72c-.78.78-.78 2.05 0 2.83L4 21.41c.39.39.9.59 1.41.59.51 0 1.02-.2 1.41-.59l7.78-7.78 2.81-2.81c.8-.78.8-2.07 0-2.86zM5.41 20L4 18.59l7.72-7.72 1.47 1.35L5.41 20z\"/>\n",
              "  </svg>\n",
              "      </button>\n",
              "      \n",
              "  <style>\n",
              "    .colab-df-container {\n",
              "      display:flex;\n",
              "      flex-wrap:wrap;\n",
              "      gap: 12px;\n",
              "    }\n",
              "\n",
              "    .colab-df-convert {\n",
              "      background-color: #E8F0FE;\n",
              "      border: none;\n",
              "      border-radius: 50%;\n",
              "      cursor: pointer;\n",
              "      display: none;\n",
              "      fill: #1967D2;\n",
              "      height: 32px;\n",
              "      padding: 0 0 0 0;\n",
              "      width: 32px;\n",
              "    }\n",
              "\n",
              "    .colab-df-convert:hover {\n",
              "      background-color: #E2EBFA;\n",
              "      box-shadow: 0px 1px 2px rgba(60, 64, 67, 0.3), 0px 1px 3px 1px rgba(60, 64, 67, 0.15);\n",
              "      fill: #174EA6;\n",
              "    }\n",
              "\n",
              "    [theme=dark] .colab-df-convert {\n",
              "      background-color: #3B4455;\n",
              "      fill: #D2E3FC;\n",
              "    }\n",
              "\n",
              "    [theme=dark] .colab-df-convert:hover {\n",
              "      background-color: #434B5C;\n",
              "      box-shadow: 0px 1px 3px 1px rgba(0, 0, 0, 0.15);\n",
              "      filter: drop-shadow(0px 1px 2px rgba(0, 0, 0, 0.3));\n",
              "      fill: #FFFFFF;\n",
              "    }\n",
              "  </style>\n",
              "\n",
              "      <script>\n",
              "        const buttonEl =\n",
              "          document.querySelector('#df-e9b3ee0c-4e3b-45ab-8e37-b8fa1d0b8c0f button.colab-df-convert');\n",
              "        buttonEl.style.display =\n",
              "          google.colab.kernel.accessAllowed ? 'block' : 'none';\n",
              "\n",
              "        async function convertToInteractive(key) {\n",
              "          const element = document.querySelector('#df-e9b3ee0c-4e3b-45ab-8e37-b8fa1d0b8c0f');\n",
              "          const dataTable =\n",
              "            await google.colab.kernel.invokeFunction('convertToInteractive',\n",
              "                                                     [key], {});\n",
              "          if (!dataTable) return;\n",
              "\n",
              "          const docLinkHtml = 'Like what you see? Visit the ' +\n",
              "            '<a target=\"_blank\" href=https://colab.research.google.com/notebooks/data_table.ipynb>data table notebook</a>'\n",
              "            + ' to learn more about interactive tables.';\n",
              "          element.innerHTML = '';\n",
              "          dataTable['output_type'] = 'display_data';\n",
              "          await google.colab.output.renderOutput(dataTable, element);\n",
              "          const docLink = document.createElement('div');\n",
              "          docLink.innerHTML = docLinkHtml;\n",
              "          element.appendChild(docLink);\n",
              "        }\n",
              "      </script>\n",
              "    </div>\n",
              "  </div>\n",
              "  "
            ],
            "text/plain": [
              "   SUBJECT_ID  HADM_ID  SEQ_NUM ICD9_CODE\n",
              "0         256   108811      1.0     53240\n",
              "1         256   108811      2.0     41071\n",
              "2         256   108811      3.0     53560\n",
              "3         256   108811      4.0     40390\n",
              "4         256   108811      5.0      5859"
            ]
          },
          "metadata": {},
          "execution_count": 26
        }
      ]
    },
    {
      "cell_type": "code",
      "source": [
        "# Computing the number of comorbidities in each of the ICU stays\n",
        "number_comorbidities_patient = comorbidities.groupby([\"SUBJECT_ID\", \"HADM_ID\"]).max()[\"SEQ_NUM\"].reset_index()\n",
        "number_comorbidities_patient = number_comorbidities_patient.rename({\"SEQ_NUM\": \"number_comorbidities\"}, axis=1)\n",
        "number_comorbidities_patient"
      ],
      "metadata": {
        "colab": {
          "base_uri": "https://localhost:8080/",
          "height": 406
        },
        "id": "oL2Umcarz_Ve",
        "outputId": "df2b97d2-d82e-4c36-f492-41f750eb3099"
      },
      "execution_count": null,
      "outputs": [
        {
          "output_type": "execute_result",
          "data": {
            "text/html": [
              "\n",
              "  <div id=\"df-3c01fd15-be20-479e-92d4-346aa7f45701\">\n",
              "    <div class=\"colab-df-container\">\n",
              "      <div>\n",
              "<style scoped>\n",
              "    .dataframe tbody tr th:only-of-type {\n",
              "        vertical-align: middle;\n",
              "    }\n",
              "\n",
              "    .dataframe tbody tr th {\n",
              "        vertical-align: top;\n",
              "    }\n",
              "\n",
              "    .dataframe thead th {\n",
              "        text-align: right;\n",
              "    }\n",
              "</style>\n",
              "<table border=\"1\" class=\"dataframe\">\n",
              "  <thead>\n",
              "    <tr style=\"text-align: right;\">\n",
              "      <th></th>\n",
              "      <th>SUBJECT_ID</th>\n",
              "      <th>HADM_ID</th>\n",
              "      <th>number_comorbidities</th>\n",
              "    </tr>\n",
              "  </thead>\n",
              "  <tbody>\n",
              "    <tr>\n",
              "      <th>0</th>\n",
              "      <td>2</td>\n",
              "      <td>163353</td>\n",
              "      <td>3.0</td>\n",
              "    </tr>\n",
              "    <tr>\n",
              "      <th>1</th>\n",
              "      <td>3</td>\n",
              "      <td>145834</td>\n",
              "      <td>9.0</td>\n",
              "    </tr>\n",
              "    <tr>\n",
              "      <th>2</th>\n",
              "      <td>4</td>\n",
              "      <td>185777</td>\n",
              "      <td>9.0</td>\n",
              "    </tr>\n",
              "    <tr>\n",
              "      <th>3</th>\n",
              "      <td>5</td>\n",
              "      <td>178980</td>\n",
              "      <td>3.0</td>\n",
              "    </tr>\n",
              "    <tr>\n",
              "      <th>4</th>\n",
              "      <td>6</td>\n",
              "      <td>107064</td>\n",
              "      <td>8.0</td>\n",
              "    </tr>\n",
              "    <tr>\n",
              "      <th>...</th>\n",
              "      <td>...</td>\n",
              "      <td>...</td>\n",
              "      <td>...</td>\n",
              "    </tr>\n",
              "    <tr>\n",
              "      <th>58971</th>\n",
              "      <td>99985</td>\n",
              "      <td>176670</td>\n",
              "      <td>13.0</td>\n",
              "    </tr>\n",
              "    <tr>\n",
              "      <th>58972</th>\n",
              "      <td>99991</td>\n",
              "      <td>151118</td>\n",
              "      <td>17.0</td>\n",
              "    </tr>\n",
              "    <tr>\n",
              "      <th>58973</th>\n",
              "      <td>99992</td>\n",
              "      <td>197084</td>\n",
              "      <td>12.0</td>\n",
              "    </tr>\n",
              "    <tr>\n",
              "      <th>58974</th>\n",
              "      <td>99995</td>\n",
              "      <td>137810</td>\n",
              "      <td>17.0</td>\n",
              "    </tr>\n",
              "    <tr>\n",
              "      <th>58975</th>\n",
              "      <td>99999</td>\n",
              "      <td>113369</td>\n",
              "      <td>5.0</td>\n",
              "    </tr>\n",
              "  </tbody>\n",
              "</table>\n",
              "<p>58976 rows × 3 columns</p>\n",
              "</div>\n",
              "      <button class=\"colab-df-convert\" onclick=\"convertToInteractive('df-3c01fd15-be20-479e-92d4-346aa7f45701')\"\n",
              "              title=\"Convert this dataframe to an interactive table.\"\n",
              "              style=\"display:none;\">\n",
              "        \n",
              "  <svg xmlns=\"http://www.w3.org/2000/svg\" height=\"24px\"viewBox=\"0 0 24 24\"\n",
              "       width=\"24px\">\n",
              "    <path d=\"M0 0h24v24H0V0z\" fill=\"none\"/>\n",
              "    <path d=\"M18.56 5.44l.94 2.06.94-2.06 2.06-.94-2.06-.94-.94-2.06-.94 2.06-2.06.94zm-11 1L8.5 8.5l.94-2.06 2.06-.94-2.06-.94L8.5 2.5l-.94 2.06-2.06.94zm10 10l.94 2.06.94-2.06 2.06-.94-2.06-.94-.94-2.06-.94 2.06-2.06.94z\"/><path d=\"M17.41 7.96l-1.37-1.37c-.4-.4-.92-.59-1.43-.59-.52 0-1.04.2-1.43.59L10.3 9.45l-7.72 7.72c-.78.78-.78 2.05 0 2.83L4 21.41c.39.39.9.59 1.41.59.51 0 1.02-.2 1.41-.59l7.78-7.78 2.81-2.81c.8-.78.8-2.07 0-2.86zM5.41 20L4 18.59l7.72-7.72 1.47 1.35L5.41 20z\"/>\n",
              "  </svg>\n",
              "      </button>\n",
              "      \n",
              "  <style>\n",
              "    .colab-df-container {\n",
              "      display:flex;\n",
              "      flex-wrap:wrap;\n",
              "      gap: 12px;\n",
              "    }\n",
              "\n",
              "    .colab-df-convert {\n",
              "      background-color: #E8F0FE;\n",
              "      border: none;\n",
              "      border-radius: 50%;\n",
              "      cursor: pointer;\n",
              "      display: none;\n",
              "      fill: #1967D2;\n",
              "      height: 32px;\n",
              "      padding: 0 0 0 0;\n",
              "      width: 32px;\n",
              "    }\n",
              "\n",
              "    .colab-df-convert:hover {\n",
              "      background-color: #E2EBFA;\n",
              "      box-shadow: 0px 1px 2px rgba(60, 64, 67, 0.3), 0px 1px 3px 1px rgba(60, 64, 67, 0.15);\n",
              "      fill: #174EA6;\n",
              "    }\n",
              "\n",
              "    [theme=dark] .colab-df-convert {\n",
              "      background-color: #3B4455;\n",
              "      fill: #D2E3FC;\n",
              "    }\n",
              "\n",
              "    [theme=dark] .colab-df-convert:hover {\n",
              "      background-color: #434B5C;\n",
              "      box-shadow: 0px 1px 3px 1px rgba(0, 0, 0, 0.15);\n",
              "      filter: drop-shadow(0px 1px 2px rgba(0, 0, 0, 0.3));\n",
              "      fill: #FFFFFF;\n",
              "    }\n",
              "  </style>\n",
              "\n",
              "      <script>\n",
              "        const buttonEl =\n",
              "          document.querySelector('#df-3c01fd15-be20-479e-92d4-346aa7f45701 button.colab-df-convert');\n",
              "        buttonEl.style.display =\n",
              "          google.colab.kernel.accessAllowed ? 'block' : 'none';\n",
              "\n",
              "        async function convertToInteractive(key) {\n",
              "          const element = document.querySelector('#df-3c01fd15-be20-479e-92d4-346aa7f45701');\n",
              "          const dataTable =\n",
              "            await google.colab.kernel.invokeFunction('convertToInteractive',\n",
              "                                                     [key], {});\n",
              "          if (!dataTable) return;\n",
              "\n",
              "          const docLinkHtml = 'Like what you see? Visit the ' +\n",
              "            '<a target=\"_blank\" href=https://colab.research.google.com/notebooks/data_table.ipynb>data table notebook</a>'\n",
              "            + ' to learn more about interactive tables.';\n",
              "          element.innerHTML = '';\n",
              "          dataTable['output_type'] = 'display_data';\n",
              "          await google.colab.output.renderOutput(dataTable, element);\n",
              "          const docLink = document.createElement('div');\n",
              "          docLink.innerHTML = docLinkHtml;\n",
              "          element.appendChild(docLink);\n",
              "        }\n",
              "      </script>\n",
              "    </div>\n",
              "  </div>\n",
              "  "
            ],
            "text/plain": [
              "       SUBJECT_ID  HADM_ID  number_comorbidities\n",
              "0               2   163353                   3.0\n",
              "1               3   145834                   9.0\n",
              "2               4   185777                   9.0\n",
              "3               5   178980                   3.0\n",
              "4               6   107064                   8.0\n",
              "...           ...      ...                   ...\n",
              "58971       99985   176670                  13.0\n",
              "58972       99991   151118                  17.0\n",
              "58973       99992   197084                  12.0\n",
              "58974       99995   137810                  17.0\n",
              "58975       99999   113369                   5.0\n",
              "\n",
              "[58976 rows x 3 columns]"
            ]
          },
          "metadata": {},
          "execution_count": 27
        }
      ]
    },
    {
      "cell_type": "code",
      "source": [
        "# Join with training set\n",
        "train = pd.merge(train, number_comorbidities_patient, left_on=[\"subject_id\", \"hadm_id\"], right_on = [\"SUBJECT_ID\", \"HADM_ID\"], how = \"left\").drop([\"SUBJECT_ID\", \"HADM_ID\"], axis=1)\n",
        "\n",
        "# Join with test set\n",
        "test = pd.merge(test, number_comorbidities_patient, left_on=[\"subject_id\", \"hadm_id\"], right_on = [\"SUBJECT_ID\", \"HADM_ID\"], how = \"left\").drop([\"SUBJECT_ID\", \"HADM_ID\"], axis=1)"
      ],
      "metadata": {
        "id": "jBYP_pfj0Nip"
      },
      "execution_count": null,
      "outputs": []
    },
    {
      "cell_type": "markdown",
      "metadata": {
        "id": "_qBqJdahWnYX"
      },
      "source": [
        "# Handling Missing Values"
      ]
    },
    {
      "cell_type": "code",
      "source": [
        "# Checking for Nulls - train\n",
        "train.isnull().sum()"
      ],
      "metadata": {
        "colab": {
          "base_uri": "https://localhost:8080/"
        },
        "id": "TyjYD3wq2pjT",
        "outputId": "ccbb61df-62e7-468e-ff68-9993b6e34b25"
      },
      "execution_count": null,
      "outputs": [
        {
          "output_type": "execute_result",
          "data": {
            "text/plain": [
              "HOSPITAL_EXPIRE_FLAG       0\n",
              "subject_id                 0\n",
              "hadm_id                    0\n",
              "icustay_id                 0\n",
              "HeartRate_Min           2187\n",
              "HeartRate_Max           2187\n",
              "HeartRate_Mean          2187\n",
              "SysBP_Min               2208\n",
              "SysBP_Max               2208\n",
              "SysBP_Mean              2208\n",
              "DiasBP_Min              2209\n",
              "DiasBP_Max              2209\n",
              "DiasBP_Mean             2209\n",
              "MeanBP_Min              2186\n",
              "MeanBP_Max              2186\n",
              "MeanBP_Mean             2186\n",
              "RespRate_Min            2189\n",
              "RespRate_Max            2189\n",
              "RespRate_Mean           2189\n",
              "TempC_Min               2497\n",
              "TempC_Max               2497\n",
              "TempC_Mean              2497\n",
              "SpO2_Min                2203\n",
              "SpO2_Max                2203\n",
              "SpO2_Mean               2203\n",
              "Glucose_Min              253\n",
              "Glucose_Max              253\n",
              "Glucose_Mean             253\n",
              "GENDER                     0\n",
              "ADMISSION_TYPE             0\n",
              "INSURANCE                  0\n",
              "RELIGION                   0\n",
              "MARITAL_STATUS           722\n",
              "ETHNICITY                  0\n",
              "ICD9_diagnosis             0\n",
              "FIRST_CAREUNIT             0\n",
              "age                        0\n",
              "visits_ICU                 0\n",
              "number_comorbidities       0\n",
              "dtype: int64"
            ]
          },
          "metadata": {},
          "execution_count": 29
        }
      ]
    },
    {
      "cell_type": "markdown",
      "source": [
        "## `Marital Status`\n",
        "\n",
        "We can logically combine `nan` values for marital status with the `UNKNOWN (DEFAULT)` class. If there were not this class already you could add a 'missing' class"
      ],
      "metadata": {
        "id": "deEcLlRqs75T"
      }
    },
    {
      "cell_type": "code",
      "source": [
        "train[\"MARITAL_STATUS\"].unique()"
      ],
      "metadata": {
        "colab": {
          "base_uri": "https://localhost:8080/"
        },
        "id": "3lpzQonT10Hz",
        "outputId": "a4f7d115-c8d3-478d-b35d-6161a062cbed"
      },
      "execution_count": null,
      "outputs": [
        {
          "output_type": "execute_result",
          "data": {
            "text/plain": [
              "array(['SINGLE', 'MARRIED', 'SEPARATED', 'WIDOWED', 'DIVORCED', nan,\n",
              "       'UNKNOWN (DEFAULT)', 'LIFE PARTNER'], dtype=object)"
            ]
          },
          "metadata": {},
          "execution_count": 30
        }
      ]
    },
    {
      "cell_type": "code",
      "source": [
        "#first we deal with marital status missing\n",
        "# there is a category of unknown, so i'll fill the missing values with that category\n",
        "train['MARITAL_STATUS'] = train['MARITAL_STATUS'].fillna('UNKNOWN (DEFAULT)')\n",
        "test['MARITAL_STATUS'] = test['MARITAL_STATUS'].fillna('UNKNOWN (DEFAULT)')"
      ],
      "metadata": {
        "id": "hDmXlxKa14KP"
      },
      "execution_count": null,
      "outputs": []
    },
    {
      "cell_type": "markdown",
      "source": [
        "## Forward/Backward filling from previous visits\n",
        "\n",
        "We can use repeat visits to forward and backward fill missing data "
      ],
      "metadata": {
        "id": "1eL-lg5ttA_7"
      }
    },
    {
      "cell_type": "code",
      "source": [
        "train = train.groupby(['subject_id'], as_index = False).apply(lambda group: group.ffill())\n",
        "test = test.groupby(['subject_id'], as_index = False).apply(lambda group: group.ffill())"
      ],
      "metadata": {
        "id": "UkDim-SA2kLr"
      },
      "execution_count": null,
      "outputs": []
    },
    {
      "cell_type": "code",
      "source": [
        "# Checking for Nulls - train\n",
        "train.isnull().sum()"
      ],
      "metadata": {
        "colab": {
          "base_uri": "https://localhost:8080/"
        },
        "id": "rEf7PDib3DaG",
        "outputId": "e1509929-8bbf-4b84-fde8-fe4e16ec91f2"
      },
      "execution_count": null,
      "outputs": [
        {
          "output_type": "execute_result",
          "data": {
            "text/plain": [
              "HOSPITAL_EXPIRE_FLAG       0\n",
              "subject_id                 0\n",
              "hadm_id                    0\n",
              "icustay_id                 0\n",
              "HeartRate_Min           1937\n",
              "HeartRate_Max           1937\n",
              "HeartRate_Mean          1937\n",
              "SysBP_Min               1957\n",
              "SysBP_Max               1957\n",
              "SysBP_Mean              1957\n",
              "DiasBP_Min              1958\n",
              "DiasBP_Max              1958\n",
              "DiasBP_Mean             1958\n",
              "MeanBP_Min              1937\n",
              "MeanBP_Max              1937\n",
              "MeanBP_Mean             1937\n",
              "RespRate_Min            1938\n",
              "RespRate_Max            1938\n",
              "RespRate_Mean           1938\n",
              "TempC_Min               2207\n",
              "TempC_Max               2207\n",
              "TempC_Mean              2207\n",
              "SpO2_Min                1952\n",
              "SpO2_Max                1952\n",
              "SpO2_Mean               1952\n",
              "Glucose_Min              214\n",
              "Glucose_Max              214\n",
              "Glucose_Mean             214\n",
              "GENDER                     0\n",
              "ADMISSION_TYPE             0\n",
              "INSURANCE                  0\n",
              "RELIGION                   0\n",
              "MARITAL_STATUS             0\n",
              "ETHNICITY                  0\n",
              "ICD9_diagnosis             0\n",
              "FIRST_CAREUNIT             0\n",
              "age                        0\n",
              "visits_ICU                 0\n",
              "number_comorbidities       0\n",
              "dtype: int64"
            ]
          },
          "metadata": {},
          "execution_count": 33
        }
      ]
    },
    {
      "cell_type": "code",
      "source": [
        "train = train.groupby(['subject_id'], as_index = False).apply(lambda group: group.bfill())\n",
        "test = test.groupby(['subject_id'], as_index = False).apply(lambda group: group.bfill())"
      ],
      "metadata": {
        "id": "pDkjUH8s3IIn"
      },
      "execution_count": null,
      "outputs": []
    },
    {
      "cell_type": "code",
      "source": [
        "# Checking for Nulls - train\n",
        "train.isnull().sum()"
      ],
      "metadata": {
        "colab": {
          "base_uri": "https://localhost:8080/"
        },
        "id": "7NxIliGi3Von",
        "outputId": "e50f3367-143a-4de1-cf01-15cdbffa7a45"
      },
      "execution_count": null,
      "outputs": [
        {
          "output_type": "execute_result",
          "data": {
            "text/plain": [
              "HOSPITAL_EXPIRE_FLAG       0\n",
              "subject_id                 0\n",
              "hadm_id                    0\n",
              "icustay_id                 0\n",
              "HeartRate_Min           1787\n",
              "HeartRate_Max           1787\n",
              "HeartRate_Mean          1787\n",
              "SysBP_Min               1804\n",
              "SysBP_Max               1804\n",
              "SysBP_Mean              1804\n",
              "DiasBP_Min              1805\n",
              "DiasBP_Max              1805\n",
              "DiasBP_Mean             1805\n",
              "MeanBP_Min              1788\n",
              "MeanBP_Max              1788\n",
              "MeanBP_Mean             1788\n",
              "RespRate_Min            1787\n",
              "RespRate_Max            1787\n",
              "RespRate_Mean           1787\n",
              "TempC_Min               2028\n",
              "TempC_Max               2028\n",
              "TempC_Mean              2028\n",
              "SpO2_Min                1800\n",
              "SpO2_Max                1800\n",
              "SpO2_Mean               1800\n",
              "Glucose_Min              191\n",
              "Glucose_Max              191\n",
              "Glucose_Mean             191\n",
              "GENDER                     0\n",
              "ADMISSION_TYPE             0\n",
              "INSURANCE                  0\n",
              "RELIGION                   0\n",
              "MARITAL_STATUS             0\n",
              "ETHNICITY                  0\n",
              "ICD9_diagnosis             0\n",
              "FIRST_CAREUNIT             0\n",
              "age                        0\n",
              "visits_ICU                 0\n",
              "number_comorbidities       0\n",
              "dtype: int64"
            ]
          },
          "metadata": {},
          "execution_count": 35
        }
      ]
    },
    {
      "cell_type": "markdown",
      "source": [
        "## kNN imputation \n",
        "\n",
        "We will imputes the reamining continious values of misasing data using kNN as part of the pipeline. \n",
        "\n",
        "You could bb smarted than this, e.g. presumably age will have a greater impact on vitals that religion will"
      ],
      "metadata": {
        "id": "tuBMMkSatBGy"
      }
    },
    {
      "cell_type": "code",
      "source": [
        "from sklearn.impute import KNNImputer\n",
        "from sklearn.impute import SimpleImputer\n",
        "\n",
        "#cont_imputer = KNNImputer()\n",
        "cont_imputer = SimpleImputer(strategy=\"mean\")"
      ],
      "metadata": {
        "id": "NV5e26Nfs6_k"
      },
      "execution_count": null,
      "outputs": []
    },
    {
      "cell_type": "markdown",
      "source": [
        "## Category Encoding \n",
        "\n",
        "We will use the pipeline to encode our unordered categorical variables"
      ],
      "metadata": {
        "id": "UL9l3CBY5QGt"
      }
    },
    {
      "cell_type": "markdown",
      "source": [
        "### OneHotEncoding/Dummy variables\n",
        "\n",
        "`OneHotEncoder` is a slightly nicer alternative to `pd.get_dummies`\n",
        "\n",
        "`sparse=False` prevents `OneHotEncoder` from outputting a sparse matrix and allowing comptability later down the pipeline. "
      ],
      "metadata": {
        "id": "L41qP2zO5ZCO"
      }
    },
    {
      "cell_type": "code",
      "source": [
        "from sklearn.preprocessing import OneHotEncoder\n",
        "\n",
        "cat_encoder = OneHotEncoder(handle_unknown=\"ignore\", sparse=False)\n"
      ],
      "metadata": {
        "id": "Eb-McqbN5YF2"
      },
      "execution_count": null,
      "outputs": []
    },
    {
      "cell_type": "markdown",
      "source": [
        "### Target Encoding (Smoothed)\n",
        "\n",
        "We encode each disease by it's deadliness. Smothing can help deal with cases where very observations had a certain disease.\n",
        "\n",
        "$$\n",
        "X_{ICD9-TE, j} = \\lambda \\frac{\\textrm{# died with disease } j}{\\textrm{# with disease } j} + (1 - \\lambda) \\frac{\\textrm{# died }}{\\textrm{# patients}}\n",
        "$$"
      ],
      "metadata": {
        "id": "EjpLaO6a5cN_"
      }
    },
    {
      "cell_type": "code",
      "source": [
        "import category_encoders as ce\n",
        "\n",
        "icd9_encoder = ce.TargetEncoder(smoothing = 1.0)"
      ],
      "metadata": {
        "colab": {
          "base_uri": "https://localhost:8080/"
        },
        "id": "7E9kTJn_5itS",
        "outputId": "aa99d7cb-a39c-4a3c-bb04-53f688ba7943"
      },
      "execution_count": null,
      "outputs": [
        {
          "output_type": "stream",
          "name": "stderr",
          "text": [
            "/usr/local/lib/python3.7/dist-packages/statsmodels/tools/_testing.py:19: FutureWarning: pandas.util.testing is deprecated. Use the functions in the public API at pandas.testing instead.\n",
            "  import pandas.util.testing as tm\n"
          ]
        }
      ]
    },
    {
      "cell_type": "markdown",
      "source": [
        "## Scaling\n",
        "\n",
        "I am going to use a RobustScaler for the continious variabes and StandardScalar for the discrete ones\n",
        "\n"
      ],
      "metadata": {
        "id": "-wpvLItm6nSk"
      }
    },
    {
      "cell_type": "code",
      "source": [
        "from sklearn.preprocessing import StandardScaler\n",
        "from sklearn.preprocessing import RobustScaler\n",
        "\n",
        "cont_scaler = RobustScaler()\n",
        "cat_scaler = StandardScaler()"
      ],
      "metadata": {
        "id": "pEkP0JrE6oak"
      },
      "execution_count": null,
      "outputs": []
    },
    {
      "cell_type": "code",
      "source": [
        "X_train = train.drop([\"HOSPITAL_EXPIRE_FLAG\",\t\"subject_id\",\t\"hadm_id\",\t\"icustay_id\"], axis = 1)\n",
        "y_train = train[\"HOSPITAL_EXPIRE_FLAG\"]"
      ],
      "metadata": {
        "id": "kk8WGjRTDAIw"
      },
      "execution_count": null,
      "outputs": []
    },
    {
      "cell_type": "code",
      "source": [
        "X_train"
      ],
      "metadata": {
        "colab": {
          "base_uri": "https://localhost:8080/",
          "height": 406
        },
        "id": "lXlskwHffvEu",
        "outputId": "47ba7a88-bab8-44d0-8699-dc2d7928e0b3"
      },
      "execution_count": null,
      "outputs": [
        {
          "output_type": "execute_result",
          "data": {
            "text/html": [
              "\n",
              "  <div id=\"df-47271adf-88da-4c02-89e7-873b04c6bc2b\">\n",
              "    <div class=\"colab-df-container\">\n",
              "      <div>\n",
              "<style scoped>\n",
              "    .dataframe tbody tr th:only-of-type {\n",
              "        vertical-align: middle;\n",
              "    }\n",
              "\n",
              "    .dataframe tbody tr th {\n",
              "        vertical-align: top;\n",
              "    }\n",
              "\n",
              "    .dataframe thead th {\n",
              "        text-align: right;\n",
              "    }\n",
              "</style>\n",
              "<table border=\"1\" class=\"dataframe\">\n",
              "  <thead>\n",
              "    <tr style=\"text-align: right;\">\n",
              "      <th></th>\n",
              "      <th>HeartRate_Min</th>\n",
              "      <th>HeartRate_Max</th>\n",
              "      <th>HeartRate_Mean</th>\n",
              "      <th>SysBP_Min</th>\n",
              "      <th>SysBP_Max</th>\n",
              "      <th>SysBP_Mean</th>\n",
              "      <th>DiasBP_Min</th>\n",
              "      <th>DiasBP_Max</th>\n",
              "      <th>DiasBP_Mean</th>\n",
              "      <th>MeanBP_Min</th>\n",
              "      <th>...</th>\n",
              "      <th>ADMISSION_TYPE</th>\n",
              "      <th>INSURANCE</th>\n",
              "      <th>RELIGION</th>\n",
              "      <th>MARITAL_STATUS</th>\n",
              "      <th>ETHNICITY</th>\n",
              "      <th>ICD9_diagnosis</th>\n",
              "      <th>FIRST_CAREUNIT</th>\n",
              "      <th>age</th>\n",
              "      <th>visits_ICU</th>\n",
              "      <th>number_comorbidities</th>\n",
              "    </tr>\n",
              "  </thead>\n",
              "  <tbody>\n",
              "    <tr>\n",
              "      <th>0</th>\n",
              "      <td>89.0</td>\n",
              "      <td>145.0</td>\n",
              "      <td>121.043478</td>\n",
              "      <td>74.0</td>\n",
              "      <td>127.0</td>\n",
              "      <td>106.586957</td>\n",
              "      <td>42.0</td>\n",
              "      <td>90.0</td>\n",
              "      <td>61.173913</td>\n",
              "      <td>59.0</td>\n",
              "      <td>...</td>\n",
              "      <td>EMERGENCY</td>\n",
              "      <td>Medicare</td>\n",
              "      <td>PROTESTANT QUAKER</td>\n",
              "      <td>SINGLE</td>\n",
              "      <td>WHITE</td>\n",
              "      <td>5789</td>\n",
              "      <td>MICU</td>\n",
              "      <td>69.608219</td>\n",
              "      <td>1</td>\n",
              "      <td>17.0</td>\n",
              "    </tr>\n",
              "    <tr>\n",
              "      <th>1</th>\n",
              "      <td>63.0</td>\n",
              "      <td>110.0</td>\n",
              "      <td>79.117647</td>\n",
              "      <td>89.0</td>\n",
              "      <td>121.0</td>\n",
              "      <td>106.733333</td>\n",
              "      <td>49.0</td>\n",
              "      <td>74.0</td>\n",
              "      <td>64.733333</td>\n",
              "      <td>58.0</td>\n",
              "      <td>...</td>\n",
              "      <td>EMERGENCY</td>\n",
              "      <td>Private</td>\n",
              "      <td>UNOBTAINABLE</td>\n",
              "      <td>MARRIED</td>\n",
              "      <td>WHITE</td>\n",
              "      <td>53013</td>\n",
              "      <td>MICU</td>\n",
              "      <td>42.104110</td>\n",
              "      <td>1</td>\n",
              "      <td>3.0</td>\n",
              "    </tr>\n",
              "    <tr>\n",
              "      <th>2</th>\n",
              "      <td>81.0</td>\n",
              "      <td>98.0</td>\n",
              "      <td>91.689655</td>\n",
              "      <td>88.0</td>\n",
              "      <td>138.0</td>\n",
              "      <td>112.785714</td>\n",
              "      <td>45.0</td>\n",
              "      <td>67.0</td>\n",
              "      <td>56.821429</td>\n",
              "      <td>64.0</td>\n",
              "      <td>...</td>\n",
              "      <td>EMERGENCY</td>\n",
              "      <td>Medicare</td>\n",
              "      <td>PROTESTANT QUAKER</td>\n",
              "      <td>SEPARATED</td>\n",
              "      <td>BLACK</td>\n",
              "      <td>56983</td>\n",
              "      <td>MICU</td>\n",
              "      <td>68.210959</td>\n",
              "      <td>1</td>\n",
              "      <td>14.0</td>\n",
              "    </tr>\n",
              "    <tr>\n",
              "      <th>3</th>\n",
              "      <td>76.0</td>\n",
              "      <td>128.0</td>\n",
              "      <td>98.857143</td>\n",
              "      <td>84.0</td>\n",
              "      <td>135.0</td>\n",
              "      <td>106.972973</td>\n",
              "      <td>30.0</td>\n",
              "      <td>89.0</td>\n",
              "      <td>41.864865</td>\n",
              "      <td>48.0</td>\n",
              "      <td>...</td>\n",
              "      <td>ELECTIVE</td>\n",
              "      <td>Medicare</td>\n",
              "      <td>NOT SPECIFIED</td>\n",
              "      <td>WIDOWED</td>\n",
              "      <td>WHITE</td>\n",
              "      <td>5533</td>\n",
              "      <td>SICU</td>\n",
              "      <td>74.961644</td>\n",
              "      <td>1</td>\n",
              "      <td>15.0</td>\n",
              "    </tr>\n",
              "    <tr>\n",
              "      <th>4</th>\n",
              "      <td>58.0</td>\n",
              "      <td>64.0</td>\n",
              "      <td>60.324324</td>\n",
              "      <td>78.0</td>\n",
              "      <td>118.0</td>\n",
              "      <td>99.428571</td>\n",
              "      <td>26.0</td>\n",
              "      <td>47.0</td>\n",
              "      <td>38.880952</td>\n",
              "      <td>39.0</td>\n",
              "      <td>...</td>\n",
              "      <td>EMERGENCY</td>\n",
              "      <td>Medicare</td>\n",
              "      <td>JEWISH</td>\n",
              "      <td>WIDOWED</td>\n",
              "      <td>WHITE</td>\n",
              "      <td>56211</td>\n",
              "      <td>TSICU</td>\n",
              "      <td>79.424658</td>\n",
              "      <td>2</td>\n",
              "      <td>16.0</td>\n",
              "    </tr>\n",
              "    <tr>\n",
              "      <th>...</th>\n",
              "      <td>...</td>\n",
              "      <td>...</td>\n",
              "      <td>...</td>\n",
              "      <td>...</td>\n",
              "      <td>...</td>\n",
              "      <td>...</td>\n",
              "      <td>...</td>\n",
              "      <td>...</td>\n",
              "      <td>...</td>\n",
              "      <td>...</td>\n",
              "      <td>...</td>\n",
              "      <td>...</td>\n",
              "      <td>...</td>\n",
              "      <td>...</td>\n",
              "      <td>...</td>\n",
              "      <td>...</td>\n",
              "      <td>...</td>\n",
              "      <td>...</td>\n",
              "      <td>...</td>\n",
              "      <td>...</td>\n",
              "      <td>...</td>\n",
              "    </tr>\n",
              "    <tr>\n",
              "      <th>20880</th>\n",
              "      <td>65.0</td>\n",
              "      <td>92.0</td>\n",
              "      <td>78.500000</td>\n",
              "      <td>60.0</td>\n",
              "      <td>160.0</td>\n",
              "      <td>110.976190</td>\n",
              "      <td>34.0</td>\n",
              "      <td>94.0</td>\n",
              "      <td>56.595238</td>\n",
              "      <td>41.0</td>\n",
              "      <td>...</td>\n",
              "      <td>EMERGENCY</td>\n",
              "      <td>Medicare</td>\n",
              "      <td>CATHOLIC</td>\n",
              "      <td>MARRIED</td>\n",
              "      <td>WHITE</td>\n",
              "      <td>3229</td>\n",
              "      <td>MICU</td>\n",
              "      <td>90.000000</td>\n",
              "      <td>3</td>\n",
              "      <td>30.0</td>\n",
              "    </tr>\n",
              "    <tr>\n",
              "      <th>20881</th>\n",
              "      <td>74.0</td>\n",
              "      <td>112.0</td>\n",
              "      <td>89.156250</td>\n",
              "      <td>100.0</td>\n",
              "      <td>150.0</td>\n",
              "      <td>123.272727</td>\n",
              "      <td>58.0</td>\n",
              "      <td>83.0</td>\n",
              "      <td>67.818182</td>\n",
              "      <td>74.0</td>\n",
              "      <td>...</td>\n",
              "      <td>EMERGENCY</td>\n",
              "      <td>Private</td>\n",
              "      <td>NOT SPECIFIED</td>\n",
              "      <td>MARRIED</td>\n",
              "      <td>BLACK</td>\n",
              "      <td>1918</td>\n",
              "      <td>SICU</td>\n",
              "      <td>90.000000</td>\n",
              "      <td>2</td>\n",
              "      <td>6.0</td>\n",
              "    </tr>\n",
              "    <tr>\n",
              "      <th>20882</th>\n",
              "      <td>58.0</td>\n",
              "      <td>97.0</td>\n",
              "      <td>76.933333</td>\n",
              "      <td>94.0</td>\n",
              "      <td>131.0</td>\n",
              "      <td>112.037037</td>\n",
              "      <td>55.0</td>\n",
              "      <td>83.0</td>\n",
              "      <td>67.370370</td>\n",
              "      <td>66.0</td>\n",
              "      <td>...</td>\n",
              "      <td>EMERGENCY</td>\n",
              "      <td>Private</td>\n",
              "      <td>PROTESTANT QUAKER</td>\n",
              "      <td>DIVORCED</td>\n",
              "      <td>BLACK</td>\n",
              "      <td>24980</td>\n",
              "      <td>MICU</td>\n",
              "      <td>90.000000</td>\n",
              "      <td>1</td>\n",
              "      <td>6.0</td>\n",
              "    </tr>\n",
              "    <tr>\n",
              "      <th>20883</th>\n",
              "      <td>59.0</td>\n",
              "      <td>102.0</td>\n",
              "      <td>81.844444</td>\n",
              "      <td>96.0</td>\n",
              "      <td>150.0</td>\n",
              "      <td>123.837209</td>\n",
              "      <td>47.0</td>\n",
              "      <td>85.0</td>\n",
              "      <td>60.232558</td>\n",
              "      <td>65.0</td>\n",
              "      <td>...</td>\n",
              "      <td>EMERGENCY</td>\n",
              "      <td>Medicare</td>\n",
              "      <td>PROTESTANT QUAKER</td>\n",
              "      <td>WIDOWED</td>\n",
              "      <td>WHITE</td>\n",
              "      <td>41401</td>\n",
              "      <td>CCU</td>\n",
              "      <td>90.000000</td>\n",
              "      <td>1</td>\n",
              "      <td>13.0</td>\n",
              "    </tr>\n",
              "    <tr>\n",
              "      <th>20884</th>\n",
              "      <td>59.0</td>\n",
              "      <td>97.0</td>\n",
              "      <td>77.526316</td>\n",
              "      <td>82.0</td>\n",
              "      <td>139.0</td>\n",
              "      <td>106.287671</td>\n",
              "      <td>38.0</td>\n",
              "      <td>80.0</td>\n",
              "      <td>55.068493</td>\n",
              "      <td>34.0</td>\n",
              "      <td>...</td>\n",
              "      <td>ELECTIVE</td>\n",
              "      <td>Private</td>\n",
              "      <td>NOT SPECIFIED</td>\n",
              "      <td>MARRIED</td>\n",
              "      <td>WHITE</td>\n",
              "      <td>2115</td>\n",
              "      <td>MICU</td>\n",
              "      <td>90.000000</td>\n",
              "      <td>1</td>\n",
              "      <td>10.0</td>\n",
              "    </tr>\n",
              "  </tbody>\n",
              "</table>\n",
              "<p>20885 rows × 35 columns</p>\n",
              "</div>\n",
              "      <button class=\"colab-df-convert\" onclick=\"convertToInteractive('df-47271adf-88da-4c02-89e7-873b04c6bc2b')\"\n",
              "              title=\"Convert this dataframe to an interactive table.\"\n",
              "              style=\"display:none;\">\n",
              "        \n",
              "  <svg xmlns=\"http://www.w3.org/2000/svg\" height=\"24px\"viewBox=\"0 0 24 24\"\n",
              "       width=\"24px\">\n",
              "    <path d=\"M0 0h24v24H0V0z\" fill=\"none\"/>\n",
              "    <path d=\"M18.56 5.44l.94 2.06.94-2.06 2.06-.94-2.06-.94-.94-2.06-.94 2.06-2.06.94zm-11 1L8.5 8.5l.94-2.06 2.06-.94-2.06-.94L8.5 2.5l-.94 2.06-2.06.94zm10 10l.94 2.06.94-2.06 2.06-.94-2.06-.94-.94-2.06-.94 2.06-2.06.94z\"/><path d=\"M17.41 7.96l-1.37-1.37c-.4-.4-.92-.59-1.43-.59-.52 0-1.04.2-1.43.59L10.3 9.45l-7.72 7.72c-.78.78-.78 2.05 0 2.83L4 21.41c.39.39.9.59 1.41.59.51 0 1.02-.2 1.41-.59l7.78-7.78 2.81-2.81c.8-.78.8-2.07 0-2.86zM5.41 20L4 18.59l7.72-7.72 1.47 1.35L5.41 20z\"/>\n",
              "  </svg>\n",
              "      </button>\n",
              "      \n",
              "  <style>\n",
              "    .colab-df-container {\n",
              "      display:flex;\n",
              "      flex-wrap:wrap;\n",
              "      gap: 12px;\n",
              "    }\n",
              "\n",
              "    .colab-df-convert {\n",
              "      background-color: #E8F0FE;\n",
              "      border: none;\n",
              "      border-radius: 50%;\n",
              "      cursor: pointer;\n",
              "      display: none;\n",
              "      fill: #1967D2;\n",
              "      height: 32px;\n",
              "      padding: 0 0 0 0;\n",
              "      width: 32px;\n",
              "    }\n",
              "\n",
              "    .colab-df-convert:hover {\n",
              "      background-color: #E2EBFA;\n",
              "      box-shadow: 0px 1px 2px rgba(60, 64, 67, 0.3), 0px 1px 3px 1px rgba(60, 64, 67, 0.15);\n",
              "      fill: #174EA6;\n",
              "    }\n",
              "\n",
              "    [theme=dark] .colab-df-convert {\n",
              "      background-color: #3B4455;\n",
              "      fill: #D2E3FC;\n",
              "    }\n",
              "\n",
              "    [theme=dark] .colab-df-convert:hover {\n",
              "      background-color: #434B5C;\n",
              "      box-shadow: 0px 1px 3px 1px rgba(0, 0, 0, 0.15);\n",
              "      filter: drop-shadow(0px 1px 2px rgba(0, 0, 0, 0.3));\n",
              "      fill: #FFFFFF;\n",
              "    }\n",
              "  </style>\n",
              "\n",
              "      <script>\n",
              "        const buttonEl =\n",
              "          document.querySelector('#df-47271adf-88da-4c02-89e7-873b04c6bc2b button.colab-df-convert');\n",
              "        buttonEl.style.display =\n",
              "          google.colab.kernel.accessAllowed ? 'block' : 'none';\n",
              "\n",
              "        async function convertToInteractive(key) {\n",
              "          const element = document.querySelector('#df-47271adf-88da-4c02-89e7-873b04c6bc2b');\n",
              "          const dataTable =\n",
              "            await google.colab.kernel.invokeFunction('convertToInteractive',\n",
              "                                                     [key], {});\n",
              "          if (!dataTable) return;\n",
              "\n",
              "          const docLinkHtml = 'Like what you see? Visit the ' +\n",
              "            '<a target=\"_blank\" href=https://colab.research.google.com/notebooks/data_table.ipynb>data table notebook</a>'\n",
              "            + ' to learn more about interactive tables.';\n",
              "          element.innerHTML = '';\n",
              "          dataTable['output_type'] = 'display_data';\n",
              "          await google.colab.output.renderOutput(dataTable, element);\n",
              "          const docLink = document.createElement('div');\n",
              "          docLink.innerHTML = docLinkHtml;\n",
              "          element.appendChild(docLink);\n",
              "        }\n",
              "      </script>\n",
              "    </div>\n",
              "  </div>\n",
              "  "
            ],
            "text/plain": [
              "       HeartRate_Min  HeartRate_Max  HeartRate_Mean  SysBP_Min  SysBP_Max  \\\n",
              "0               89.0          145.0      121.043478       74.0      127.0   \n",
              "1               63.0          110.0       79.117647       89.0      121.0   \n",
              "2               81.0           98.0       91.689655       88.0      138.0   \n",
              "3               76.0          128.0       98.857143       84.0      135.0   \n",
              "4               58.0           64.0       60.324324       78.0      118.0   \n",
              "...              ...            ...             ...        ...        ...   \n",
              "20880           65.0           92.0       78.500000       60.0      160.0   \n",
              "20881           74.0          112.0       89.156250      100.0      150.0   \n",
              "20882           58.0           97.0       76.933333       94.0      131.0   \n",
              "20883           59.0          102.0       81.844444       96.0      150.0   \n",
              "20884           59.0           97.0       77.526316       82.0      139.0   \n",
              "\n",
              "       SysBP_Mean  DiasBP_Min  DiasBP_Max  DiasBP_Mean  MeanBP_Min  ...  \\\n",
              "0      106.586957        42.0        90.0    61.173913        59.0  ...   \n",
              "1      106.733333        49.0        74.0    64.733333        58.0  ...   \n",
              "2      112.785714        45.0        67.0    56.821429        64.0  ...   \n",
              "3      106.972973        30.0        89.0    41.864865        48.0  ...   \n",
              "4       99.428571        26.0        47.0    38.880952        39.0  ...   \n",
              "...           ...         ...         ...          ...         ...  ...   \n",
              "20880  110.976190        34.0        94.0    56.595238        41.0  ...   \n",
              "20881  123.272727        58.0        83.0    67.818182        74.0  ...   \n",
              "20882  112.037037        55.0        83.0    67.370370        66.0  ...   \n",
              "20883  123.837209        47.0        85.0    60.232558        65.0  ...   \n",
              "20884  106.287671        38.0        80.0    55.068493        34.0  ...   \n",
              "\n",
              "       ADMISSION_TYPE  INSURANCE           RELIGION  MARITAL_STATUS  \\\n",
              "0           EMERGENCY   Medicare  PROTESTANT QUAKER          SINGLE   \n",
              "1           EMERGENCY    Private       UNOBTAINABLE         MARRIED   \n",
              "2           EMERGENCY   Medicare  PROTESTANT QUAKER       SEPARATED   \n",
              "3            ELECTIVE   Medicare      NOT SPECIFIED         WIDOWED   \n",
              "4           EMERGENCY   Medicare             JEWISH         WIDOWED   \n",
              "...               ...        ...                ...             ...   \n",
              "20880       EMERGENCY   Medicare           CATHOLIC         MARRIED   \n",
              "20881       EMERGENCY    Private      NOT SPECIFIED         MARRIED   \n",
              "20882       EMERGENCY    Private  PROTESTANT QUAKER        DIVORCED   \n",
              "20883       EMERGENCY   Medicare  PROTESTANT QUAKER         WIDOWED   \n",
              "20884        ELECTIVE    Private      NOT SPECIFIED         MARRIED   \n",
              "\n",
              "       ETHNICITY  ICD9_diagnosis  FIRST_CAREUNIT        age  visits_ICU  \\\n",
              "0          WHITE            5789            MICU  69.608219           1   \n",
              "1          WHITE           53013            MICU  42.104110           1   \n",
              "2          BLACK           56983            MICU  68.210959           1   \n",
              "3          WHITE            5533            SICU  74.961644           1   \n",
              "4          WHITE           56211           TSICU  79.424658           2   \n",
              "...          ...             ...             ...        ...         ...   \n",
              "20880      WHITE            3229            MICU  90.000000           3   \n",
              "20881      BLACK            1918            SICU  90.000000           2   \n",
              "20882      BLACK           24980            MICU  90.000000           1   \n",
              "20883      WHITE           41401             CCU  90.000000           1   \n",
              "20884      WHITE            2115            MICU  90.000000           1   \n",
              "\n",
              "       number_comorbidities  \n",
              "0                      17.0  \n",
              "1                       3.0  \n",
              "2                      14.0  \n",
              "3                      15.0  \n",
              "4                      16.0  \n",
              "...                     ...  \n",
              "20880                  30.0  \n",
              "20881                   6.0  \n",
              "20882                   6.0  \n",
              "20883                  13.0  \n",
              "20884                  10.0  \n",
              "\n",
              "[20885 rows x 35 columns]"
            ]
          },
          "metadata": {},
          "execution_count": 41
        }
      ]
    },
    {
      "cell_type": "code",
      "source": [
        "y_train"
      ],
      "metadata": {
        "colab": {
          "base_uri": "https://localhost:8080/"
        },
        "id": "kNHT74eTfyMP",
        "outputId": "9997f437-d9c3-46ae-bca4-3fe011836eab"
      },
      "execution_count": null,
      "outputs": [
        {
          "output_type": "execute_result",
          "data": {
            "text/plain": [
              "0        0\n",
              "1        0\n",
              "2        0\n",
              "3        0\n",
              "4        0\n",
              "        ..\n",
              "20880    0\n",
              "20881    0\n",
              "20882    0\n",
              "20883    0\n",
              "20884    0\n",
              "Name: HOSPITAL_EXPIRE_FLAG, Length: 20885, dtype: int64"
            ]
          },
          "metadata": {},
          "execution_count": 42
        }
      ]
    },
    {
      "cell_type": "markdown",
      "source": [
        "# Preprocessing Pipeline\n",
        "\n",
        "We will use the `ColumnTransformer` to allwo for different data preprocessing for differen types of columns\n",
        "\n",
        "+ Numerical values - `RobustScaler()` and `KNNImputer()`\n",
        "+ Categoricals (not ICD9) - `OneHotEncoder()` and `StandardScaler()`\n",
        "+ ICD9 - `TargetEncoder()` and `StandardScaler()`"
      ],
      "metadata": {
        "id": "N7AaQpxX5oaA"
      }
    },
    {
      "cell_type": "code",
      "source": [
        "# Update list of numerical and categorical features\n",
        "num_feat = X_train.select_dtypes(exclude=['object', 'category']).columns\n",
        "print(num_feat)\n",
        "\n",
        "cat_feat = X_train.select_dtypes(include=['object', 'category']).columns\n",
        "\n",
        "# make own category for preprocessing 'ICD9_diagnosis'\n",
        "icd9_feat = ['ICD9_diagnosis']\n",
        "cat_feat = cat_feat.drop(['ICD9_diagnosis']) \n",
        "print(icd9_feat)\n",
        "print(cat_feat)"
      ],
      "metadata": {
        "colab": {
          "base_uri": "https://localhost:8080/"
        },
        "id": "CK76beLq8qCf",
        "outputId": "7fe63284-c842-45b0-97dc-c41c19116b5b"
      },
      "execution_count": null,
      "outputs": [
        {
          "output_type": "stream",
          "name": "stdout",
          "text": [
            "Index(['HeartRate_Min', 'HeartRate_Max', 'HeartRate_Mean', 'SysBP_Min',\n",
            "       'SysBP_Max', 'SysBP_Mean', 'DiasBP_Min', 'DiasBP_Max', 'DiasBP_Mean',\n",
            "       'MeanBP_Min', 'MeanBP_Max', 'MeanBP_Mean', 'RespRate_Min',\n",
            "       'RespRate_Max', 'RespRate_Mean', 'TempC_Min', 'TempC_Max', 'TempC_Mean',\n",
            "       'SpO2_Min', 'SpO2_Max', 'SpO2_Mean', 'Glucose_Min', 'Glucose_Max',\n",
            "       'Glucose_Mean', 'age', 'visits_ICU', 'number_comorbidities'],\n",
            "      dtype='object')\n",
            "['ICD9_diagnosis']\n",
            "Index(['GENDER', 'ADMISSION_TYPE', 'INSURANCE', 'RELIGION', 'MARITAL_STATUS',\n",
            "       'ETHNICITY', 'FIRST_CAREUNIT'],\n",
            "      dtype='object')\n"
          ]
        }
      ]
    },
    {
      "cell_type": "code",
      "source": [
        "from sklearn.pipeline import make_pipeline, Pipeline\n",
        "from sklearn.compose import ColumnTransformer\n",
        "\n",
        "\n",
        "\n",
        "# pipeline for numerical data\n",
        "num_preprocessing = make_pipeline(\n",
        "    cont_scaler,\n",
        "    cont_imputer   \n",
        "    )\n",
        "\n",
        "# pipeline for categorical data\n",
        "cat_preprocessing = make_pipeline(\n",
        "    #SimpleImputer(strategy=\"most_frequent\"), # we only have missing data now in the continious \n",
        "    cat_encoder,\n",
        "    cat_scaler)\n",
        "\n",
        "icd9_preprocessing = make_pipeline(\n",
        "    icd9_encoder,\n",
        "    cat_scaler)\n",
        "\n",
        "\n",
        "\n",
        "# combine preprocessing pipelines using a columnTransformer\n",
        "preprocessing = ColumnTransformer(\n",
        "    [(\"num\", num_preprocessing, num_feat),\n",
        "     (\"cat\", cat_preprocessing, cat_feat),\n",
        "     (\"icd9\", icd9_preprocessing, icd9_feat)\n",
        "     ]\n",
        "    #,remainder='passthrough'\n",
        "    , remainder='drop'\n",
        ")"
      ],
      "metadata": {
        "id": "vWydgwj56VZS"
      },
      "execution_count": null,
      "outputs": []
    },
    {
      "cell_type": "code",
      "source": [
        "from sklearn import set_config\n",
        "set_config(display=\"diagram\")\n",
        "preprocessing"
      ],
      "metadata": {
        "colab": {
          "base_uri": "https://localhost:8080/",
          "height": 151
        },
        "id": "p8D1pRWc9vLT",
        "outputId": "f521332b-3f53-46da-dda0-cab194d574d3"
      },
      "execution_count": null,
      "outputs": [
        {
          "output_type": "execute_result",
          "data": {
            "text/html": [
              "<style>#sk-ea7e54c6-43a9-403d-9b17-61c9c8709e21 {color: black;background-color: white;}#sk-ea7e54c6-43a9-403d-9b17-61c9c8709e21 pre{padding: 0;}#sk-ea7e54c6-43a9-403d-9b17-61c9c8709e21 div.sk-toggleable {background-color: white;}#sk-ea7e54c6-43a9-403d-9b17-61c9c8709e21 label.sk-toggleable__label {cursor: pointer;display: block;width: 100%;margin-bottom: 0;padding: 0.3em;box-sizing: border-box;text-align: center;}#sk-ea7e54c6-43a9-403d-9b17-61c9c8709e21 label.sk-toggleable__label-arrow:before {content: \"▸\";float: left;margin-right: 0.25em;color: #696969;}#sk-ea7e54c6-43a9-403d-9b17-61c9c8709e21 label.sk-toggleable__label-arrow:hover:before {color: black;}#sk-ea7e54c6-43a9-403d-9b17-61c9c8709e21 div.sk-estimator:hover label.sk-toggleable__label-arrow:before {color: black;}#sk-ea7e54c6-43a9-403d-9b17-61c9c8709e21 div.sk-toggleable__content {max-height: 0;max-width: 0;overflow: hidden;text-align: left;background-color: #f0f8ff;}#sk-ea7e54c6-43a9-403d-9b17-61c9c8709e21 div.sk-toggleable__content pre {margin: 0.2em;color: black;border-radius: 0.25em;background-color: #f0f8ff;}#sk-ea7e54c6-43a9-403d-9b17-61c9c8709e21 input.sk-toggleable__control:checked~div.sk-toggleable__content {max-height: 200px;max-width: 100%;overflow: auto;}#sk-ea7e54c6-43a9-403d-9b17-61c9c8709e21 input.sk-toggleable__control:checked~label.sk-toggleable__label-arrow:before {content: \"▾\";}#sk-ea7e54c6-43a9-403d-9b17-61c9c8709e21 div.sk-estimator input.sk-toggleable__control:checked~label.sk-toggleable__label {background-color: #d4ebff;}#sk-ea7e54c6-43a9-403d-9b17-61c9c8709e21 div.sk-label input.sk-toggleable__control:checked~label.sk-toggleable__label {background-color: #d4ebff;}#sk-ea7e54c6-43a9-403d-9b17-61c9c8709e21 input.sk-hidden--visually {border: 0;clip: rect(1px 1px 1px 1px);clip: rect(1px, 1px, 1px, 1px);height: 1px;margin: -1px;overflow: hidden;padding: 0;position: absolute;width: 1px;}#sk-ea7e54c6-43a9-403d-9b17-61c9c8709e21 div.sk-estimator {font-family: monospace;background-color: #f0f8ff;border: 1px dotted black;border-radius: 0.25em;box-sizing: border-box;margin-bottom: 0.5em;}#sk-ea7e54c6-43a9-403d-9b17-61c9c8709e21 div.sk-estimator:hover {background-color: #d4ebff;}#sk-ea7e54c6-43a9-403d-9b17-61c9c8709e21 div.sk-parallel-item::after {content: \"\";width: 100%;border-bottom: 1px solid gray;flex-grow: 1;}#sk-ea7e54c6-43a9-403d-9b17-61c9c8709e21 div.sk-label:hover label.sk-toggleable__label {background-color: #d4ebff;}#sk-ea7e54c6-43a9-403d-9b17-61c9c8709e21 div.sk-serial::before {content: \"\";position: absolute;border-left: 1px solid gray;box-sizing: border-box;top: 2em;bottom: 0;left: 50%;}#sk-ea7e54c6-43a9-403d-9b17-61c9c8709e21 div.sk-serial {display: flex;flex-direction: column;align-items: center;background-color: white;padding-right: 0.2em;padding-left: 0.2em;}#sk-ea7e54c6-43a9-403d-9b17-61c9c8709e21 div.sk-item {z-index: 1;}#sk-ea7e54c6-43a9-403d-9b17-61c9c8709e21 div.sk-parallel {display: flex;align-items: stretch;justify-content: center;background-color: white;}#sk-ea7e54c6-43a9-403d-9b17-61c9c8709e21 div.sk-parallel::before {content: \"\";position: absolute;border-left: 1px solid gray;box-sizing: border-box;top: 2em;bottom: 0;left: 50%;}#sk-ea7e54c6-43a9-403d-9b17-61c9c8709e21 div.sk-parallel-item {display: flex;flex-direction: column;position: relative;background-color: white;}#sk-ea7e54c6-43a9-403d-9b17-61c9c8709e21 div.sk-parallel-item:first-child::after {align-self: flex-end;width: 50%;}#sk-ea7e54c6-43a9-403d-9b17-61c9c8709e21 div.sk-parallel-item:last-child::after {align-self: flex-start;width: 50%;}#sk-ea7e54c6-43a9-403d-9b17-61c9c8709e21 div.sk-parallel-item:only-child::after {width: 0;}#sk-ea7e54c6-43a9-403d-9b17-61c9c8709e21 div.sk-dashed-wrapped {border: 1px dashed gray;margin: 0 0.4em 0.5em 0.4em;box-sizing: border-box;padding-bottom: 0.4em;background-color: white;position: relative;}#sk-ea7e54c6-43a9-403d-9b17-61c9c8709e21 div.sk-label label {font-family: monospace;font-weight: bold;background-color: white;display: inline-block;line-height: 1.2em;}#sk-ea7e54c6-43a9-403d-9b17-61c9c8709e21 div.sk-label-container {position: relative;z-index: 2;text-align: center;}#sk-ea7e54c6-43a9-403d-9b17-61c9c8709e21 div.sk-container {/* jupyter's `normalize.less` sets `[hidden] { display: none; }` but bootstrap.min.css set `[hidden] { display: none !important; }` so we also need the `!important` here to be able to override the default hidden behavior on the sphinx rendered scikit-learn.org. See: https://github.com/scikit-learn/scikit-learn/issues/21755 */display: inline-block !important;position: relative;}#sk-ea7e54c6-43a9-403d-9b17-61c9c8709e21 div.sk-text-repr-fallback {display: none;}</style><div id=\"sk-ea7e54c6-43a9-403d-9b17-61c9c8709e21\" class=\"sk-top-container\"><div class=\"sk-text-repr-fallback\"><pre>ColumnTransformer(transformers=[(&#x27;num&#x27;,\n",
              "                                 Pipeline(steps=[(&#x27;robustscaler&#x27;,\n",
              "                                                  RobustScaler()),\n",
              "                                                 (&#x27;simpleimputer&#x27;,\n",
              "                                                  SimpleImputer())]),\n",
              "                                 Index([&#x27;HeartRate_Min&#x27;, &#x27;HeartRate_Max&#x27;, &#x27;HeartRate_Mean&#x27;, &#x27;SysBP_Min&#x27;,\n",
              "       &#x27;SysBP_Max&#x27;, &#x27;SysBP_Mean&#x27;, &#x27;DiasBP_Min&#x27;, &#x27;DiasBP_Max&#x27;, &#x27;DiasBP_Mean&#x27;,\n",
              "       &#x27;MeanBP_Min&#x27;, &#x27;MeanBP_Max&#x27;, &#x27;MeanBP_Mean&#x27;, &#x27;RespRate_Min&#x27;,\n",
              "       &#x27;RespRate_Max&#x27;, &#x27;RespRate_Mean&#x27;, &#x27;TempC_M...\n",
              "                                 Pipeline(steps=[(&#x27;onehotencoder&#x27;,\n",
              "                                                  OneHotEncoder(handle_unknown=&#x27;ignore&#x27;,\n",
              "                                                                sparse=False)),\n",
              "                                                 (&#x27;standardscaler&#x27;,\n",
              "                                                  StandardScaler())]),\n",
              "                                 Index([&#x27;GENDER&#x27;, &#x27;ADMISSION_TYPE&#x27;, &#x27;INSURANCE&#x27;, &#x27;RELIGION&#x27;, &#x27;MARITAL_STATUS&#x27;,\n",
              "       &#x27;ETHNICITY&#x27;, &#x27;FIRST_CAREUNIT&#x27;],\n",
              "      dtype=&#x27;object&#x27;)),\n",
              "                                (&#x27;icd9&#x27;,\n",
              "                                 Pipeline(steps=[(&#x27;targetencoder&#x27;,\n",
              "                                                  TargetEncoder()),\n",
              "                                                 (&#x27;standardscaler&#x27;,\n",
              "                                                  StandardScaler())]),\n",
              "                                 [&#x27;ICD9_diagnosis&#x27;])])</pre><b>Please rerun this cell to show the HTML repr or trust the notebook.</b></div><div class=\"sk-container\" hidden><div class=\"sk-item sk-dashed-wrapped\"><div class=\"sk-label-container\"><div class=\"sk-label sk-toggleable\"><input class=\"sk-toggleable__control sk-hidden--visually\" id=\"22afb182-7426-4f65-950b-e6ee294eee19\" type=\"checkbox\" ><label for=\"22afb182-7426-4f65-950b-e6ee294eee19\" class=\"sk-toggleable__label sk-toggleable__label-arrow\">ColumnTransformer</label><div class=\"sk-toggleable__content\"><pre>ColumnTransformer(transformers=[(&#x27;num&#x27;,\n",
              "                                 Pipeline(steps=[(&#x27;robustscaler&#x27;,\n",
              "                                                  RobustScaler()),\n",
              "                                                 (&#x27;simpleimputer&#x27;,\n",
              "                                                  SimpleImputer())]),\n",
              "                                 Index([&#x27;HeartRate_Min&#x27;, &#x27;HeartRate_Max&#x27;, &#x27;HeartRate_Mean&#x27;, &#x27;SysBP_Min&#x27;,\n",
              "       &#x27;SysBP_Max&#x27;, &#x27;SysBP_Mean&#x27;, &#x27;DiasBP_Min&#x27;, &#x27;DiasBP_Max&#x27;, &#x27;DiasBP_Mean&#x27;,\n",
              "       &#x27;MeanBP_Min&#x27;, &#x27;MeanBP_Max&#x27;, &#x27;MeanBP_Mean&#x27;, &#x27;RespRate_Min&#x27;,\n",
              "       &#x27;RespRate_Max&#x27;, &#x27;RespRate_Mean&#x27;, &#x27;TempC_M...\n",
              "                                 Pipeline(steps=[(&#x27;onehotencoder&#x27;,\n",
              "                                                  OneHotEncoder(handle_unknown=&#x27;ignore&#x27;,\n",
              "                                                                sparse=False)),\n",
              "                                                 (&#x27;standardscaler&#x27;,\n",
              "                                                  StandardScaler())]),\n",
              "                                 Index([&#x27;GENDER&#x27;, &#x27;ADMISSION_TYPE&#x27;, &#x27;INSURANCE&#x27;, &#x27;RELIGION&#x27;, &#x27;MARITAL_STATUS&#x27;,\n",
              "       &#x27;ETHNICITY&#x27;, &#x27;FIRST_CAREUNIT&#x27;],\n",
              "      dtype=&#x27;object&#x27;)),\n",
              "                                (&#x27;icd9&#x27;,\n",
              "                                 Pipeline(steps=[(&#x27;targetencoder&#x27;,\n",
              "                                                  TargetEncoder()),\n",
              "                                                 (&#x27;standardscaler&#x27;,\n",
              "                                                  StandardScaler())]),\n",
              "                                 [&#x27;ICD9_diagnosis&#x27;])])</pre></div></div></div><div class=\"sk-parallel\"><div class=\"sk-parallel-item\"><div class=\"sk-item\"><div class=\"sk-label-container\"><div class=\"sk-label sk-toggleable\"><input class=\"sk-toggleable__control sk-hidden--visually\" id=\"9681c8f6-c5fc-482a-901f-0c0d6774b0db\" type=\"checkbox\" ><label for=\"9681c8f6-c5fc-482a-901f-0c0d6774b0db\" class=\"sk-toggleable__label sk-toggleable__label-arrow\">num</label><div class=\"sk-toggleable__content\"><pre>Index([&#x27;HeartRate_Min&#x27;, &#x27;HeartRate_Max&#x27;, &#x27;HeartRate_Mean&#x27;, &#x27;SysBP_Min&#x27;,\n",
              "       &#x27;SysBP_Max&#x27;, &#x27;SysBP_Mean&#x27;, &#x27;DiasBP_Min&#x27;, &#x27;DiasBP_Max&#x27;, &#x27;DiasBP_Mean&#x27;,\n",
              "       &#x27;MeanBP_Min&#x27;, &#x27;MeanBP_Max&#x27;, &#x27;MeanBP_Mean&#x27;, &#x27;RespRate_Min&#x27;,\n",
              "       &#x27;RespRate_Max&#x27;, &#x27;RespRate_Mean&#x27;, &#x27;TempC_Min&#x27;, &#x27;TempC_Max&#x27;, &#x27;TempC_Mean&#x27;,\n",
              "       &#x27;SpO2_Min&#x27;, &#x27;SpO2_Max&#x27;, &#x27;SpO2_Mean&#x27;, &#x27;Glucose_Min&#x27;, &#x27;Glucose_Max&#x27;,\n",
              "       &#x27;Glucose_Mean&#x27;, &#x27;age&#x27;, &#x27;visits_ICU&#x27;, &#x27;number_comorbidities&#x27;],\n",
              "      dtype=&#x27;object&#x27;)</pre></div></div></div><div class=\"sk-serial\"><div class=\"sk-item\"><div class=\"sk-serial\"><div class=\"sk-item\"><div class=\"sk-estimator sk-toggleable\"><input class=\"sk-toggleable__control sk-hidden--visually\" id=\"33b07296-2961-4699-ba8f-9c4ce840176e\" type=\"checkbox\" ><label for=\"33b07296-2961-4699-ba8f-9c4ce840176e\" class=\"sk-toggleable__label sk-toggleable__label-arrow\">RobustScaler</label><div class=\"sk-toggleable__content\"><pre>RobustScaler()</pre></div></div></div><div class=\"sk-item\"><div class=\"sk-estimator sk-toggleable\"><input class=\"sk-toggleable__control sk-hidden--visually\" id=\"6fe14209-f144-4d84-a5b7-ca8725767f0f\" type=\"checkbox\" ><label for=\"6fe14209-f144-4d84-a5b7-ca8725767f0f\" class=\"sk-toggleable__label sk-toggleable__label-arrow\">SimpleImputer</label><div class=\"sk-toggleable__content\"><pre>SimpleImputer()</pre></div></div></div></div></div></div></div></div><div class=\"sk-parallel-item\"><div class=\"sk-item\"><div class=\"sk-label-container\"><div class=\"sk-label sk-toggleable\"><input class=\"sk-toggleable__control sk-hidden--visually\" id=\"ae43bf77-5503-48f8-b068-be693d9a2fca\" type=\"checkbox\" ><label for=\"ae43bf77-5503-48f8-b068-be693d9a2fca\" class=\"sk-toggleable__label sk-toggleable__label-arrow\">cat</label><div class=\"sk-toggleable__content\"><pre>Index([&#x27;GENDER&#x27;, &#x27;ADMISSION_TYPE&#x27;, &#x27;INSURANCE&#x27;, &#x27;RELIGION&#x27;, &#x27;MARITAL_STATUS&#x27;,\n",
              "       &#x27;ETHNICITY&#x27;, &#x27;FIRST_CAREUNIT&#x27;],\n",
              "      dtype=&#x27;object&#x27;)</pre></div></div></div><div class=\"sk-serial\"><div class=\"sk-item\"><div class=\"sk-serial\"><div class=\"sk-item\"><div class=\"sk-estimator sk-toggleable\"><input class=\"sk-toggleable__control sk-hidden--visually\" id=\"5540743d-7624-4bf2-84b3-fdf305a22cb3\" type=\"checkbox\" ><label for=\"5540743d-7624-4bf2-84b3-fdf305a22cb3\" class=\"sk-toggleable__label sk-toggleable__label-arrow\">OneHotEncoder</label><div class=\"sk-toggleable__content\"><pre>OneHotEncoder(handle_unknown=&#x27;ignore&#x27;, sparse=False)</pre></div></div></div><div class=\"sk-item\"><div class=\"sk-estimator sk-toggleable\"><input class=\"sk-toggleable__control sk-hidden--visually\" id=\"83826db9-556e-4353-875f-638c3909c66e\" type=\"checkbox\" ><label for=\"83826db9-556e-4353-875f-638c3909c66e\" class=\"sk-toggleable__label sk-toggleable__label-arrow\">StandardScaler</label><div class=\"sk-toggleable__content\"><pre>StandardScaler()</pre></div></div></div></div></div></div></div></div><div class=\"sk-parallel-item\"><div class=\"sk-item\"><div class=\"sk-label-container\"><div class=\"sk-label sk-toggleable\"><input class=\"sk-toggleable__control sk-hidden--visually\" id=\"be1cac0a-1a21-4d07-ad07-d0fe3ea18b58\" type=\"checkbox\" ><label for=\"be1cac0a-1a21-4d07-ad07-d0fe3ea18b58\" class=\"sk-toggleable__label sk-toggleable__label-arrow\">icd9</label><div class=\"sk-toggleable__content\"><pre>[&#x27;ICD9_diagnosis&#x27;]</pre></div></div></div><div class=\"sk-serial\"><div class=\"sk-item\"><div class=\"sk-serial\"><div class=\"sk-item\"><div class=\"sk-estimator sk-toggleable\"><input class=\"sk-toggleable__control sk-hidden--visually\" id=\"fe1a9e30-bb5f-482b-8211-810edeaada7f\" type=\"checkbox\" ><label for=\"fe1a9e30-bb5f-482b-8211-810edeaada7f\" class=\"sk-toggleable__label sk-toggleable__label-arrow\">TargetEncoder</label><div class=\"sk-toggleable__content\"><pre>TargetEncoder()</pre></div></div></div><div class=\"sk-item\"><div class=\"sk-estimator sk-toggleable\"><input class=\"sk-toggleable__control sk-hidden--visually\" id=\"4f8558d3-e2de-41c9-9888-f2d554ba0d1c\" type=\"checkbox\" ><label for=\"4f8558d3-e2de-41c9-9888-f2d554ba0d1c\" class=\"sk-toggleable__label sk-toggleable__label-arrow\">StandardScaler</label><div class=\"sk-toggleable__content\"><pre>StandardScaler()</pre></div></div></div></div></div></div></div></div></div></div></div></div>"
            ],
            "text/plain": [
              "ColumnTransformer(transformers=[('num',\n",
              "                                 Pipeline(steps=[('robustscaler',\n",
              "                                                  RobustScaler()),\n",
              "                                                 ('simpleimputer',\n",
              "                                                  SimpleImputer())]),\n",
              "                                 Index(['HeartRate_Min', 'HeartRate_Max', 'HeartRate_Mean', 'SysBP_Min',\n",
              "       'SysBP_Max', 'SysBP_Mean', 'DiasBP_Min', 'DiasBP_Max', 'DiasBP_Mean',\n",
              "       'MeanBP_Min', 'MeanBP_Max', 'MeanBP_Mean', 'RespRate_Min',\n",
              "       'RespRate_Max', 'RespRate_Mean', 'TempC_M...\n",
              "                                 Pipeline(steps=[('onehotencoder',\n",
              "                                                  OneHotEncoder(handle_unknown='ignore',\n",
              "                                                                sparse=False)),\n",
              "                                                 ('standardscaler',\n",
              "                                                  StandardScaler())]),\n",
              "                                 Index(['GENDER', 'ADMISSION_TYPE', 'INSURANCE', 'RELIGION', 'MARITAL_STATUS',\n",
              "       'ETHNICITY', 'FIRST_CAREUNIT'],\n",
              "      dtype='object')),\n",
              "                                ('icd9',\n",
              "                                 Pipeline(steps=[('targetencoder',\n",
              "                                                  TargetEncoder()),\n",
              "                                                 ('standardscaler',\n",
              "                                                  StandardScaler())]),\n",
              "                                 ['ICD9_diagnosis'])])"
            ]
          },
          "metadata": {},
          "execution_count": 45
        }
      ]
    },
    {
      "cell_type": "code",
      "source": [
        "#X_train_pp = preprocessing.fit_transform(X_train, y_train)\n"
      ],
      "metadata": {
        "id": "0IIH6IYna08y"
      },
      "execution_count": null,
      "outputs": []
    },
    {
      "cell_type": "code",
      "source": [
        "preprocessing.fit(X_train, y_train)\n",
        "X_train_pp = preprocessing.transform(X_train)"
      ],
      "metadata": {
        "id": "Gqy1BpAPouit"
      },
      "execution_count": null,
      "outputs": []
    },
    {
      "cell_type": "code",
      "source": [
        "X_train_pp.shape"
      ],
      "metadata": {
        "colab": {
          "base_uri": "https://localhost:8080/"
        },
        "id": "TO4OwuYCmiNj",
        "outputId": "adf4da87-d983-4532-9ae5-b6ebf846c6b0"
      },
      "execution_count": null,
      "outputs": [
        {
          "output_type": "execute_result",
          "data": {
            "text/plain": [
              "(20885, 63)"
            ]
          },
          "metadata": {},
          "execution_count": 48
        }
      ]
    },
    {
      "cell_type": "markdown",
      "source": [
        "## Class Imbalance "
      ],
      "metadata": {
        "id": "4qInKJ9D5i2X"
      }
    },
    {
      "cell_type": "markdown",
      "source": [
        "+ The `SVC` offers the `class_weight = 'balanced'`, this conducts `RandomOverSampling` of the minority class till the classes are balanced.\n",
        "+ `KNeighborsClassifier` has no such option \n",
        "+ and in any case randomly repeating minority observations is not necessarily the best you can do\n",
        "\n",
        "### SMOTEing\n",
        "\n",
        "SMOTE = Synthetic Minority Oversampling Technique. The idea is to creat synthetic observations that are lie inbetween two close member so fthe minority class\n",
        "+ Sample minority observation at random \n",
        "+ Sample one of $k$ nearets neighbours (default $k = 5$)\n",
        "+ Draw a line between the point and the chosen neighbour \n",
        "+ Generate a new observation on this line\n",
        "\n",
        "### Tomek links\n",
        "\n",
        "Tomek links is a method for undersampling. This removes majority class observations that are close to minoity class observations. \n",
        "\n",
        "$x_i$ and $x_j$ are Tomek links if \n",
        "+ $x_i$ is $x_j$'s nearets neighbour \n",
        "+ $x_j$ is $x_i$'s nearest neighbour \n",
        "+ $y_i \\neq y_j$\n",
        "\n",
        "\n",
        "\n",
        "\n",
        "https://imbalanced-learn.org/stable/references/generated/imblearn.combine.SMOTETomek.html"
      ],
      "metadata": {
        "id": "y-rmDiWVq7tW"
      }
    },
    {
      "cell_type": "code",
      "source": [
        "from imblearn.under_sampling import RandomUnderSampler\n",
        "from imblearn.over_sampling import SMOTE\n",
        "from imblearn.combine import SMOTETomek\n",
        "from imblearn.under_sampling import TomekLinks"
      ],
      "metadata": {
        "id": "hAm5u5ME5oQn"
      },
      "execution_count": null,
      "outputs": []
    },
    {
      "cell_type": "markdown",
      "source": [
        "# kNN"
      ],
      "metadata": {
        "id": "K6RMiFp75uQ3"
      }
    },
    {
      "cell_type": "code",
      "source": [
        "from sklearn.neighbors import KNeighborsClassifier\n",
        "from imblearn.pipeline import Pipeline as imbPipe\n",
        "\n",
        "kNN_pipe = imbPipe([\n",
        "          ('preprocess', preprocessing),                             \n",
        "        #('oversampling', SMOTE()),\n",
        "        #('undersampling', RandomUnderSampler()),\n",
        "        #('resampling', SMOTETomek(tomek=TomekLinks(sampling_strategy='majority')))\n",
        "        #('features', fs.RFECV(estimator = DecisionTreeClassifier(class_weight = 'balanced'),\n",
        "        #                             step = 10, cv = 5, scoring = 'roc_auc', verbose = 0)),\n",
        "        ('kNN', KNeighborsClassifier(algorithm = 'auto')\n",
        ")])"
      ],
      "metadata": {
        "id": "NZDMLLUh5qPo"
      },
      "execution_count": null,
      "outputs": []
    },
    {
      "cell_type": "code",
      "source": [
        "from sklearn import set_config\n",
        "set_config(display=\"diagram\")\n",
        "kNN_pipe"
      ],
      "metadata": {
        "colab": {
          "base_uri": "https://localhost:8080/",
          "height": 225
        },
        "id": "sCO9SJyj-xL9",
        "outputId": "d3a92b1c-b34b-48b8-f218-f648fc5c8227"
      },
      "execution_count": null,
      "outputs": [
        {
          "output_type": "execute_result",
          "data": {
            "text/html": [
              "<style>#sk-4e5c9783-b272-4504-83ec-3cc9f5013df9 {color: black;background-color: white;}#sk-4e5c9783-b272-4504-83ec-3cc9f5013df9 pre{padding: 0;}#sk-4e5c9783-b272-4504-83ec-3cc9f5013df9 div.sk-toggleable {background-color: white;}#sk-4e5c9783-b272-4504-83ec-3cc9f5013df9 label.sk-toggleable__label {cursor: pointer;display: block;width: 100%;margin-bottom: 0;padding: 0.3em;box-sizing: border-box;text-align: center;}#sk-4e5c9783-b272-4504-83ec-3cc9f5013df9 label.sk-toggleable__label-arrow:before {content: \"▸\";float: left;margin-right: 0.25em;color: #696969;}#sk-4e5c9783-b272-4504-83ec-3cc9f5013df9 label.sk-toggleable__label-arrow:hover:before {color: black;}#sk-4e5c9783-b272-4504-83ec-3cc9f5013df9 div.sk-estimator:hover label.sk-toggleable__label-arrow:before {color: black;}#sk-4e5c9783-b272-4504-83ec-3cc9f5013df9 div.sk-toggleable__content {max-height: 0;max-width: 0;overflow: hidden;text-align: left;background-color: #f0f8ff;}#sk-4e5c9783-b272-4504-83ec-3cc9f5013df9 div.sk-toggleable__content pre {margin: 0.2em;color: black;border-radius: 0.25em;background-color: #f0f8ff;}#sk-4e5c9783-b272-4504-83ec-3cc9f5013df9 input.sk-toggleable__control:checked~div.sk-toggleable__content {max-height: 200px;max-width: 100%;overflow: auto;}#sk-4e5c9783-b272-4504-83ec-3cc9f5013df9 input.sk-toggleable__control:checked~label.sk-toggleable__label-arrow:before {content: \"▾\";}#sk-4e5c9783-b272-4504-83ec-3cc9f5013df9 div.sk-estimator input.sk-toggleable__control:checked~label.sk-toggleable__label {background-color: #d4ebff;}#sk-4e5c9783-b272-4504-83ec-3cc9f5013df9 div.sk-label input.sk-toggleable__control:checked~label.sk-toggleable__label {background-color: #d4ebff;}#sk-4e5c9783-b272-4504-83ec-3cc9f5013df9 input.sk-hidden--visually {border: 0;clip: rect(1px 1px 1px 1px);clip: rect(1px, 1px, 1px, 1px);height: 1px;margin: -1px;overflow: hidden;padding: 0;position: absolute;width: 1px;}#sk-4e5c9783-b272-4504-83ec-3cc9f5013df9 div.sk-estimator {font-family: monospace;background-color: #f0f8ff;border: 1px dotted black;border-radius: 0.25em;box-sizing: border-box;margin-bottom: 0.5em;}#sk-4e5c9783-b272-4504-83ec-3cc9f5013df9 div.sk-estimator:hover {background-color: #d4ebff;}#sk-4e5c9783-b272-4504-83ec-3cc9f5013df9 div.sk-parallel-item::after {content: \"\";width: 100%;border-bottom: 1px solid gray;flex-grow: 1;}#sk-4e5c9783-b272-4504-83ec-3cc9f5013df9 div.sk-label:hover label.sk-toggleable__label {background-color: #d4ebff;}#sk-4e5c9783-b272-4504-83ec-3cc9f5013df9 div.sk-serial::before {content: \"\";position: absolute;border-left: 1px solid gray;box-sizing: border-box;top: 2em;bottom: 0;left: 50%;}#sk-4e5c9783-b272-4504-83ec-3cc9f5013df9 div.sk-serial {display: flex;flex-direction: column;align-items: center;background-color: white;padding-right: 0.2em;padding-left: 0.2em;}#sk-4e5c9783-b272-4504-83ec-3cc9f5013df9 div.sk-item {z-index: 1;}#sk-4e5c9783-b272-4504-83ec-3cc9f5013df9 div.sk-parallel {display: flex;align-items: stretch;justify-content: center;background-color: white;}#sk-4e5c9783-b272-4504-83ec-3cc9f5013df9 div.sk-parallel::before {content: \"\";position: absolute;border-left: 1px solid gray;box-sizing: border-box;top: 2em;bottom: 0;left: 50%;}#sk-4e5c9783-b272-4504-83ec-3cc9f5013df9 div.sk-parallel-item {display: flex;flex-direction: column;position: relative;background-color: white;}#sk-4e5c9783-b272-4504-83ec-3cc9f5013df9 div.sk-parallel-item:first-child::after {align-self: flex-end;width: 50%;}#sk-4e5c9783-b272-4504-83ec-3cc9f5013df9 div.sk-parallel-item:last-child::after {align-self: flex-start;width: 50%;}#sk-4e5c9783-b272-4504-83ec-3cc9f5013df9 div.sk-parallel-item:only-child::after {width: 0;}#sk-4e5c9783-b272-4504-83ec-3cc9f5013df9 div.sk-dashed-wrapped {border: 1px dashed gray;margin: 0 0.4em 0.5em 0.4em;box-sizing: border-box;padding-bottom: 0.4em;background-color: white;position: relative;}#sk-4e5c9783-b272-4504-83ec-3cc9f5013df9 div.sk-label label {font-family: monospace;font-weight: bold;background-color: white;display: inline-block;line-height: 1.2em;}#sk-4e5c9783-b272-4504-83ec-3cc9f5013df9 div.sk-label-container {position: relative;z-index: 2;text-align: center;}#sk-4e5c9783-b272-4504-83ec-3cc9f5013df9 div.sk-container {/* jupyter's `normalize.less` sets `[hidden] { display: none; }` but bootstrap.min.css set `[hidden] { display: none !important; }` so we also need the `!important` here to be able to override the default hidden behavior on the sphinx rendered scikit-learn.org. See: https://github.com/scikit-learn/scikit-learn/issues/21755 */display: inline-block !important;position: relative;}#sk-4e5c9783-b272-4504-83ec-3cc9f5013df9 div.sk-text-repr-fallback {display: none;}</style><div id=\"sk-4e5c9783-b272-4504-83ec-3cc9f5013df9\" class=\"sk-top-container\"><div class=\"sk-text-repr-fallback\"><pre>Pipeline(steps=[(&#x27;preprocess&#x27;,\n",
              "                 ColumnTransformer(transformers=[(&#x27;num&#x27;,\n",
              "                                                  Pipeline(steps=[(&#x27;robustscaler&#x27;,\n",
              "                                                                   RobustScaler()),\n",
              "                                                                  (&#x27;simpleimputer&#x27;,\n",
              "                                                                   SimpleImputer())]),\n",
              "                                                  Index([&#x27;HeartRate_Min&#x27;, &#x27;HeartRate_Max&#x27;, &#x27;HeartRate_Mean&#x27;, &#x27;SysBP_Min&#x27;,\n",
              "       &#x27;SysBP_Max&#x27;, &#x27;SysBP_Mean&#x27;, &#x27;DiasBP_Min&#x27;, &#x27;DiasBP_Max&#x27;, &#x27;DiasBP_Mean&#x27;,\n",
              "       &#x27;MeanBP_Min&#x27;, &#x27;MeanBP_Max&#x27;, &#x27;MeanBP_Mean&#x27;, &#x27;RespRate_Min&#x27;,\n",
              "       &#x27;RespRate...\n",
              "                                                                   OneHotEncoder(handle_unknown=&#x27;ignore&#x27;,\n",
              "                                                                                 sparse=False)),\n",
              "                                                                  (&#x27;standardscaler&#x27;,\n",
              "                                                                   StandardScaler())]),\n",
              "                                                  Index([&#x27;GENDER&#x27;, &#x27;ADMISSION_TYPE&#x27;, &#x27;INSURANCE&#x27;, &#x27;RELIGION&#x27;, &#x27;MARITAL_STATUS&#x27;,\n",
              "       &#x27;ETHNICITY&#x27;, &#x27;FIRST_CAREUNIT&#x27;],\n",
              "      dtype=&#x27;object&#x27;)),\n",
              "                                                 (&#x27;icd9&#x27;,\n",
              "                                                  Pipeline(steps=[(&#x27;targetencoder&#x27;,\n",
              "                                                                   TargetEncoder()),\n",
              "                                                                  (&#x27;standardscaler&#x27;,\n",
              "                                                                   StandardScaler())]),\n",
              "                                                  [&#x27;ICD9_diagnosis&#x27;])])),\n",
              "                (&#x27;kNN&#x27;, KNeighborsClassifier())])</pre><b>Please rerun this cell to show the HTML repr or trust the notebook.</b></div><div class=\"sk-container\" hidden><div class=\"sk-item sk-dashed-wrapped\"><div class=\"sk-label-container\"><div class=\"sk-label sk-toggleable\"><input class=\"sk-toggleable__control sk-hidden--visually\" id=\"6c5738ee-5c25-4b94-ae63-348dc086e742\" type=\"checkbox\" ><label for=\"6c5738ee-5c25-4b94-ae63-348dc086e742\" class=\"sk-toggleable__label sk-toggleable__label-arrow\">Pipeline</label><div class=\"sk-toggleable__content\"><pre>Pipeline(steps=[(&#x27;preprocess&#x27;,\n",
              "                 ColumnTransformer(transformers=[(&#x27;num&#x27;,\n",
              "                                                  Pipeline(steps=[(&#x27;robustscaler&#x27;,\n",
              "                                                                   RobustScaler()),\n",
              "                                                                  (&#x27;simpleimputer&#x27;,\n",
              "                                                                   SimpleImputer())]),\n",
              "                                                  Index([&#x27;HeartRate_Min&#x27;, &#x27;HeartRate_Max&#x27;, &#x27;HeartRate_Mean&#x27;, &#x27;SysBP_Min&#x27;,\n",
              "       &#x27;SysBP_Max&#x27;, &#x27;SysBP_Mean&#x27;, &#x27;DiasBP_Min&#x27;, &#x27;DiasBP_Max&#x27;, &#x27;DiasBP_Mean&#x27;,\n",
              "       &#x27;MeanBP_Min&#x27;, &#x27;MeanBP_Max&#x27;, &#x27;MeanBP_Mean&#x27;, &#x27;RespRate_Min&#x27;,\n",
              "       &#x27;RespRate...\n",
              "                                                                   OneHotEncoder(handle_unknown=&#x27;ignore&#x27;,\n",
              "                                                                                 sparse=False)),\n",
              "                                                                  (&#x27;standardscaler&#x27;,\n",
              "                                                                   StandardScaler())]),\n",
              "                                                  Index([&#x27;GENDER&#x27;, &#x27;ADMISSION_TYPE&#x27;, &#x27;INSURANCE&#x27;, &#x27;RELIGION&#x27;, &#x27;MARITAL_STATUS&#x27;,\n",
              "       &#x27;ETHNICITY&#x27;, &#x27;FIRST_CAREUNIT&#x27;],\n",
              "      dtype=&#x27;object&#x27;)),\n",
              "                                                 (&#x27;icd9&#x27;,\n",
              "                                                  Pipeline(steps=[(&#x27;targetencoder&#x27;,\n",
              "                                                                   TargetEncoder()),\n",
              "                                                                  (&#x27;standardscaler&#x27;,\n",
              "                                                                   StandardScaler())]),\n",
              "                                                  [&#x27;ICD9_diagnosis&#x27;])])),\n",
              "                (&#x27;kNN&#x27;, KNeighborsClassifier())])</pre></div></div></div><div class=\"sk-serial\"><div class=\"sk-item sk-dashed-wrapped\"><div class=\"sk-label-container\"><div class=\"sk-label sk-toggleable\"><input class=\"sk-toggleable__control sk-hidden--visually\" id=\"c52df702-3af3-4422-a8a7-f966366bf95f\" type=\"checkbox\" ><label for=\"c52df702-3af3-4422-a8a7-f966366bf95f\" class=\"sk-toggleable__label sk-toggleable__label-arrow\">preprocess: ColumnTransformer</label><div class=\"sk-toggleable__content\"><pre>ColumnTransformer(transformers=[(&#x27;num&#x27;,\n",
              "                                 Pipeline(steps=[(&#x27;robustscaler&#x27;,\n",
              "                                                  RobustScaler()),\n",
              "                                                 (&#x27;simpleimputer&#x27;,\n",
              "                                                  SimpleImputer())]),\n",
              "                                 Index([&#x27;HeartRate_Min&#x27;, &#x27;HeartRate_Max&#x27;, &#x27;HeartRate_Mean&#x27;, &#x27;SysBP_Min&#x27;,\n",
              "       &#x27;SysBP_Max&#x27;, &#x27;SysBP_Mean&#x27;, &#x27;DiasBP_Min&#x27;, &#x27;DiasBP_Max&#x27;, &#x27;DiasBP_Mean&#x27;,\n",
              "       &#x27;MeanBP_Min&#x27;, &#x27;MeanBP_Max&#x27;, &#x27;MeanBP_Mean&#x27;, &#x27;RespRate_Min&#x27;,\n",
              "       &#x27;RespRate_Max&#x27;, &#x27;RespRate_Mean&#x27;, &#x27;TempC_M...\n",
              "                                 Pipeline(steps=[(&#x27;onehotencoder&#x27;,\n",
              "                                                  OneHotEncoder(handle_unknown=&#x27;ignore&#x27;,\n",
              "                                                                sparse=False)),\n",
              "                                                 (&#x27;standardscaler&#x27;,\n",
              "                                                  StandardScaler())]),\n",
              "                                 Index([&#x27;GENDER&#x27;, &#x27;ADMISSION_TYPE&#x27;, &#x27;INSURANCE&#x27;, &#x27;RELIGION&#x27;, &#x27;MARITAL_STATUS&#x27;,\n",
              "       &#x27;ETHNICITY&#x27;, &#x27;FIRST_CAREUNIT&#x27;],\n",
              "      dtype=&#x27;object&#x27;)),\n",
              "                                (&#x27;icd9&#x27;,\n",
              "                                 Pipeline(steps=[(&#x27;targetencoder&#x27;,\n",
              "                                                  TargetEncoder()),\n",
              "                                                 (&#x27;standardscaler&#x27;,\n",
              "                                                  StandardScaler())]),\n",
              "                                 [&#x27;ICD9_diagnosis&#x27;])])</pre></div></div></div><div class=\"sk-parallel\"><div class=\"sk-parallel-item\"><div class=\"sk-item\"><div class=\"sk-label-container\"><div class=\"sk-label sk-toggleable\"><input class=\"sk-toggleable__control sk-hidden--visually\" id=\"88494a58-26ed-490c-bab3-8b7011678e45\" type=\"checkbox\" ><label for=\"88494a58-26ed-490c-bab3-8b7011678e45\" class=\"sk-toggleable__label sk-toggleable__label-arrow\">num</label><div class=\"sk-toggleable__content\"><pre>Index([&#x27;HeartRate_Min&#x27;, &#x27;HeartRate_Max&#x27;, &#x27;HeartRate_Mean&#x27;, &#x27;SysBP_Min&#x27;,\n",
              "       &#x27;SysBP_Max&#x27;, &#x27;SysBP_Mean&#x27;, &#x27;DiasBP_Min&#x27;, &#x27;DiasBP_Max&#x27;, &#x27;DiasBP_Mean&#x27;,\n",
              "       &#x27;MeanBP_Min&#x27;, &#x27;MeanBP_Max&#x27;, &#x27;MeanBP_Mean&#x27;, &#x27;RespRate_Min&#x27;,\n",
              "       &#x27;RespRate_Max&#x27;, &#x27;RespRate_Mean&#x27;, &#x27;TempC_Min&#x27;, &#x27;TempC_Max&#x27;, &#x27;TempC_Mean&#x27;,\n",
              "       &#x27;SpO2_Min&#x27;, &#x27;SpO2_Max&#x27;, &#x27;SpO2_Mean&#x27;, &#x27;Glucose_Min&#x27;, &#x27;Glucose_Max&#x27;,\n",
              "       &#x27;Glucose_Mean&#x27;, &#x27;age&#x27;, &#x27;visits_ICU&#x27;, &#x27;number_comorbidities&#x27;],\n",
              "      dtype=&#x27;object&#x27;)</pre></div></div></div><div class=\"sk-serial\"><div class=\"sk-item\"><div class=\"sk-serial\"><div class=\"sk-item\"><div class=\"sk-estimator sk-toggleable\"><input class=\"sk-toggleable__control sk-hidden--visually\" id=\"9254f4ca-c6d0-4ce0-ac26-5e77daafd19d\" type=\"checkbox\" ><label for=\"9254f4ca-c6d0-4ce0-ac26-5e77daafd19d\" class=\"sk-toggleable__label sk-toggleable__label-arrow\">RobustScaler</label><div class=\"sk-toggleable__content\"><pre>RobustScaler()</pre></div></div></div><div class=\"sk-item\"><div class=\"sk-estimator sk-toggleable\"><input class=\"sk-toggleable__control sk-hidden--visually\" id=\"28f4e462-2616-4bd5-a9ce-0383e716caba\" type=\"checkbox\" ><label for=\"28f4e462-2616-4bd5-a9ce-0383e716caba\" class=\"sk-toggleable__label sk-toggleable__label-arrow\">SimpleImputer</label><div class=\"sk-toggleable__content\"><pre>SimpleImputer()</pre></div></div></div></div></div></div></div></div><div class=\"sk-parallel-item\"><div class=\"sk-item\"><div class=\"sk-label-container\"><div class=\"sk-label sk-toggleable\"><input class=\"sk-toggleable__control sk-hidden--visually\" id=\"67624e8b-551c-4be2-bf28-6831de5a4f7f\" type=\"checkbox\" ><label for=\"67624e8b-551c-4be2-bf28-6831de5a4f7f\" class=\"sk-toggleable__label sk-toggleable__label-arrow\">cat</label><div class=\"sk-toggleable__content\"><pre>Index([&#x27;GENDER&#x27;, &#x27;ADMISSION_TYPE&#x27;, &#x27;INSURANCE&#x27;, &#x27;RELIGION&#x27;, &#x27;MARITAL_STATUS&#x27;,\n",
              "       &#x27;ETHNICITY&#x27;, &#x27;FIRST_CAREUNIT&#x27;],\n",
              "      dtype=&#x27;object&#x27;)</pre></div></div></div><div class=\"sk-serial\"><div class=\"sk-item\"><div class=\"sk-serial\"><div class=\"sk-item\"><div class=\"sk-estimator sk-toggleable\"><input class=\"sk-toggleable__control sk-hidden--visually\" id=\"2ba8bec0-d2fb-4124-869b-3860ba6c0ae4\" type=\"checkbox\" ><label for=\"2ba8bec0-d2fb-4124-869b-3860ba6c0ae4\" class=\"sk-toggleable__label sk-toggleable__label-arrow\">OneHotEncoder</label><div class=\"sk-toggleable__content\"><pre>OneHotEncoder(handle_unknown=&#x27;ignore&#x27;, sparse=False)</pre></div></div></div><div class=\"sk-item\"><div class=\"sk-estimator sk-toggleable\"><input class=\"sk-toggleable__control sk-hidden--visually\" id=\"c2bb4d49-c595-406c-8b73-351b329c5de1\" type=\"checkbox\" ><label for=\"c2bb4d49-c595-406c-8b73-351b329c5de1\" class=\"sk-toggleable__label sk-toggleable__label-arrow\">StandardScaler</label><div class=\"sk-toggleable__content\"><pre>StandardScaler()</pre></div></div></div></div></div></div></div></div><div class=\"sk-parallel-item\"><div class=\"sk-item\"><div class=\"sk-label-container\"><div class=\"sk-label sk-toggleable\"><input class=\"sk-toggleable__control sk-hidden--visually\" id=\"76996033-7250-4690-b7c0-e173d5a2adcd\" type=\"checkbox\" ><label for=\"76996033-7250-4690-b7c0-e173d5a2adcd\" class=\"sk-toggleable__label sk-toggleable__label-arrow\">icd9</label><div class=\"sk-toggleable__content\"><pre>[&#x27;ICD9_diagnosis&#x27;]</pre></div></div></div><div class=\"sk-serial\"><div class=\"sk-item\"><div class=\"sk-serial\"><div class=\"sk-item\"><div class=\"sk-estimator sk-toggleable\"><input class=\"sk-toggleable__control sk-hidden--visually\" id=\"44cc7f0d-a752-43ca-92f7-68e87d9d78fc\" type=\"checkbox\" ><label for=\"44cc7f0d-a752-43ca-92f7-68e87d9d78fc\" class=\"sk-toggleable__label sk-toggleable__label-arrow\">TargetEncoder</label><div class=\"sk-toggleable__content\"><pre>TargetEncoder()</pre></div></div></div><div class=\"sk-item\"><div class=\"sk-estimator sk-toggleable\"><input class=\"sk-toggleable__control sk-hidden--visually\" id=\"751ddccb-71f7-4c40-af3f-8ae33941396e\" type=\"checkbox\" ><label for=\"751ddccb-71f7-4c40-af3f-8ae33941396e\" class=\"sk-toggleable__label sk-toggleable__label-arrow\">StandardScaler</label><div class=\"sk-toggleable__content\"><pre>StandardScaler()</pre></div></div></div></div></div></div></div></div></div></div><div class=\"sk-item\"><div class=\"sk-estimator sk-toggleable\"><input class=\"sk-toggleable__control sk-hidden--visually\" id=\"a137c05b-e9c8-4329-aca3-a95bb75046ba\" type=\"checkbox\" ><label for=\"a137c05b-e9c8-4329-aca3-a95bb75046ba\" class=\"sk-toggleable__label sk-toggleable__label-arrow\">KNeighborsClassifier</label><div class=\"sk-toggleable__content\"><pre>KNeighborsClassifier()</pre></div></div></div></div></div></div></div>"
            ],
            "text/plain": [
              "Pipeline(steps=[('preprocess',\n",
              "                 ColumnTransformer(transformers=[('num',\n",
              "                                                  Pipeline(steps=[('robustscaler',\n",
              "                                                                   RobustScaler()),\n",
              "                                                                  ('simpleimputer',\n",
              "                                                                   SimpleImputer())]),\n",
              "                                                  Index(['HeartRate_Min', 'HeartRate_Max', 'HeartRate_Mean', 'SysBP_Min',\n",
              "       'SysBP_Max', 'SysBP_Mean', 'DiasBP_Min', 'DiasBP_Max', 'DiasBP_Mean',\n",
              "       'MeanBP_Min', 'MeanBP_Max', 'MeanBP_Mean', 'RespRate_Min',\n",
              "       'RespRate...\n",
              "                                                                   OneHotEncoder(handle_unknown='ignore',\n",
              "                                                                                 sparse=False)),\n",
              "                                                                  ('standardscaler',\n",
              "                                                                   StandardScaler())]),\n",
              "                                                  Index(['GENDER', 'ADMISSION_TYPE', 'INSURANCE', 'RELIGION', 'MARITAL_STATUS',\n",
              "       'ETHNICITY', 'FIRST_CAREUNIT'],\n",
              "      dtype='object')),\n",
              "                                                 ('icd9',\n",
              "                                                  Pipeline(steps=[('targetencoder',\n",
              "                                                                   TargetEncoder()),\n",
              "                                                                  ('standardscaler',\n",
              "                                                                   StandardScaler())]),\n",
              "                                                  ['ICD9_diagnosis'])])),\n",
              "                ('kNN', KNeighborsClassifier())])"
            ]
          },
          "metadata": {},
          "execution_count": 51
        }
      ]
    },
    {
      "cell_type": "markdown",
      "source": [
        "## GridSearch\n",
        "\n",
        "The minimum I wanted to see you grid searh over were the number of neighbours, the 'weights' and the parameter sof the distance. \n",
        "\n",
        "Some students also considered specifically defining the `metric`.\n",
        "\n",
        "Once idea I particularly liked was deliberatley scaling different colluns differently to give them higher or lower importance"
      ],
      "metadata": {
        "id": "O4BfVzfO5quf"
      }
    },
    {
      "cell_type": "code",
      "source": [
        "kNN_params = {#'preprocess__num__cont_imputer__n_neighbors':[10, 50, 100],\n",
        "              #'preprocess__num__cont_imputer__strategy':[\"mean\", \"median\"],\n",
        "              #'preprocess__icd9__icd9_encoder__smoothing':[0.5, 1, 2]\n",
        "              #'oversampling__sampling_strategy':[0.1,0.3,0.5],\n",
        "              #'undersampling__sampling_strategy':[0.5, 0.6, 0.7],\n",
        "              #'kNN__n_neighbors':[1, 2, 5, 10, 20, 50],\n",
        "              'kNN__n_neighbors':[300],\n",
        "              #'kNN__weights':['uniform', 'distance'],\n",
        "              'kNN__weights':['distance'],\n",
        "              #'kNN__p':[1, 2, 3]\n",
        "              'kNN__p':[3]\n",
        "              }  "
      ],
      "metadata": {
        "id": "vRfxwKil_z4z"
      },
      "execution_count": null,
      "outputs": []
    },
    {
      "cell_type": "markdown",
      "source": [
        "Here I consider `HalvingGridSearch()` to speed up my grid search. "
      ],
      "metadata": {
        "id": "WBJurL2Q273U"
      }
    },
    {
      "cell_type": "code",
      "source": [
        "from sklearn.experimental import enable_halving_search_cv \n",
        "from sklearn.model_selection import HalvingGridSearchCV"
      ],
      "metadata": {
        "id": "s4zy-T_3BuPr"
      },
      "execution_count": null,
      "outputs": []
    },
    {
      "cell_type": "code",
      "source": [
        "\n",
        "grid_kNN = HalvingGridSearchCV(kNN_pipe, kNN_params, scoring='roc_auc', cv=5)\n",
        "\n",
        "grid_kNN.fit(X_train, y_train)\n",
        "\n",
        "print(\"Best parameter (CV score=%0.3f):\" % grid_kNN.best_score_)\n",
        "print(grid_kNN.best_params_)"
      ],
      "metadata": {
        "colab": {
          "base_uri": "https://localhost:8080/"
        },
        "id": "1TIGLR6eAr2B",
        "outputId": "11c1559c-34b7-4335-b573-7091c6874f8f"
      },
      "execution_count": null,
      "outputs": [
        {
          "output_type": "stream",
          "name": "stdout",
          "text": [
            "Best parameter (CV score=0.770):\n",
            "{'kNN__n_neighbors': 300, 'kNN__p': 3, 'kNN__weights': 'distance'}\n"
          ]
        }
      ]
    },
    {
      "cell_type": "markdown",
      "source": [
        "## Test set predictions"
      ],
      "metadata": {
        "id": "sjDZlntY5YTu"
      }
    },
    {
      "cell_type": "code",
      "source": [
        "X_test = test.drop([\"subject_id\",\t\"hadm_id\",\t\"icustay_id\"], axis = 1)"
      ],
      "metadata": {
        "id": "Rscv-YTxpvgX"
      },
      "execution_count": null,
      "outputs": []
    },
    {
      "cell_type": "code",
      "source": [
        "y_pred_kNN = grid_kNN.predict_proba(X_test)"
      ],
      "metadata": {
        "id": "lTnkWxOwp8-I"
      },
      "execution_count": null,
      "outputs": []
    },
    {
      "cell_type": "markdown",
      "source": [
        "### Reweighting to adjust for class-imbalance"
      ],
      "metadata": {
        "id": "IT9VvnWBqpZS"
      }
    },
    {
      "cell_type": "code",
      "source": [
        "def reweight(pi,q1=0.5,r1=0.5):\n",
        "    r0 = 1-r1\n",
        "    q0 = 1-q1\n",
        "    tot = pi*(q1/r1)+(1-pi)*(q0/r0)\n",
        "    w = pi*(q1/r1)\n",
        "    w /= tot\n",
        "    return w\n",
        "## assign q the proper reweight \n",
        "q1 = y_test.sum()/len(y_test)\n",
        "r1 = 0.5 #?? this will depend on what reweighting you did \n",
        "## reweight probabilites\n",
        "y_pred_kNN_reweighted = pd.Series(y_pred_kNN[:,1]).apply(reweight,args=(q1,r1))"
      ],
      "metadata": {
        "id": "3ybmBbFXsgxD"
      },
      "execution_count": null,
      "outputs": []
    },
    {
      "cell_type": "markdown",
      "source": [
        "or\n",
        "\n",
        "### Calibrating Probabilities \n",
        "\n",
        "`LogisticRegressoon()` built a model for $P(Y | X, \\beta)$ and then trained this model to \n",
        "$$\n",
        "\\max \\sum_{i=1}^n \\log P(Y = y_i | X_i, \\beta)\n",
        "$$\n",
        "this can be shown to trained the model to produce <i> calibrared </i> probabilities.\n",
        "\n",
        "For a binary event $A$, the probability $p_A$ is well calibrated if <b> $p_A \\times 100\\%$ of the time that you quote $p_A$, A happens </b>\n",
        "\n",
        "`CalibratedClassifierCV` uses cross-validation both to fit the model and also to assess its calibration and recalibrate it. \n",
        "\n",
        "https://scikit-learn.org/stable/modules/calibration.html#calibration"
      ],
      "metadata": {
        "id": "zgiek5mcvIJG"
      }
    },
    {
      "cell_type": "code",
      "source": [
        "# Calibrated probabilities of the best model\n",
        "kNN_calibrator = CalibratedClassifierCV(grid_kNN, cv = 5, method = 'isotonic')\n",
        "kNN_calibrator.fit(X_train, y_train)"
      ],
      "metadata": {
        "id": "yZTJ0Q6evHOX"
      },
      "execution_count": null,
      "outputs": []
    },
    {
      "cell_type": "code",
      "source": [
        "y_pred_kNN_recalibrated = kNN_calibrator.fit(X_test)"
      ],
      "metadata": {
        "id": "elqA0Casvpuy"
      },
      "execution_count": null,
      "outputs": []
    },
    {
      "cell_type": "markdown",
      "source": [
        "### Comparing to the true y's\n",
        "\n",
        "While you could submit to kaggle I can use the real y's"
      ],
      "metadata": {
        "id": "bBjYjrNuqAtA"
      }
    },
    {
      "cell_type": "code",
      "source": [
        "# Training dataset\n",
        "y_test_true = pd.read_csv('mimic_test_death_true.csv')\n"
      ],
      "metadata": {
        "id": "WwhhC7V_rwYv"
      },
      "execution_count": null,
      "outputs": []
    },
    {
      "cell_type": "code",
      "source": [
        "y_test_true"
      ],
      "metadata": {
        "id": "cOBn2sleKa_T"
      },
      "execution_count": null,
      "outputs": []
    },
    {
      "cell_type": "code",
      "source": [
        "from sklearn.metrics import roc_auc_score\n",
        "\n",
        "roc_auc_score(y_test_true[\"HOSPITAL_EXPIRE_FLAG\"], y_pred_kNN[:,1])\n",
        "#roc_auc_score(y_test_true, y_pred_kNN_reweighted)\n",
        "#roc_auc_score(y_test_true, y_pred_kNN_recalibrated[:,1])"
      ],
      "metadata": {
        "id": "iQC7p9vpsLpA"
      },
      "execution_count": null,
      "outputs": []
    },
    {
      "cell_type": "markdown",
      "source": [
        "# SVM"
      ],
      "metadata": {
        "id": "zscdVpNgqhSi"
      }
    },
    {
      "cell_type": "code",
      "source": [
        "from sklearn.neighbors import KNeighborsClassifier\n",
        "from imblearn.pipeline import Pipeline as imbPipe\n",
        "\n",
        "SVM_pipe = imbPipe([\n",
        "          ('preprocess', preprocessing),                             \n",
        "        #('oversampling', SMOTE()),\n",
        "        #('undersampling', RandomUnderSampler()),\n",
        "        #('resampling', SMOTETomek(tomek=TomekLinks(sampling_strategy='majority')))\n",
        "        #('features', fs.RFECV(estimator = DecisionTreeClassifier(class_weight = 'balanced'),\n",
        "        #                             step = 10, cv = 5, scoring = 'roc_auc', verbose = 0)),\n",
        "        ('SVC', SVC()\n",
        ")])"
      ],
      "metadata": {
        "id": "zgBduXruqkcW"
      },
      "execution_count": null,
      "outputs": []
    },
    {
      "cell_type": "code",
      "source": [
        "from sklearn import set_config\n",
        "set_config(display=\"diagram\")\n",
        "SVM_pipe"
      ],
      "metadata": {
        "id": "7HC4rRmNq1LH"
      },
      "execution_count": null,
      "outputs": []
    },
    {
      "cell_type": "markdown",
      "source": [
        "## Gridsearch"
      ],
      "metadata": {
        "id": "6Ytda4QAq3WG"
      }
    },
    {
      "cell_type": "code",
      "source": [
        "SVM_params = {#'preprocess__num__cont_imputer__n_neighbors':[10, 50, 100],\n",
        "          #'preprocess__icd9__icd9_encoder__smoothing':[0.5, 1, 2]\n",
        "          #'oversampling__sampling_strategy':[0.1,0.3,0.5],\n",
        "          #'undersampling__sampling_strategy':[0.5, 0.6, 0.7],\n",
        "          #'SVC__C':[0.1, 1, 10],\n",
        "          'SVC__C':[1],\n",
        "          #'SVC__kernel':['linear', 'rbf', 'poly],\n",
        "          'SVC__kernel':['rbf'],\n",
        "          #'SVC__gamma':[0.25, 0.5, 0.75]\n",
        "          'SVC__gamma':[0.5]\n",
        "          } "
      ],
      "metadata": {
        "id": "RK1MFKb-q7bj"
      },
      "execution_count": null,
      "outputs": []
    },
    {
      "cell_type": "code",
      "source": [
        "\n",
        "grid_SVM = HalvingGridSearchCV(SVM_pipe, SVM_params, scoring='roc_auc', cv=5)\n",
        "\n",
        "grid_SVM.fit(X_train, y_train)\n",
        "\n",
        "print(\"--- %s seconds ---\" % (time.time() - start_time))\n",
        "print(\"Best parameter (CV score=%0.3f):\" % grid_SVM.best_score_)\n",
        "print(grid_SVM.best_params_)"
      ],
      "metadata": {
        "id": "P_3mBjrYrc0O"
      },
      "execution_count": null,
      "outputs": []
    }
  ],
  "metadata": {
    "colab": {
      "collapsed_sections": [],
      "name": "NearestNeighbors_SVM_ExtendedProject_Solution.ipynb",
      "provenance": []
    },
    "kernelspec": {
      "display_name": "Python 3 (ipykernel)",
      "language": "python",
      "name": "python3"
    },
    "language_info": {
      "codemirror_mode": {
        "name": "ipython",
        "version": 3
      },
      "file_extension": ".py",
      "mimetype": "text/x-python",
      "name": "python",
      "nbconvert_exporter": "python",
      "pygments_lexer": "ipython3",
      "version": "3.10.1"
    },
    "toc": {
      "base_numbering": 1,
      "nav_menu": {},
      "number_sections": true,
      "sideBar": true,
      "skip_h1_title": false,
      "title_cell": "Table of Contents",
      "title_sidebar": "Contents",
      "toc_cell": false,
      "toc_position": {},
      "toc_section_display": true,
      "toc_window_display": true
    }
  },
  "nbformat": 4,
  "nbformat_minor": 0
}