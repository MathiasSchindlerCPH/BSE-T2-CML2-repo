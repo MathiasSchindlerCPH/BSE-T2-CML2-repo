{
  "nbformat": 4,
  "nbformat_minor": 0,
  "metadata": {
    "colab": {
      "name": "IndividualFeedback_CML2_InClass1.ipynb",
      "provenance": [],
      "authorship_tag": "ABX9TyOD6jBzJcRFda4lHrOQ/ruC",
      "include_colab_link": true
    },
    "kernelspec": {
      "name": "python3",
      "display_name": "Python 3"
    },
    "language_info": {
      "name": "python"
    }
  },
  "cells": [
    {
      "cell_type": "markdown",
      "metadata": {
        "id": "view-in-github",
        "colab_type": "text"
      },
      "source": [
        "<a href=\"https://colab.research.google.com/github/MathiasSchindlerCPH/BSE-T2-CML2-repo/blob/main/IndividualFeedback_CML2_InClass1.ipynb\" target=\"_parent\"><img src=\"https://colab.research.google.com/assets/colab-badge.svg\" alt=\"Open In Colab\"/></a>"
      ]
    },
    {
      "cell_type": "markdown",
      "source": [
        "| Criteria | Weighting (%) | Score | Justification | Improvements  |\n",
        "|----------|---------------|-------|---------------|---------------|\n",
        "|Code runs | 20            |   20    |               |               |\n",
        "|Data preparation |\t35 | 35 | Training and testing data imputed using training summaries (well-done), categories dropped (fine for in-class) and standardisation done\n",
        "|Nearest neighbor used | 15 | 10 | would have been good to specify the distance or weighting used\n",
        "|test Prob of death | 10 | 10 \n",
        "|Accuracy itself | 10 | 7.5 | > 0.6\n",
        "|Hyperparameter optimization | 5 | 0 \n",
        "|Class imbalance management | 5 | 3 | random over sampling but probabilities not weighted. Why after resampling do you not have the same number of 0's and 1's?\n",
        "\n",
        "Score: 85.5"
      ],
      "metadata": {
        "id": "V2uLwUZ_rBkX"
      }
    }
  ]
}