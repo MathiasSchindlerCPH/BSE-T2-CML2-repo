{
 "cells": [
  {
   "cell_type": "markdown",
   "id": "e2aaf7c9",
   "metadata": {},
   "source": [
    "# **Managing the Co-Morbidity Data**"
   ]
  },
  {
   "cell_type": "markdown",
   "id": "7d6f3842",
   "metadata": {},
   "source": [
    "The package and usage of it comes from [https://jackwasey.github.io/icd/](https://jackwasey.github.io/icd/)."
   ]
  },
  {
   "cell_type": "markdown",
   "id": "d0d376a4",
   "metadata": {},
   "source": [
    "## Preamble"
   ]
  },
  {
   "cell_type": "code",
   "execution_count": 76,
   "id": "970b803a",
   "metadata": {},
   "outputs": [
    {
     "data": {
      "text/html": [
       "'/Users/mathiasschindler/opt/anaconda3/envs/dataviz/lib/R/library'"
      ],
      "text/latex": [
       "'/Users/mathiasschindler/opt/anaconda3/envs/dataviz/lib/R/library'"
      ],
      "text/markdown": [
       "'/Users/mathiasschindler/opt/anaconda3/envs/dataviz/lib/R/library'"
      ],
      "text/plain": [
       "[1] \"/Users/mathiasschindler/opt/anaconda3/envs/dataviz/lib/R/library\""
      ]
     },
     "metadata": {},
     "output_type": "display_data"
    }
   ],
   "source": [
    ".libPaths()"
   ]
  },
  {
   "cell_type": "code",
   "execution_count": 77,
   "id": "69c2ab83",
   "metadata": {},
   "outputs": [],
   "source": [
    "#library(devtools)\n",
    "#install_github(\"jackwasey/icd\")"
   ]
  },
  {
   "cell_type": "markdown",
   "id": "5889a32f",
   "metadata": {},
   "source": [
    "## Load Data"
   ]
  },
  {
   "cell_type": "code",
   "execution_count": 78,
   "id": "6d6e998d",
   "metadata": {},
   "outputs": [
    {
     "data": {
      "text/html": [
       "'data.frame'"
      ],
      "text/latex": [
       "'data.frame'"
      ],
      "text/markdown": [
       "'data.frame'"
      ],
      "text/plain": [
       "[1] \"data.frame\""
      ]
     },
     "metadata": {},
     "output_type": "display_data"
    },
    {
     "data": {
      "text/html": [
       "<table class=\"dataframe\">\n",
       "<caption>A data.frame: 6 × 2</caption>\n",
       "<thead>\n",
       "\t<tr><th></th><th scope=col>SUBJECT_ID</th><th scope=col>ICD9_CODE</th></tr>\n",
       "\t<tr><th></th><th scope=col>&lt;int&gt;</th><th scope=col>&lt;chr&gt;</th></tr>\n",
       "</thead>\n",
       "<tbody>\n",
       "\t<tr><th scope=row>1</th><td>256</td><td>53240</td></tr>\n",
       "\t<tr><th scope=row>2</th><td>256</td><td>41071</td></tr>\n",
       "\t<tr><th scope=row>3</th><td>256</td><td>53560</td></tr>\n",
       "\t<tr><th scope=row>4</th><td>256</td><td>40390</td></tr>\n",
       "\t<tr><th scope=row>5</th><td>256</td><td>5859 </td></tr>\n",
       "\t<tr><th scope=row>6</th><td>256</td><td>04186</td></tr>\n",
       "</tbody>\n",
       "</table>\n"
      ],
      "text/latex": [
       "A data.frame: 6 × 2\n",
       "\\begin{tabular}{r|ll}\n",
       "  & SUBJECT\\_ID & ICD9\\_CODE\\\\\n",
       "  & <int> & <chr>\\\\\n",
       "\\hline\n",
       "\t1 & 256 & 53240\\\\\n",
       "\t2 & 256 & 41071\\\\\n",
       "\t3 & 256 & 53560\\\\\n",
       "\t4 & 256 & 40390\\\\\n",
       "\t5 & 256 & 5859 \\\\\n",
       "\t6 & 256 & 04186\\\\\n",
       "\\end{tabular}\n"
      ],
      "text/markdown": [
       "\n",
       "A data.frame: 6 × 2\n",
       "\n",
       "| <!--/--> | SUBJECT_ID &lt;int&gt; | ICD9_CODE &lt;chr&gt; |\n",
       "|---|---|---|\n",
       "| 1 | 256 | 53240 |\n",
       "| 2 | 256 | 41071 |\n",
       "| 3 | 256 | 53560 |\n",
       "| 4 | 256 | 40390 |\n",
       "| 5 | 256 | 5859  |\n",
       "| 6 | 256 | 04186 |\n",
       "\n"
      ],
      "text/plain": [
       "  SUBJECT_ID ICD9_CODE\n",
       "1 256        53240    \n",
       "2 256        41071    \n",
       "3 256        53560    \n",
       "4 256        40390    \n",
       "5 256        5859     \n",
       "6 256        04186    "
      ]
     },
     "metadata": {},
     "output_type": "display_data"
    }
   ],
   "source": [
    "# Load the data\n",
    "df_comorb <- read.csv(file = '/Users/mathiasschindler/Library/Mobile Documents/com~apple~CloudDocs/BSE/_T2--CML2/Project1/Data/MIMIC_diagnoses.csv')\n",
    "\n",
    "# Keep only relevant columns\n",
    "df_comorb <- subset(df_comorb, select = c('SUBJECT_ID', 'ICD9_CODE') )\n",
    "\n",
    "# Check data type\n",
    "class(df_comorb)\n",
    "\n",
    "# Print head\n",
    "head(df_comorb)"
   ]
  },
  {
   "cell_type": "markdown",
   "id": "1ff81a3b",
   "metadata": {},
   "source": [
    "## **Load `icd`-Library**"
   ]
  },
  {
   "cell_type": "code",
   "execution_count": 79,
   "id": "655b9d7d",
   "metadata": {},
   "outputs": [],
   "source": [
    "library(icd)"
   ]
  },
  {
   "cell_type": "markdown",
   "id": "8a34bde6",
   "metadata": {},
   "source": [
    "## **Transform Comorbidities Information**"
   ]
  },
  {
   "cell_type": "markdown",
   "id": "2533f3a4",
   "metadata": {},
   "source": [
    "### Co-Morbidities One-Hot Encoded"
   ]
  },
  {
   "cell_type": "code",
   "execution_count": 80,
   "id": "f6135481",
   "metadata": {
    "scrolled": true
   },
   "outputs": [
    {
     "data": {
      "text/html": [
       "<table class=\"dataframe\">\n",
       "<caption>A data.frame: 6 × 17</caption>\n",
       "<thead>\n",
       "\t<tr><th></th><th scope=col>MI</th><th scope=col>CHF</th><th scope=col>PVD</th><th scope=col>Stroke</th><th scope=col>Dementia</th><th scope=col>Pulmonary</th><th scope=col>Rheumatic</th><th scope=col>PUD</th><th scope=col>LiverMild</th><th scope=col>DM</th><th scope=col>DMcx</th><th scope=col>Paralysis</th><th scope=col>Renal</th><th scope=col>Cancer</th><th scope=col>LiverSevere</th><th scope=col>Mets</th><th scope=col>HIV</th></tr>\n",
       "\t<tr><th></th><th scope=col>&lt;lgl&gt;</th><th scope=col>&lt;lgl&gt;</th><th scope=col>&lt;lgl&gt;</th><th scope=col>&lt;lgl&gt;</th><th scope=col>&lt;lgl&gt;</th><th scope=col>&lt;lgl&gt;</th><th scope=col>&lt;lgl&gt;</th><th scope=col>&lt;lgl&gt;</th><th scope=col>&lt;lgl&gt;</th><th scope=col>&lt;lgl&gt;</th><th scope=col>&lt;lgl&gt;</th><th scope=col>&lt;lgl&gt;</th><th scope=col>&lt;lgl&gt;</th><th scope=col>&lt;lgl&gt;</th><th scope=col>&lt;lgl&gt;</th><th scope=col>&lt;lgl&gt;</th><th scope=col>&lt;lgl&gt;</th></tr>\n",
       "</thead>\n",
       "<tbody>\n",
       "\t<tr><th scope=row>256</th><td> TRUE</td><td>FALSE</td><td> TRUE</td><td>FALSE</td><td>FALSE</td><td> TRUE</td><td>FALSE</td><td> TRUE</td><td>FALSE</td><td>FALSE</td><td>FALSE</td><td>FALSE</td><td> TRUE</td><td>FALSE</td><td>FALSE</td><td>FALSE</td><td>FALSE</td></tr>\n",
       "\t<tr><th scope=row>512</th><td>FALSE</td><td>FALSE</td><td>FALSE</td><td>FALSE</td><td>FALSE</td><td>FALSE</td><td>FALSE</td><td>FALSE</td><td>FALSE</td><td>FALSE</td><td>FALSE</td><td>FALSE</td><td>FALSE</td><td>FALSE</td><td>FALSE</td><td>FALSE</td><td>FALSE</td></tr>\n",
       "\t<tr><th scope=row>768</th><td> TRUE</td><td> TRUE</td><td>FALSE</td><td>FALSE</td><td>FALSE</td><td> TRUE</td><td>FALSE</td><td>FALSE</td><td>FALSE</td><td>FALSE</td><td>FALSE</td><td>FALSE</td><td> TRUE</td><td>FALSE</td><td>FALSE</td><td>FALSE</td><td>FALSE</td></tr>\n",
       "\t<tr><th scope=row>1024</th><td>FALSE</td><td>FALSE</td><td>FALSE</td><td>FALSE</td><td>FALSE</td><td>FALSE</td><td>FALSE</td><td>FALSE</td><td> TRUE</td><td>FALSE</td><td>FALSE</td><td>FALSE</td><td>FALSE</td><td> TRUE</td><td>FALSE</td><td>FALSE</td><td>FALSE</td></tr>\n",
       "\t<tr><th scope=row>66560</th><td>FALSE</td><td>FALSE</td><td> TRUE</td><td>FALSE</td><td>FALSE</td><td> TRUE</td><td>FALSE</td><td>FALSE</td><td>FALSE</td><td>FALSE</td><td>FALSE</td><td>FALSE</td><td>FALSE</td><td>FALSE</td><td>FALSE</td><td>FALSE</td><td>FALSE</td></tr>\n",
       "\t<tr><th scope=row>1280</th><td> TRUE</td><td>FALSE</td><td>FALSE</td><td>FALSE</td><td>FALSE</td><td>FALSE</td><td>FALSE</td><td>FALSE</td><td>FALSE</td><td>FALSE</td><td>FALSE</td><td>FALSE</td><td>FALSE</td><td>FALSE</td><td>FALSE</td><td>FALSE</td><td>FALSE</td></tr>\n",
       "</tbody>\n",
       "</table>\n"
      ],
      "text/latex": [
       "A data.frame: 6 × 17\n",
       "\\begin{tabular}{r|lllllllllllllllll}\n",
       "  & MI & CHF & PVD & Stroke & Dementia & Pulmonary & Rheumatic & PUD & LiverMild & DM & DMcx & Paralysis & Renal & Cancer & LiverSevere & Mets & HIV\\\\\n",
       "  & <lgl> & <lgl> & <lgl> & <lgl> & <lgl> & <lgl> & <lgl> & <lgl> & <lgl> & <lgl> & <lgl> & <lgl> & <lgl> & <lgl> & <lgl> & <lgl> & <lgl>\\\\\n",
       "\\hline\n",
       "\t256 &  TRUE & FALSE &  TRUE & FALSE & FALSE &  TRUE & FALSE &  TRUE & FALSE & FALSE & FALSE & FALSE &  TRUE & FALSE & FALSE & FALSE & FALSE\\\\\n",
       "\t512 & FALSE & FALSE & FALSE & FALSE & FALSE & FALSE & FALSE & FALSE & FALSE & FALSE & FALSE & FALSE & FALSE & FALSE & FALSE & FALSE & FALSE\\\\\n",
       "\t768 &  TRUE &  TRUE & FALSE & FALSE & FALSE &  TRUE & FALSE & FALSE & FALSE & FALSE & FALSE & FALSE &  TRUE & FALSE & FALSE & FALSE & FALSE\\\\\n",
       "\t1024 & FALSE & FALSE & FALSE & FALSE & FALSE & FALSE & FALSE & FALSE &  TRUE & FALSE & FALSE & FALSE & FALSE &  TRUE & FALSE & FALSE & FALSE\\\\\n",
       "\t66560 & FALSE & FALSE &  TRUE & FALSE & FALSE &  TRUE & FALSE & FALSE & FALSE & FALSE & FALSE & FALSE & FALSE & FALSE & FALSE & FALSE & FALSE\\\\\n",
       "\t1280 &  TRUE & FALSE & FALSE & FALSE & FALSE & FALSE & FALSE & FALSE & FALSE & FALSE & FALSE & FALSE & FALSE & FALSE & FALSE & FALSE & FALSE\\\\\n",
       "\\end{tabular}\n"
      ],
      "text/markdown": [
       "\n",
       "A data.frame: 6 × 17\n",
       "\n",
       "| <!--/--> | MI &lt;lgl&gt; | CHF &lt;lgl&gt; | PVD &lt;lgl&gt; | Stroke &lt;lgl&gt; | Dementia &lt;lgl&gt; | Pulmonary &lt;lgl&gt; | Rheumatic &lt;lgl&gt; | PUD &lt;lgl&gt; | LiverMild &lt;lgl&gt; | DM &lt;lgl&gt; | DMcx &lt;lgl&gt; | Paralysis &lt;lgl&gt; | Renal &lt;lgl&gt; | Cancer &lt;lgl&gt; | LiverSevere &lt;lgl&gt; | Mets &lt;lgl&gt; | HIV &lt;lgl&gt; |\n",
       "|---|---|---|---|---|---|---|---|---|---|---|---|---|---|---|---|---|---|\n",
       "| 256 |  TRUE | FALSE |  TRUE | FALSE | FALSE |  TRUE | FALSE |  TRUE | FALSE | FALSE | FALSE | FALSE |  TRUE | FALSE | FALSE | FALSE | FALSE |\n",
       "| 512 | FALSE | FALSE | FALSE | FALSE | FALSE | FALSE | FALSE | FALSE | FALSE | FALSE | FALSE | FALSE | FALSE | FALSE | FALSE | FALSE | FALSE |\n",
       "| 768 |  TRUE |  TRUE | FALSE | FALSE | FALSE |  TRUE | FALSE | FALSE | FALSE | FALSE | FALSE | FALSE |  TRUE | FALSE | FALSE | FALSE | FALSE |\n",
       "| 1024 | FALSE | FALSE | FALSE | FALSE | FALSE | FALSE | FALSE | FALSE |  TRUE | FALSE | FALSE | FALSE | FALSE |  TRUE | FALSE | FALSE | FALSE |\n",
       "| 66560 | FALSE | FALSE |  TRUE | FALSE | FALSE |  TRUE | FALSE | FALSE | FALSE | FALSE | FALSE | FALSE | FALSE | FALSE | FALSE | FALSE | FALSE |\n",
       "| 1280 |  TRUE | FALSE | FALSE | FALSE | FALSE | FALSE | FALSE | FALSE | FALSE | FALSE | FALSE | FALSE | FALSE | FALSE | FALSE | FALSE | FALSE |\n",
       "\n"
      ],
      "text/plain": [
       "      MI    CHF   PVD   Stroke Dementia Pulmonary Rheumatic PUD   LiverMild\n",
       "256    TRUE FALSE  TRUE FALSE  FALSE     TRUE     FALSE      TRUE FALSE    \n",
       "512   FALSE FALSE FALSE FALSE  FALSE    FALSE     FALSE     FALSE FALSE    \n",
       "768    TRUE  TRUE FALSE FALSE  FALSE     TRUE     FALSE     FALSE FALSE    \n",
       "1024  FALSE FALSE FALSE FALSE  FALSE    FALSE     FALSE     FALSE  TRUE    \n",
       "66560 FALSE FALSE  TRUE FALSE  FALSE     TRUE     FALSE     FALSE FALSE    \n",
       "1280   TRUE FALSE FALSE FALSE  FALSE    FALSE     FALSE     FALSE FALSE    \n",
       "      DM    DMcx  Paralysis Renal Cancer LiverSevere Mets  HIV  \n",
       "256   FALSE FALSE FALSE      TRUE FALSE  FALSE       FALSE FALSE\n",
       "512   FALSE FALSE FALSE     FALSE FALSE  FALSE       FALSE FALSE\n",
       "768   FALSE FALSE FALSE      TRUE FALSE  FALSE       FALSE FALSE\n",
       "1024  FALSE FALSE FALSE     FALSE  TRUE  FALSE       FALSE FALSE\n",
       "66560 FALSE FALSE FALSE     FALSE FALSE  FALSE       FALSE FALSE\n",
       "1280  FALSE FALSE FALSE     FALSE FALSE  FALSE       FALSE FALSE"
      ]
     },
     "metadata": {},
     "output_type": "display_data"
    }
   ],
   "source": [
    "# Transform using `idb` library\n",
    "comorb_charlson <- comorbid_charlson(df_comorb)\n",
    "df_comorb_charlson <- as.data.frame(comorb_charlson)\n",
    "head(df_comorb_charlson)"
   ]
  },
  {
   "cell_type": "code",
   "execution_count": 81,
   "id": "50ea3f8c",
   "metadata": {},
   "outputs": [
    {
     "data": {
      "text/html": [
       "<table class=\"dataframe\">\n",
       "<caption>A data.frame: 6 × 17</caption>\n",
       "<thead>\n",
       "\t<tr><th></th><th scope=col>MI</th><th scope=col>CHF</th><th scope=col>PVD</th><th scope=col>Stroke</th><th scope=col>Dementia</th><th scope=col>Pulmonary</th><th scope=col>Rheumatic</th><th scope=col>PUD</th><th scope=col>LiverMild</th><th scope=col>DM</th><th scope=col>DMcx</th><th scope=col>Paralysis</th><th scope=col>Renal</th><th scope=col>Cancer</th><th scope=col>LiverSevere</th><th scope=col>Mets</th><th scope=col>HIV</th></tr>\n",
       "\t<tr><th></th><th scope=col>&lt;dbl&gt;</th><th scope=col>&lt;dbl&gt;</th><th scope=col>&lt;dbl&gt;</th><th scope=col>&lt;dbl&gt;</th><th scope=col>&lt;dbl&gt;</th><th scope=col>&lt;dbl&gt;</th><th scope=col>&lt;dbl&gt;</th><th scope=col>&lt;dbl&gt;</th><th scope=col>&lt;dbl&gt;</th><th scope=col>&lt;dbl&gt;</th><th scope=col>&lt;dbl&gt;</th><th scope=col>&lt;dbl&gt;</th><th scope=col>&lt;dbl&gt;</th><th scope=col>&lt;dbl&gt;</th><th scope=col>&lt;dbl&gt;</th><th scope=col>&lt;dbl&gt;</th><th scope=col>&lt;dbl&gt;</th></tr>\n",
       "</thead>\n",
       "<tbody>\n",
       "\t<tr><th scope=row>256</th><td>1</td><td>0</td><td>1</td><td>0</td><td>0</td><td>1</td><td>0</td><td>1</td><td>0</td><td>0</td><td>0</td><td>0</td><td>1</td><td>0</td><td>0</td><td>0</td><td>0</td></tr>\n",
       "\t<tr><th scope=row>512</th><td>0</td><td>0</td><td>0</td><td>0</td><td>0</td><td>0</td><td>0</td><td>0</td><td>0</td><td>0</td><td>0</td><td>0</td><td>0</td><td>0</td><td>0</td><td>0</td><td>0</td></tr>\n",
       "\t<tr><th scope=row>768</th><td>1</td><td>1</td><td>0</td><td>0</td><td>0</td><td>1</td><td>0</td><td>0</td><td>0</td><td>0</td><td>0</td><td>0</td><td>1</td><td>0</td><td>0</td><td>0</td><td>0</td></tr>\n",
       "\t<tr><th scope=row>1024</th><td>0</td><td>0</td><td>0</td><td>0</td><td>0</td><td>0</td><td>0</td><td>0</td><td>1</td><td>0</td><td>0</td><td>0</td><td>0</td><td>1</td><td>0</td><td>0</td><td>0</td></tr>\n",
       "\t<tr><th scope=row>66560</th><td>0</td><td>0</td><td>1</td><td>0</td><td>0</td><td>1</td><td>0</td><td>0</td><td>0</td><td>0</td><td>0</td><td>0</td><td>0</td><td>0</td><td>0</td><td>0</td><td>0</td></tr>\n",
       "\t<tr><th scope=row>1280</th><td>1</td><td>0</td><td>0</td><td>0</td><td>0</td><td>0</td><td>0</td><td>0</td><td>0</td><td>0</td><td>0</td><td>0</td><td>0</td><td>0</td><td>0</td><td>0</td><td>0</td></tr>\n",
       "</tbody>\n",
       "</table>\n"
      ],
      "text/latex": [
       "A data.frame: 6 × 17\n",
       "\\begin{tabular}{r|lllllllllllllllll}\n",
       "  & MI & CHF & PVD & Stroke & Dementia & Pulmonary & Rheumatic & PUD & LiverMild & DM & DMcx & Paralysis & Renal & Cancer & LiverSevere & Mets & HIV\\\\\n",
       "  & <dbl> & <dbl> & <dbl> & <dbl> & <dbl> & <dbl> & <dbl> & <dbl> & <dbl> & <dbl> & <dbl> & <dbl> & <dbl> & <dbl> & <dbl> & <dbl> & <dbl>\\\\\n",
       "\\hline\n",
       "\t256 & 1 & 0 & 1 & 0 & 0 & 1 & 0 & 1 & 0 & 0 & 0 & 0 & 1 & 0 & 0 & 0 & 0\\\\\n",
       "\t512 & 0 & 0 & 0 & 0 & 0 & 0 & 0 & 0 & 0 & 0 & 0 & 0 & 0 & 0 & 0 & 0 & 0\\\\\n",
       "\t768 & 1 & 1 & 0 & 0 & 0 & 1 & 0 & 0 & 0 & 0 & 0 & 0 & 1 & 0 & 0 & 0 & 0\\\\\n",
       "\t1024 & 0 & 0 & 0 & 0 & 0 & 0 & 0 & 0 & 1 & 0 & 0 & 0 & 0 & 1 & 0 & 0 & 0\\\\\n",
       "\t66560 & 0 & 0 & 1 & 0 & 0 & 1 & 0 & 0 & 0 & 0 & 0 & 0 & 0 & 0 & 0 & 0 & 0\\\\\n",
       "\t1280 & 1 & 0 & 0 & 0 & 0 & 0 & 0 & 0 & 0 & 0 & 0 & 0 & 0 & 0 & 0 & 0 & 0\\\\\n",
       "\\end{tabular}\n"
      ],
      "text/markdown": [
       "\n",
       "A data.frame: 6 × 17\n",
       "\n",
       "| <!--/--> | MI &lt;dbl&gt; | CHF &lt;dbl&gt; | PVD &lt;dbl&gt; | Stroke &lt;dbl&gt; | Dementia &lt;dbl&gt; | Pulmonary &lt;dbl&gt; | Rheumatic &lt;dbl&gt; | PUD &lt;dbl&gt; | LiverMild &lt;dbl&gt; | DM &lt;dbl&gt; | DMcx &lt;dbl&gt; | Paralysis &lt;dbl&gt; | Renal &lt;dbl&gt; | Cancer &lt;dbl&gt; | LiverSevere &lt;dbl&gt; | Mets &lt;dbl&gt; | HIV &lt;dbl&gt; |\n",
       "|---|---|---|---|---|---|---|---|---|---|---|---|---|---|---|---|---|---|\n",
       "| 256 | 1 | 0 | 1 | 0 | 0 | 1 | 0 | 1 | 0 | 0 | 0 | 0 | 1 | 0 | 0 | 0 | 0 |\n",
       "| 512 | 0 | 0 | 0 | 0 | 0 | 0 | 0 | 0 | 0 | 0 | 0 | 0 | 0 | 0 | 0 | 0 | 0 |\n",
       "| 768 | 1 | 1 | 0 | 0 | 0 | 1 | 0 | 0 | 0 | 0 | 0 | 0 | 1 | 0 | 0 | 0 | 0 |\n",
       "| 1024 | 0 | 0 | 0 | 0 | 0 | 0 | 0 | 0 | 1 | 0 | 0 | 0 | 0 | 1 | 0 | 0 | 0 |\n",
       "| 66560 | 0 | 0 | 1 | 0 | 0 | 1 | 0 | 0 | 0 | 0 | 0 | 0 | 0 | 0 | 0 | 0 | 0 |\n",
       "| 1280 | 1 | 0 | 0 | 0 | 0 | 0 | 0 | 0 | 0 | 0 | 0 | 0 | 0 | 0 | 0 | 0 | 0 |\n",
       "\n"
      ],
      "text/plain": [
       "      MI CHF PVD Stroke Dementia Pulmonary Rheumatic PUD LiverMild DM DMcx\n",
       "256   1  0   1   0      0        1         0         1   0         0  0   \n",
       "512   0  0   0   0      0        0         0         0   0         0  0   \n",
       "768   1  1   0   0      0        1         0         0   0         0  0   \n",
       "1024  0  0   0   0      0        0         0         0   1         0  0   \n",
       "66560 0  0   1   0      0        1         0         0   0         0  0   \n",
       "1280  1  0   0   0      0        0         0         0   0         0  0   \n",
       "      Paralysis Renal Cancer LiverSevere Mets HIV\n",
       "256   0         1     0      0           0    0  \n",
       "512   0         0     0      0           0    0  \n",
       "768   0         1     0      0           0    0  \n",
       "1024  0         0     1      0           0    0  \n",
       "66560 0         0     0      0           0    0  \n",
       "1280  0         0     0      0           0    0  "
      ]
     },
     "metadata": {},
     "output_type": "display_data"
    }
   ],
   "source": [
    "# Convert logicals to numeric\n",
    "cols <- sapply(df_comorb_charlson, is.logical)\n",
    "df_comorb_charlson[,cols] <- lapply(df_comorb_charlson[,cols], as.numeric)\n",
    "head(df_comorb_charlson)"
   ]
  },
  {
   "cell_type": "markdown",
   "id": "64dcdf6f",
   "metadata": {},
   "source": [
    "### Charlston Score"
   ]
  },
  {
   "cell_type": "code",
   "execution_count": 82,
   "id": "5d4606ba",
   "metadata": {},
   "outputs": [
    {
     "data": {
      "text/html": [
       "<table class=\"dataframe\">\n",
       "<caption>A data.frame: 15 × 1</caption>\n",
       "<thead>\n",
       "\t<tr><th></th><th scope=col>charlson_score</th></tr>\n",
       "\t<tr><th></th><th scope=col>&lt;dbl&gt;</th></tr>\n",
       "</thead>\n",
       "<tbody>\n",
       "\t<tr><th scope=row>256</th><td>6</td></tr>\n",
       "\t<tr><th scope=row>512</th><td>0</td></tr>\n",
       "\t<tr><th scope=row>768</th><td>5</td></tr>\n",
       "\t<tr><th scope=row>1024</th><td>3</td></tr>\n",
       "\t<tr><th scope=row>66560</th><td>2</td></tr>\n",
       "\t<tr><th scope=row>1280</th><td>1</td></tr>\n",
       "\t<tr><th scope=row>67072</th><td>4</td></tr>\n",
       "\t<tr><th scope=row>1792</th><td>2</td></tr>\n",
       "\t<tr><th scope=row>2048</th><td>0</td></tr>\n",
       "\t<tr><th scope=row>2304</th><td>1</td></tr>\n",
       "\t<tr><th scope=row>2560</th><td>0</td></tr>\n",
       "\t<tr><th scope=row>2816</th><td>0</td></tr>\n",
       "\t<tr><th scope=row>68352</th><td>1</td></tr>\n",
       "\t<tr><th scope=row>3328</th><td>4</td></tr>\n",
       "\t<tr><th scope=row>3840</th><td>3</td></tr>\n",
       "</tbody>\n",
       "</table>\n"
      ],
      "text/latex": [
       "A data.frame: 15 × 1\n",
       "\\begin{tabular}{r|l}\n",
       "  & charlson\\_score\\\\\n",
       "  & <dbl>\\\\\n",
       "\\hline\n",
       "\t256 & 6\\\\\n",
       "\t512 & 0\\\\\n",
       "\t768 & 5\\\\\n",
       "\t1024 & 3\\\\\n",
       "\t66560 & 2\\\\\n",
       "\t1280 & 1\\\\\n",
       "\t67072 & 4\\\\\n",
       "\t1792 & 2\\\\\n",
       "\t2048 & 0\\\\\n",
       "\t2304 & 1\\\\\n",
       "\t2560 & 0\\\\\n",
       "\t2816 & 0\\\\\n",
       "\t68352 & 1\\\\\n",
       "\t3328 & 4\\\\\n",
       "\t3840 & 3\\\\\n",
       "\\end{tabular}\n"
      ],
      "text/markdown": [
       "\n",
       "A data.frame: 15 × 1\n",
       "\n",
       "| <!--/--> | charlson_score &lt;dbl&gt; |\n",
       "|---|---|\n",
       "| 256 | 6 |\n",
       "| 512 | 0 |\n",
       "| 768 | 5 |\n",
       "| 1024 | 3 |\n",
       "| 66560 | 2 |\n",
       "| 1280 | 1 |\n",
       "| 67072 | 4 |\n",
       "| 1792 | 2 |\n",
       "| 2048 | 0 |\n",
       "| 2304 | 1 |\n",
       "| 2560 | 0 |\n",
       "| 2816 | 0 |\n",
       "| 68352 | 1 |\n",
       "| 3328 | 4 |\n",
       "| 3840 | 3 |\n",
       "\n"
      ],
      "text/plain": [
       "      charlson_score\n",
       "256   6             \n",
       "512   0             \n",
       "768   5             \n",
       "1024  3             \n",
       "66560 2             \n",
       "1280  1             \n",
       "67072 4             \n",
       "1792  2             \n",
       "2048  0             \n",
       "2304  1             \n",
       "2560  0             \n",
       "2816  0             \n",
       "68352 1             \n",
       "3328  4             \n",
       "3840  3             "
      ]
     },
     "metadata": {},
     "output_type": "display_data"
    }
   ],
   "source": [
    "# Calculcate charlson score\n",
    "charlson_score <- charlson(df_comorb)\n",
    "\n",
    "# Save as dataframe\n",
    "df_charlson_score <- as.data.frame(charlson_score)\n",
    "head(df_charlson_score, 15)"
   ]
  },
  {
   "cell_type": "markdown",
   "id": "9a5fc177",
   "metadata": {},
   "source": [
    "### Joining Both DataFrames"
   ]
  },
  {
   "cell_type": "code",
   "execution_count": 83,
   "id": "8d33dddf",
   "metadata": {},
   "outputs": [
    {
     "data": {
      "text/html": [
       "<style>\n",
       ".list-inline {list-style: none; margin:0; padding: 0}\n",
       ".list-inline>li {display: inline-block}\n",
       ".list-inline>li:not(:last-child)::after {content: \"\\00b7\"; padding: 0 .5ex}\n",
       "</style>\n",
       "<ol class=list-inline><li>'256'</li><li>'512'</li><li>'768'</li><li>'1024'</li><li>'66560'</li><li>'1280'</li><li>'67072'</li><li>'1792'</li><li>'2048'</li><li>'2304'</li><li>'2560'</li><li>'2816'</li><li>'68352'</li><li>'3328'</li><li>'3840'</li></ol>\n"
      ],
      "text/latex": [
       "\\begin{enumerate*}\n",
       "\\item '256'\n",
       "\\item '512'\n",
       "\\item '768'\n",
       "\\item '1024'\n",
       "\\item '66560'\n",
       "\\item '1280'\n",
       "\\item '67072'\n",
       "\\item '1792'\n",
       "\\item '2048'\n",
       "\\item '2304'\n",
       "\\item '2560'\n",
       "\\item '2816'\n",
       "\\item '68352'\n",
       "\\item '3328'\n",
       "\\item '3840'\n",
       "\\end{enumerate*}\n"
      ],
      "text/markdown": [
       "1. '256'\n",
       "2. '512'\n",
       "3. '768'\n",
       "4. '1024'\n",
       "5. '66560'\n",
       "6. '1280'\n",
       "7. '67072'\n",
       "8. '1792'\n",
       "9. '2048'\n",
       "10. '2304'\n",
       "11. '2560'\n",
       "12. '2816'\n",
       "13. '68352'\n",
       "14. '3328'\n",
       "15. '3840'\n",
       "\n",
       "\n"
      ],
      "text/plain": [
       " [1] \"256\"   \"512\"   \"768\"   \"1024\"  \"66560\" \"1280\"  \"67072\" \"1792\"  \"2048\" \n",
       "[10] \"2304\"  \"2560\"  \"2816\"  \"68352\" \"3328\"  \"3840\" "
      ]
     },
     "metadata": {},
     "output_type": "display_data"
    },
    {
     "data": {
      "text/html": [
       "<style>\n",
       ".list-inline {list-style: none; margin:0; padding: 0}\n",
       ".list-inline>li {display: inline-block}\n",
       ".list-inline>li:not(:last-child)::after {content: \"\\00b7\"; padding: 0 .5ex}\n",
       "</style>\n",
       "<ol class=list-inline><li>'256'</li><li>'512'</li><li>'768'</li><li>'1024'</li><li>'66560'</li><li>'1280'</li><li>'67072'</li><li>'1792'</li><li>'2048'</li><li>'2304'</li><li>'2560'</li><li>'2816'</li><li>'68352'</li><li>'3328'</li><li>'3840'</li></ol>\n"
      ],
      "text/latex": [
       "\\begin{enumerate*}\n",
       "\\item '256'\n",
       "\\item '512'\n",
       "\\item '768'\n",
       "\\item '1024'\n",
       "\\item '66560'\n",
       "\\item '1280'\n",
       "\\item '67072'\n",
       "\\item '1792'\n",
       "\\item '2048'\n",
       "\\item '2304'\n",
       "\\item '2560'\n",
       "\\item '2816'\n",
       "\\item '68352'\n",
       "\\item '3328'\n",
       "\\item '3840'\n",
       "\\end{enumerate*}\n"
      ],
      "text/markdown": [
       "1. '256'\n",
       "2. '512'\n",
       "3. '768'\n",
       "4. '1024'\n",
       "5. '66560'\n",
       "6. '1280'\n",
       "7. '67072'\n",
       "8. '1792'\n",
       "9. '2048'\n",
       "10. '2304'\n",
       "11. '2560'\n",
       "12. '2816'\n",
       "13. '68352'\n",
       "14. '3328'\n",
       "15. '3840'\n",
       "\n",
       "\n"
      ],
      "text/plain": [
       " [1] \"256\"   \"512\"   \"768\"   \"1024\"  \"66560\" \"1280\"  \"67072\" \"1792\"  \"2048\" \n",
       "[10] \"2304\"  \"2560\"  \"2816\"  \"68352\" \"3328\"  \"3840\" "
      ]
     },
     "metadata": {},
     "output_type": "display_data"
    }
   ],
   "source": [
    "# Investigate unique SUBJECT_IDs in both dataframes\n",
    "head(unique(rownames(df_comorb_charlson)), 15)\n",
    "head(unique(rownames(df_charlson_score)), 15)"
   ]
  },
  {
   "cell_type": "code",
   "execution_count": 84,
   "id": "b859d6f8",
   "metadata": {},
   "outputs": [
    {
     "data": {
      "text/html": [
       "<table class=\"dataframe\">\n",
       "<caption>A data.frame: 6 × 18</caption>\n",
       "<thead>\n",
       "\t<tr><th></th><th scope=col>subject_id</th><th scope=col>MI</th><th scope=col>CHF</th><th scope=col>PVD</th><th scope=col>Stroke</th><th scope=col>Dementia</th><th scope=col>Pulmonary</th><th scope=col>Rheumatic</th><th scope=col>PUD</th><th scope=col>LiverMild</th><th scope=col>DM</th><th scope=col>DMcx</th><th scope=col>Paralysis</th><th scope=col>Renal</th><th scope=col>Cancer</th><th scope=col>LiverSevere</th><th scope=col>Mets</th><th scope=col>HIV</th></tr>\n",
       "\t<tr><th></th><th scope=col>&lt;chr&gt;</th><th scope=col>&lt;dbl&gt;</th><th scope=col>&lt;dbl&gt;</th><th scope=col>&lt;dbl&gt;</th><th scope=col>&lt;dbl&gt;</th><th scope=col>&lt;dbl&gt;</th><th scope=col>&lt;dbl&gt;</th><th scope=col>&lt;dbl&gt;</th><th scope=col>&lt;dbl&gt;</th><th scope=col>&lt;dbl&gt;</th><th scope=col>&lt;dbl&gt;</th><th scope=col>&lt;dbl&gt;</th><th scope=col>&lt;dbl&gt;</th><th scope=col>&lt;dbl&gt;</th><th scope=col>&lt;dbl&gt;</th><th scope=col>&lt;dbl&gt;</th><th scope=col>&lt;dbl&gt;</th><th scope=col>&lt;dbl&gt;</th></tr>\n",
       "</thead>\n",
       "<tbody>\n",
       "\t<tr><th scope=row>1</th><td>256  </td><td>1</td><td>0</td><td>1</td><td>0</td><td>0</td><td>1</td><td>0</td><td>1</td><td>0</td><td>0</td><td>0</td><td>0</td><td>1</td><td>0</td><td>0</td><td>0</td><td>0</td></tr>\n",
       "\t<tr><th scope=row>2</th><td>512  </td><td>0</td><td>0</td><td>0</td><td>0</td><td>0</td><td>0</td><td>0</td><td>0</td><td>0</td><td>0</td><td>0</td><td>0</td><td>0</td><td>0</td><td>0</td><td>0</td><td>0</td></tr>\n",
       "\t<tr><th scope=row>3</th><td>768  </td><td>1</td><td>1</td><td>0</td><td>0</td><td>0</td><td>1</td><td>0</td><td>0</td><td>0</td><td>0</td><td>0</td><td>0</td><td>1</td><td>0</td><td>0</td><td>0</td><td>0</td></tr>\n",
       "\t<tr><th scope=row>4</th><td>1024 </td><td>0</td><td>0</td><td>0</td><td>0</td><td>0</td><td>0</td><td>0</td><td>0</td><td>1</td><td>0</td><td>0</td><td>0</td><td>0</td><td>1</td><td>0</td><td>0</td><td>0</td></tr>\n",
       "\t<tr><th scope=row>5</th><td>66560</td><td>0</td><td>0</td><td>1</td><td>0</td><td>0</td><td>1</td><td>0</td><td>0</td><td>0</td><td>0</td><td>0</td><td>0</td><td>0</td><td>0</td><td>0</td><td>0</td><td>0</td></tr>\n",
       "\t<tr><th scope=row>6</th><td>1280 </td><td>1</td><td>0</td><td>0</td><td>0</td><td>0</td><td>0</td><td>0</td><td>0</td><td>0</td><td>0</td><td>0</td><td>0</td><td>0</td><td>0</td><td>0</td><td>0</td><td>0</td></tr>\n",
       "</tbody>\n",
       "</table>\n"
      ],
      "text/latex": [
       "A data.frame: 6 × 18\n",
       "\\begin{tabular}{r|llllllllllllllllll}\n",
       "  & subject\\_id & MI & CHF & PVD & Stroke & Dementia & Pulmonary & Rheumatic & PUD & LiverMild & DM & DMcx & Paralysis & Renal & Cancer & LiverSevere & Mets & HIV\\\\\n",
       "  & <chr> & <dbl> & <dbl> & <dbl> & <dbl> & <dbl> & <dbl> & <dbl> & <dbl> & <dbl> & <dbl> & <dbl> & <dbl> & <dbl> & <dbl> & <dbl> & <dbl> & <dbl>\\\\\n",
       "\\hline\n",
       "\t1 & 256   & 1 & 0 & 1 & 0 & 0 & 1 & 0 & 1 & 0 & 0 & 0 & 0 & 1 & 0 & 0 & 0 & 0\\\\\n",
       "\t2 & 512   & 0 & 0 & 0 & 0 & 0 & 0 & 0 & 0 & 0 & 0 & 0 & 0 & 0 & 0 & 0 & 0 & 0\\\\\n",
       "\t3 & 768   & 1 & 1 & 0 & 0 & 0 & 1 & 0 & 0 & 0 & 0 & 0 & 0 & 1 & 0 & 0 & 0 & 0\\\\\n",
       "\t4 & 1024  & 0 & 0 & 0 & 0 & 0 & 0 & 0 & 0 & 1 & 0 & 0 & 0 & 0 & 1 & 0 & 0 & 0\\\\\n",
       "\t5 & 66560 & 0 & 0 & 1 & 0 & 0 & 1 & 0 & 0 & 0 & 0 & 0 & 0 & 0 & 0 & 0 & 0 & 0\\\\\n",
       "\t6 & 1280  & 1 & 0 & 0 & 0 & 0 & 0 & 0 & 0 & 0 & 0 & 0 & 0 & 0 & 0 & 0 & 0 & 0\\\\\n",
       "\\end{tabular}\n"
      ],
      "text/markdown": [
       "\n",
       "A data.frame: 6 × 18\n",
       "\n",
       "| <!--/--> | subject_id &lt;chr&gt; | MI &lt;dbl&gt; | CHF &lt;dbl&gt; | PVD &lt;dbl&gt; | Stroke &lt;dbl&gt; | Dementia &lt;dbl&gt; | Pulmonary &lt;dbl&gt; | Rheumatic &lt;dbl&gt; | PUD &lt;dbl&gt; | LiverMild &lt;dbl&gt; | DM &lt;dbl&gt; | DMcx &lt;dbl&gt; | Paralysis &lt;dbl&gt; | Renal &lt;dbl&gt; | Cancer &lt;dbl&gt; | LiverSevere &lt;dbl&gt; | Mets &lt;dbl&gt; | HIV &lt;dbl&gt; |\n",
       "|---|---|---|---|---|---|---|---|---|---|---|---|---|---|---|---|---|---|---|\n",
       "| 1 | 256   | 1 | 0 | 1 | 0 | 0 | 1 | 0 | 1 | 0 | 0 | 0 | 0 | 1 | 0 | 0 | 0 | 0 |\n",
       "| 2 | 512   | 0 | 0 | 0 | 0 | 0 | 0 | 0 | 0 | 0 | 0 | 0 | 0 | 0 | 0 | 0 | 0 | 0 |\n",
       "| 3 | 768   | 1 | 1 | 0 | 0 | 0 | 1 | 0 | 0 | 0 | 0 | 0 | 0 | 1 | 0 | 0 | 0 | 0 |\n",
       "| 4 | 1024  | 0 | 0 | 0 | 0 | 0 | 0 | 0 | 0 | 1 | 0 | 0 | 0 | 0 | 1 | 0 | 0 | 0 |\n",
       "| 5 | 66560 | 0 | 0 | 1 | 0 | 0 | 1 | 0 | 0 | 0 | 0 | 0 | 0 | 0 | 0 | 0 | 0 | 0 |\n",
       "| 6 | 1280  | 1 | 0 | 0 | 0 | 0 | 0 | 0 | 0 | 0 | 0 | 0 | 0 | 0 | 0 | 0 | 0 | 0 |\n",
       "\n"
      ],
      "text/plain": [
       "  subject_id MI CHF PVD Stroke Dementia Pulmonary Rheumatic PUD LiverMild DM\n",
       "1 256        1  0   1   0      0        1         0         1   0         0 \n",
       "2 512        0  0   0   0      0        0         0         0   0         0 \n",
       "3 768        1  1   0   0      0        1         0         0   0         0 \n",
       "4 1024       0  0   0   0      0        0         0         0   1         0 \n",
       "5 66560      0  0   1   0      0        1         0         0   0         0 \n",
       "6 1280       1  0   0   0      0        0         0         0   0         0 \n",
       "  DMcx Paralysis Renal Cancer LiverSevere Mets HIV\n",
       "1 0    0         1     0      0           0    0  \n",
       "2 0    0         0     0      0           0    0  \n",
       "3 0    0         1     0      0           0    0  \n",
       "4 0    0         0     1      0           0    0  \n",
       "5 0    0         0     0      0           0    0  \n",
       "6 0    0         0     0      0           0    0  "
      ]
     },
     "metadata": {},
     "output_type": "display_data"
    },
    {
     "data": {
      "text/html": [
       "<table class=\"dataframe\">\n",
       "<caption>A data.frame: 6 × 2</caption>\n",
       "<thead>\n",
       "\t<tr><th></th><th scope=col>subject_id</th><th scope=col>charlson_score</th></tr>\n",
       "\t<tr><th></th><th scope=col>&lt;chr&gt;</th><th scope=col>&lt;dbl&gt;</th></tr>\n",
       "</thead>\n",
       "<tbody>\n",
       "\t<tr><th scope=row>1</th><td>256  </td><td>6</td></tr>\n",
       "\t<tr><th scope=row>2</th><td>512  </td><td>0</td></tr>\n",
       "\t<tr><th scope=row>3</th><td>768  </td><td>5</td></tr>\n",
       "\t<tr><th scope=row>4</th><td>1024 </td><td>3</td></tr>\n",
       "\t<tr><th scope=row>5</th><td>66560</td><td>2</td></tr>\n",
       "\t<tr><th scope=row>6</th><td>1280 </td><td>1</td></tr>\n",
       "</tbody>\n",
       "</table>\n"
      ],
      "text/latex": [
       "A data.frame: 6 × 2\n",
       "\\begin{tabular}{r|ll}\n",
       "  & subject\\_id & charlson\\_score\\\\\n",
       "  & <chr> & <dbl>\\\\\n",
       "\\hline\n",
       "\t1 & 256   & 6\\\\\n",
       "\t2 & 512   & 0\\\\\n",
       "\t3 & 768   & 5\\\\\n",
       "\t4 & 1024  & 3\\\\\n",
       "\t5 & 66560 & 2\\\\\n",
       "\t6 & 1280  & 1\\\\\n",
       "\\end{tabular}\n"
      ],
      "text/markdown": [
       "\n",
       "A data.frame: 6 × 2\n",
       "\n",
       "| <!--/--> | subject_id &lt;chr&gt; | charlson_score &lt;dbl&gt; |\n",
       "|---|---|---|\n",
       "| 1 | 256   | 6 |\n",
       "| 2 | 512   | 0 |\n",
       "| 3 | 768   | 5 |\n",
       "| 4 | 1024  | 3 |\n",
       "| 5 | 66560 | 2 |\n",
       "| 6 | 1280  | 1 |\n",
       "\n"
      ],
      "text/plain": [
       "  subject_id charlson_score\n",
       "1 256        6             \n",
       "2 512        0             \n",
       "3 768        5             \n",
       "4 1024       3             \n",
       "5 66560      2             \n",
       "6 1280       1             "
      ]
     },
     "metadata": {},
     "output_type": "display_data"
    }
   ],
   "source": [
    "# Add rownames (pythonic: index) as column\n",
    "library(tibble)\n",
    "df_comorb_charlson_idx <- tibble::rownames_to_column(df_comorb_charlson, \"subject_id\")\n",
    "df_charlson_score_idx <- tibble::rownames_to_column(df_charlson_score, \"subject_id\")\n",
    "\n",
    "head(df_comorb_charlson_idx) \n",
    "head(df_charlson_score_idx) "
   ]
  },
  {
   "cell_type": "code",
   "execution_count": 85,
   "id": "cd8f76ac",
   "metadata": {},
   "outputs": [
    {
     "data": {
      "text/html": [
       "<table class=\"dataframe\">\n",
       "<caption>A data.frame: 15 × 19</caption>\n",
       "<thead>\n",
       "\t<tr><th></th><th scope=col>subject_id</th><th scope=col>MI</th><th scope=col>CHF</th><th scope=col>PVD</th><th scope=col>Stroke</th><th scope=col>Dementia</th><th scope=col>Pulmonary</th><th scope=col>Rheumatic</th><th scope=col>PUD</th><th scope=col>LiverMild</th><th scope=col>DM</th><th scope=col>DMcx</th><th scope=col>Paralysis</th><th scope=col>Renal</th><th scope=col>Cancer</th><th scope=col>LiverSevere</th><th scope=col>Mets</th><th scope=col>HIV</th><th scope=col>charlson_score</th></tr>\n",
       "\t<tr><th></th><th scope=col>&lt;chr&gt;</th><th scope=col>&lt;dbl&gt;</th><th scope=col>&lt;dbl&gt;</th><th scope=col>&lt;dbl&gt;</th><th scope=col>&lt;dbl&gt;</th><th scope=col>&lt;dbl&gt;</th><th scope=col>&lt;dbl&gt;</th><th scope=col>&lt;dbl&gt;</th><th scope=col>&lt;dbl&gt;</th><th scope=col>&lt;dbl&gt;</th><th scope=col>&lt;dbl&gt;</th><th scope=col>&lt;dbl&gt;</th><th scope=col>&lt;dbl&gt;</th><th scope=col>&lt;dbl&gt;</th><th scope=col>&lt;dbl&gt;</th><th scope=col>&lt;dbl&gt;</th><th scope=col>&lt;dbl&gt;</th><th scope=col>&lt;dbl&gt;</th><th scope=col>&lt;dbl&gt;</th></tr>\n",
       "</thead>\n",
       "<tbody>\n",
       "\t<tr><th scope=row>1</th><td>10   </td><td>0</td><td>0</td><td>0</td><td>0</td><td>0</td><td>0</td><td>0</td><td>0</td><td>0</td><td>0</td><td>0</td><td>0</td><td>0</td><td>0</td><td>0</td><td>0</td><td>0</td><td>0</td></tr>\n",
       "\t<tr><th scope=row>2</th><td>100  </td><td>0</td><td>0</td><td>1</td><td>0</td><td>0</td><td>0</td><td>0</td><td>0</td><td>0</td><td>0</td><td>0</td><td>0</td><td>0</td><td>0</td><td>0</td><td>0</td><td>0</td><td>1</td></tr>\n",
       "\t<tr><th scope=row>3</th><td>1000 </td><td>0</td><td>1</td><td>0</td><td>0</td><td>0</td><td>0</td><td>0</td><td>0</td><td>0</td><td>0</td><td>0</td><td>0</td><td>1</td><td>1</td><td>0</td><td>0</td><td>0</td><td>5</td></tr>\n",
       "\t<tr><th scope=row>4</th><td>10000</td><td>0</td><td>0</td><td>0</td><td>0</td><td>0</td><td>0</td><td>0</td><td>0</td><td>0</td><td>1</td><td>0</td><td>0</td><td>1</td><td>0</td><td>1</td><td>0</td><td>0</td><td>6</td></tr>\n",
       "\t<tr><th scope=row>5</th><td>10001</td><td>0</td><td>0</td><td>0</td><td>0</td><td>0</td><td>0</td><td>0</td><td>0</td><td>0</td><td>0</td><td>0</td><td>0</td><td>0</td><td>0</td><td>0</td><td>0</td><td>0</td><td>0</td></tr>\n",
       "\t<tr><th scope=row>6</th><td>10002</td><td>0</td><td>0</td><td>0</td><td>0</td><td>0</td><td>0</td><td>0</td><td>0</td><td>0</td><td>0</td><td>0</td><td>0</td><td>0</td><td>0</td><td>0</td><td>0</td><td>0</td><td>0</td></tr>\n",
       "\t<tr><th scope=row>7</th><td>10003</td><td>0</td><td>0</td><td>0</td><td>0</td><td>0</td><td>0</td><td>0</td><td>0</td><td>0</td><td>0</td><td>0</td><td>0</td><td>0</td><td>0</td><td>0</td><td>0</td><td>0</td><td>0</td></tr>\n",
       "\t<tr><th scope=row>8</th><td>10004</td><td>0</td><td>0</td><td>0</td><td>0</td><td>0</td><td>0</td><td>0</td><td>0</td><td>0</td><td>1</td><td>0</td><td>0</td><td>0</td><td>0</td><td>0</td><td>0</td><td>0</td><td>1</td></tr>\n",
       "\t<tr><th scope=row>9</th><td>10005</td><td>0</td><td>0</td><td>0</td><td>0</td><td>0</td><td>0</td><td>0</td><td>0</td><td>0</td><td>0</td><td>0</td><td>0</td><td>0</td><td>0</td><td>0</td><td>0</td><td>0</td><td>0</td></tr>\n",
       "\t<tr><th scope=row>10</th><td>10006</td><td>0</td><td>1</td><td>0</td><td>0</td><td>0</td><td>0</td><td>0</td><td>0</td><td>0</td><td>1</td><td>0</td><td>0</td><td>1</td><td>0</td><td>0</td><td>0</td><td>0</td><td>4</td></tr>\n",
       "\t<tr><th scope=row>11</th><td>10007</td><td>0</td><td>0</td><td>1</td><td>1</td><td>0</td><td>0</td><td>0</td><td>0</td><td>0</td><td>1</td><td>0</td><td>0</td><td>0</td><td>0</td><td>0</td><td>0</td><td>0</td><td>3</td></tr>\n",
       "\t<tr><th scope=row>12</th><td>10008</td><td>0</td><td>0</td><td>0</td><td>0</td><td>0</td><td>0</td><td>0</td><td>0</td><td>0</td><td>0</td><td>0</td><td>0</td><td>0</td><td>0</td><td>0</td><td>0</td><td>0</td><td>0</td></tr>\n",
       "\t<tr><th scope=row>13</th><td>10009</td><td>0</td><td>0</td><td>0</td><td>0</td><td>0</td><td>0</td><td>0</td><td>0</td><td>0</td><td>0</td><td>0</td><td>0</td><td>0</td><td>0</td><td>0</td><td>0</td><td>0</td><td>0</td></tr>\n",
       "\t<tr><th scope=row>14</th><td>1001 </td><td>0</td><td>0</td><td>0</td><td>1</td><td>0</td><td>1</td><td>0</td><td>0</td><td>0</td><td>0</td><td>0</td><td>0</td><td>0</td><td>0</td><td>0</td><td>0</td><td>0</td><td>2</td></tr>\n",
       "\t<tr><th scope=row>15</th><td>10010</td><td>0</td><td>0</td><td>0</td><td>0</td><td>0</td><td>0</td><td>0</td><td>0</td><td>0</td><td>0</td><td>0</td><td>0</td><td>0</td><td>0</td><td>0</td><td>0</td><td>0</td><td>0</td></tr>\n",
       "</tbody>\n",
       "</table>\n"
      ],
      "text/latex": [
       "A data.frame: 15 × 19\n",
       "\\begin{tabular}{r|lllllllllllllllllll}\n",
       "  & subject\\_id & MI & CHF & PVD & Stroke & Dementia & Pulmonary & Rheumatic & PUD & LiverMild & DM & DMcx & Paralysis & Renal & Cancer & LiverSevere & Mets & HIV & charlson\\_score\\\\\n",
       "  & <chr> & <dbl> & <dbl> & <dbl> & <dbl> & <dbl> & <dbl> & <dbl> & <dbl> & <dbl> & <dbl> & <dbl> & <dbl> & <dbl> & <dbl> & <dbl> & <dbl> & <dbl> & <dbl>\\\\\n",
       "\\hline\n",
       "\t1 & 10    & 0 & 0 & 0 & 0 & 0 & 0 & 0 & 0 & 0 & 0 & 0 & 0 & 0 & 0 & 0 & 0 & 0 & 0\\\\\n",
       "\t2 & 100   & 0 & 0 & 1 & 0 & 0 & 0 & 0 & 0 & 0 & 0 & 0 & 0 & 0 & 0 & 0 & 0 & 0 & 1\\\\\n",
       "\t3 & 1000  & 0 & 1 & 0 & 0 & 0 & 0 & 0 & 0 & 0 & 0 & 0 & 0 & 1 & 1 & 0 & 0 & 0 & 5\\\\\n",
       "\t4 & 10000 & 0 & 0 & 0 & 0 & 0 & 0 & 0 & 0 & 0 & 1 & 0 & 0 & 1 & 0 & 1 & 0 & 0 & 6\\\\\n",
       "\t5 & 10001 & 0 & 0 & 0 & 0 & 0 & 0 & 0 & 0 & 0 & 0 & 0 & 0 & 0 & 0 & 0 & 0 & 0 & 0\\\\\n",
       "\t6 & 10002 & 0 & 0 & 0 & 0 & 0 & 0 & 0 & 0 & 0 & 0 & 0 & 0 & 0 & 0 & 0 & 0 & 0 & 0\\\\\n",
       "\t7 & 10003 & 0 & 0 & 0 & 0 & 0 & 0 & 0 & 0 & 0 & 0 & 0 & 0 & 0 & 0 & 0 & 0 & 0 & 0\\\\\n",
       "\t8 & 10004 & 0 & 0 & 0 & 0 & 0 & 0 & 0 & 0 & 0 & 1 & 0 & 0 & 0 & 0 & 0 & 0 & 0 & 1\\\\\n",
       "\t9 & 10005 & 0 & 0 & 0 & 0 & 0 & 0 & 0 & 0 & 0 & 0 & 0 & 0 & 0 & 0 & 0 & 0 & 0 & 0\\\\\n",
       "\t10 & 10006 & 0 & 1 & 0 & 0 & 0 & 0 & 0 & 0 & 0 & 1 & 0 & 0 & 1 & 0 & 0 & 0 & 0 & 4\\\\\n",
       "\t11 & 10007 & 0 & 0 & 1 & 1 & 0 & 0 & 0 & 0 & 0 & 1 & 0 & 0 & 0 & 0 & 0 & 0 & 0 & 3\\\\\n",
       "\t12 & 10008 & 0 & 0 & 0 & 0 & 0 & 0 & 0 & 0 & 0 & 0 & 0 & 0 & 0 & 0 & 0 & 0 & 0 & 0\\\\\n",
       "\t13 & 10009 & 0 & 0 & 0 & 0 & 0 & 0 & 0 & 0 & 0 & 0 & 0 & 0 & 0 & 0 & 0 & 0 & 0 & 0\\\\\n",
       "\t14 & 1001  & 0 & 0 & 0 & 1 & 0 & 1 & 0 & 0 & 0 & 0 & 0 & 0 & 0 & 0 & 0 & 0 & 0 & 2\\\\\n",
       "\t15 & 10010 & 0 & 0 & 0 & 0 & 0 & 0 & 0 & 0 & 0 & 0 & 0 & 0 & 0 & 0 & 0 & 0 & 0 & 0\\\\\n",
       "\\end{tabular}\n"
      ],
      "text/markdown": [
       "\n",
       "A data.frame: 15 × 19\n",
       "\n",
       "| <!--/--> | subject_id &lt;chr&gt; | MI &lt;dbl&gt; | CHF &lt;dbl&gt; | PVD &lt;dbl&gt; | Stroke &lt;dbl&gt; | Dementia &lt;dbl&gt; | Pulmonary &lt;dbl&gt; | Rheumatic &lt;dbl&gt; | PUD &lt;dbl&gt; | LiverMild &lt;dbl&gt; | DM &lt;dbl&gt; | DMcx &lt;dbl&gt; | Paralysis &lt;dbl&gt; | Renal &lt;dbl&gt; | Cancer &lt;dbl&gt; | LiverSevere &lt;dbl&gt; | Mets &lt;dbl&gt; | HIV &lt;dbl&gt; | charlson_score &lt;dbl&gt; |\n",
       "|---|---|---|---|---|---|---|---|---|---|---|---|---|---|---|---|---|---|---|---|\n",
       "| 1 | 10    | 0 | 0 | 0 | 0 | 0 | 0 | 0 | 0 | 0 | 0 | 0 | 0 | 0 | 0 | 0 | 0 | 0 | 0 |\n",
       "| 2 | 100   | 0 | 0 | 1 | 0 | 0 | 0 | 0 | 0 | 0 | 0 | 0 | 0 | 0 | 0 | 0 | 0 | 0 | 1 |\n",
       "| 3 | 1000  | 0 | 1 | 0 | 0 | 0 | 0 | 0 | 0 | 0 | 0 | 0 | 0 | 1 | 1 | 0 | 0 | 0 | 5 |\n",
       "| 4 | 10000 | 0 | 0 | 0 | 0 | 0 | 0 | 0 | 0 | 0 | 1 | 0 | 0 | 1 | 0 | 1 | 0 | 0 | 6 |\n",
       "| 5 | 10001 | 0 | 0 | 0 | 0 | 0 | 0 | 0 | 0 | 0 | 0 | 0 | 0 | 0 | 0 | 0 | 0 | 0 | 0 |\n",
       "| 6 | 10002 | 0 | 0 | 0 | 0 | 0 | 0 | 0 | 0 | 0 | 0 | 0 | 0 | 0 | 0 | 0 | 0 | 0 | 0 |\n",
       "| 7 | 10003 | 0 | 0 | 0 | 0 | 0 | 0 | 0 | 0 | 0 | 0 | 0 | 0 | 0 | 0 | 0 | 0 | 0 | 0 |\n",
       "| 8 | 10004 | 0 | 0 | 0 | 0 | 0 | 0 | 0 | 0 | 0 | 1 | 0 | 0 | 0 | 0 | 0 | 0 | 0 | 1 |\n",
       "| 9 | 10005 | 0 | 0 | 0 | 0 | 0 | 0 | 0 | 0 | 0 | 0 | 0 | 0 | 0 | 0 | 0 | 0 | 0 | 0 |\n",
       "| 10 | 10006 | 0 | 1 | 0 | 0 | 0 | 0 | 0 | 0 | 0 | 1 | 0 | 0 | 1 | 0 | 0 | 0 | 0 | 4 |\n",
       "| 11 | 10007 | 0 | 0 | 1 | 1 | 0 | 0 | 0 | 0 | 0 | 1 | 0 | 0 | 0 | 0 | 0 | 0 | 0 | 3 |\n",
       "| 12 | 10008 | 0 | 0 | 0 | 0 | 0 | 0 | 0 | 0 | 0 | 0 | 0 | 0 | 0 | 0 | 0 | 0 | 0 | 0 |\n",
       "| 13 | 10009 | 0 | 0 | 0 | 0 | 0 | 0 | 0 | 0 | 0 | 0 | 0 | 0 | 0 | 0 | 0 | 0 | 0 | 0 |\n",
       "| 14 | 1001  | 0 | 0 | 0 | 1 | 0 | 1 | 0 | 0 | 0 | 0 | 0 | 0 | 0 | 0 | 0 | 0 | 0 | 2 |\n",
       "| 15 | 10010 | 0 | 0 | 0 | 0 | 0 | 0 | 0 | 0 | 0 | 0 | 0 | 0 | 0 | 0 | 0 | 0 | 0 | 0 |\n",
       "\n"
      ],
      "text/plain": [
       "   subject_id MI CHF PVD Stroke Dementia Pulmonary Rheumatic PUD LiverMild DM\n",
       "1  10         0  0   0   0      0        0         0         0   0         0 \n",
       "2  100        0  0   1   0      0        0         0         0   0         0 \n",
       "3  1000       0  1   0   0      0        0         0         0   0         0 \n",
       "4  10000      0  0   0   0      0        0         0         0   0         1 \n",
       "5  10001      0  0   0   0      0        0         0         0   0         0 \n",
       "6  10002      0  0   0   0      0        0         0         0   0         0 \n",
       "7  10003      0  0   0   0      0        0         0         0   0         0 \n",
       "8  10004      0  0   0   0      0        0         0         0   0         1 \n",
       "9  10005      0  0   0   0      0        0         0         0   0         0 \n",
       "10 10006      0  1   0   0      0        0         0         0   0         1 \n",
       "11 10007      0  0   1   1      0        0         0         0   0         1 \n",
       "12 10008      0  0   0   0      0        0         0         0   0         0 \n",
       "13 10009      0  0   0   0      0        0         0         0   0         0 \n",
       "14 1001       0  0   0   1      0        1         0         0   0         0 \n",
       "15 10010      0  0   0   0      0        0         0         0   0         0 \n",
       "   DMcx Paralysis Renal Cancer LiverSevere Mets HIV charlson_score\n",
       "1  0    0         0     0      0           0    0   0             \n",
       "2  0    0         0     0      0           0    0   1             \n",
       "3  0    0         1     1      0           0    0   5             \n",
       "4  0    0         1     0      1           0    0   6             \n",
       "5  0    0         0     0      0           0    0   0             \n",
       "6  0    0         0     0      0           0    0   0             \n",
       "7  0    0         0     0      0           0    0   0             \n",
       "8  0    0         0     0      0           0    0   1             \n",
       "9  0    0         0     0      0           0    0   0             \n",
       "10 0    0         1     0      0           0    0   4             \n",
       "11 0    0         0     0      0           0    0   3             \n",
       "12 0    0         0     0      0           0    0   0             \n",
       "13 0    0         0     0      0           0    0   0             \n",
       "14 0    0         0     0      0           0    0   2             \n",
       "15 0    0         0     0      0           0    0   0             "
      ]
     },
     "metadata": {},
     "output_type": "display_data"
    }
   ],
   "source": [
    "comorb_final = merge(df_comorb_charlson_idx, df_charlson_score_idx, by = \"subject_id\")\n",
    "head(comorb_final, 15)"
   ]
  },
  {
   "cell_type": "markdown",
   "id": "cc7ac9df",
   "metadata": {},
   "source": [
    "## Export `.csv`"
   ]
  },
  {
   "cell_type": "code",
   "execution_count": 86,
   "id": "eb2ffca2",
   "metadata": {},
   "outputs": [],
   "source": [
    "path = \"/Users/mathiasschindler/Library/Mobile Documents/com~apple~CloudDocs/BSE/_T2--CML2/Project1/Data/out/\"\n",
    "filename = \"comorb_final\"\n",
    "date = format(Sys.time(), \"%Y-%m-%d-%H-%M\", sep = \"\")\n",
    "sep = \"-\"\n",
    "filetype = \".csv\""
   ]
  },
  {
   "cell_type": "code",
   "execution_count": 87,
   "id": "502f715b",
   "metadata": {},
   "outputs": [
    {
     "data": {
      "text/html": [
       "'/Users/mathiasschindler/Library/Mobile Documents/com~apple~CloudDocs/BSE/_T2--CML2/Project1/Data/out/comorb_final-2022-02-08-10-52.csv'"
      ],
      "text/latex": [
       "'/Users/mathiasschindler/Library/Mobile Documents/com\\textasciitilde{}apple\\textasciitilde{}CloudDocs/BSE/\\_T2--CML2/Project1/Data/out/comorb\\_final-2022-02-08-10-52.csv'"
      ],
      "text/markdown": [
       "'/Users/mathiasschindler/Library/Mobile Documents/com~apple~CloudDocs/BSE/_T2--CML2/Project1/Data/out/comorb_final-2022-02-08-10-52.csv'"
      ],
      "text/plain": [
       "[1] \"/Users/mathiasschindler/Library/Mobile Documents/com~apple~CloudDocs/BSE/_T2--CML2/Project1/Data/out/comorb_final-2022-02-08-10-52.csv\""
      ]
     },
     "metadata": {},
     "output_type": "display_data"
    }
   ],
   "source": [
    "finalfilename = paste(path, filename, sep, date, filetype, sep = \"\")\n",
    "finalfilename"
   ]
  },
  {
   "cell_type": "code",
   "execution_count": 88,
   "id": "7689669b",
   "metadata": {},
   "outputs": [],
   "source": [
    "write.csv(comorb_final, finalfilename, row.names = TRUE)"
   ]
  }
 ],
 "metadata": {
  "kernelspec": {
   "display_name": "R",
   "language": "R",
   "name": "ir"
  },
  "language_info": {
   "codemirror_mode": "r",
   "file_extension": ".r",
   "mimetype": "text/x-r-source",
   "name": "R",
   "pygments_lexer": "r",
   "version": "4.1.2"
  }
 },
 "nbformat": 4,
 "nbformat_minor": 5
}
