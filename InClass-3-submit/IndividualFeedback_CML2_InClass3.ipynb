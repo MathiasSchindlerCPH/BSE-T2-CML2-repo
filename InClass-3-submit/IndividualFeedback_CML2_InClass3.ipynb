{
  "nbformat": 4,
  "nbformat_minor": 0,
  "metadata": {
    "colab": {
      "name": "Untitled3.ipynb",
      "provenance": []
    },
    "kernelspec": {
      "name": "python3",
      "display_name": "Python 3"
    },
    "language_info": {
      "name": "python"
    }
  },
  "cells": [
    {
      "cell_type": "markdown",
      "source": [
        "## In-Class Grading\n",
        "\n",
        "| Criteria | Weighting (%) | Score | Justification | Improvements  |\n",
        "|----------|---------------|-------|---------------|---------------|\n",
        "|Code runs | 15           | 15     |               |               |\n",
        "|Data preparation |\t20 | 20 | Excellent data preprocessing and visualisations carried forward from previous assignment  \n",
        "|DT method(s) have been used| 25 | 25 | Consideration of variety of methods and understanding of their default parameters  \n",
        "|Length of stay for each test patient is computed  | 15 | 15 |\n",
        "|Accuracy itself | 15 | 7.5 | < 4.8  \n",
        "|Hyperparameter optimization | 10 | 10 | Several adequate grid searchers considered \n",
        "\n",
        "\n",
        "Score: 92.5"
      ],
      "metadata": {
        "id": "5BPi-Zs7TPjH"
      }
    }
  ]
}