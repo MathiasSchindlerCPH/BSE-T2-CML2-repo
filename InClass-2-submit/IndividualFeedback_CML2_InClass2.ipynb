{
  "nbformat": 4,
  "nbformat_minor": 0,
  "metadata": {
    "colab": {
      "name": "IndividualFeedback_CML2_InClass2.ipynb",
      "provenance": [],
      "collapsed_sections": []
    },
    "kernelspec": {
      "name": "python3",
      "display_name": "Python 3"
    },
    "language_info": {
      "name": "python"
    }
  },
  "cells": [
    {
      "cell_type": "markdown",
      "source": [
        "## In-Class grading\n",
        "\n",
        "| Criteria | Weighting (%) | Score | Justification | Improvements  |\n",
        "|----------|---------------|-------|---------------|---------------|\n",
        "|Code runs | 15            |   15    |               |               |\n",
        "|Data preparation |\t20 | 20 |  Very thorough data exploration and preprocessing. Data imputed, standardised and turned into dummies correctly\n",
        "|SVM used | 20 | 20 | with explicit arguments \n",
        "|test Prob of death | 15 | 15 \n",
        "|Accuracy itself | 15 | 15 | > 0.8\n",
        "|Hyperparameter optimisation | 10 | 10 | good grid shown \n",
        "|Class imbalance management | 5 | 5 | class weight = balance used and probabilities reweighed\n",
        "\n",
        "Score: 100 - well done!"
      ],
      "metadata": {
        "id": "6PoFTaeMJDT0"
      }
    }
  ]
}